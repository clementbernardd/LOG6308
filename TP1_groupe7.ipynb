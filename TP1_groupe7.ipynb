{
 "cells": [
  {
   "cell_type": "markdown",
   "metadata": {},
   "source": [
    "# LOG6308 : Tp1 - Recommendation by collaboratif filtering \n",
    "\n",
    "- Clément Bernard (2096223)\n",
    "- Ghaith Dekhili (1858454)"
   ]
  },
  {
   "cell_type": "markdown",
   "metadata": {},
   "source": [
    "## Importations "
   ]
  },
  {
   "cell_type": "code",
   "execution_count": 22,
   "metadata": {},
   "outputs": [],
   "source": [
    "import numpy as np\n",
    "import pandas as pd \n",
    "import matplotlib.pyplot as plt \n",
    "import os \n",
    "from scipy.spatial import distance\n",
    "from sklearn.metrics.pairwise import cosine_similarity\n",
    "import time\n",
    "from sklearn.cluster import KMeans"
   ]
  },
  {
   "cell_type": "markdown",
   "metadata": {},
   "source": [
    "## Data "
   ]
  },
  {
   "cell_type": "code",
   "execution_count": 23,
   "metadata": {},
   "outputs": [],
   "source": [
    "# The path where is the fold data\n",
    "PATH_DATA = 'data'"
   ]
  },
  {
   "cell_type": "code",
   "execution_count": 24,
   "metadata": {},
   "outputs": [],
   "source": [
    "# The items \n",
    "items = pd.read_csv(os.path.join(PATH_DATA, 'items.csv'), sep='|')\n",
    "# User data \n",
    "u = pd.read_csv(os.path.join(PATH_DATA, 'u.csv'), sep='|')\n",
    "# Votes of the user \n",
    "votes = pd.read_csv(os.path.join(PATH_DATA, 'votes.csv'), sep='|')"
   ]
  },
  {
   "cell_type": "code",
   "execution_count": 25,
   "metadata": {},
   "outputs": [
    {
     "data": {
      "text/html": [
       "<div>\n",
       "<style scoped>\n",
       "    .dataframe tbody tr th:only-of-type {\n",
       "        vertical-align: middle;\n",
       "    }\n",
       "\n",
       "    .dataframe tbody tr th {\n",
       "        vertical-align: top;\n",
       "    }\n",
       "\n",
       "    .dataframe thead th {\n",
       "        text-align: right;\n",
       "    }\n",
       "</style>\n",
       "<table border=\"1\" class=\"dataframe\">\n",
       "  <thead>\n",
       "    <tr style=\"text-align: right;\">\n",
       "      <th></th>\n",
       "      <th>movie id</th>\n",
       "      <th>movie title</th>\n",
       "      <th>release date</th>\n",
       "      <th>video release date</th>\n",
       "      <th>IMDb URL</th>\n",
       "      <th>unknown</th>\n",
       "      <th>Action</th>\n",
       "      <th>Adventure</th>\n",
       "      <th>Animation</th>\n",
       "      <th>Children's</th>\n",
       "      <th>...</th>\n",
       "      <th>Fantasy</th>\n",
       "      <th>Film-Noir</th>\n",
       "      <th>Horror</th>\n",
       "      <th>Musical</th>\n",
       "      <th>Mystery</th>\n",
       "      <th>Romance</th>\n",
       "      <th>Sci-Fi</th>\n",
       "      <th>Thriller</th>\n",
       "      <th>War</th>\n",
       "      <th>Western</th>\n",
       "    </tr>\n",
       "  </thead>\n",
       "  <tbody>\n",
       "    <tr>\n",
       "      <th>0</th>\n",
       "      <td>1</td>\n",
       "      <td>Toy Story (1995)</td>\n",
       "      <td>01-Jan-1995</td>\n",
       "      <td>NaN</td>\n",
       "      <td>http://us.imdb.com/M/title-exact?Toy%20Story%2...</td>\n",
       "      <td>0</td>\n",
       "      <td>0</td>\n",
       "      <td>0</td>\n",
       "      <td>1</td>\n",
       "      <td>1</td>\n",
       "      <td>...</td>\n",
       "      <td>0</td>\n",
       "      <td>0</td>\n",
       "      <td>0</td>\n",
       "      <td>0</td>\n",
       "      <td>0</td>\n",
       "      <td>0</td>\n",
       "      <td>0</td>\n",
       "      <td>0</td>\n",
       "      <td>0</td>\n",
       "      <td>0</td>\n",
       "    </tr>\n",
       "    <tr>\n",
       "      <th>1</th>\n",
       "      <td>2</td>\n",
       "      <td>GoldenEye (1995)</td>\n",
       "      <td>01-Jan-1995</td>\n",
       "      <td>NaN</td>\n",
       "      <td>http://us.imdb.com/M/title-exact?GoldenEye%20(...</td>\n",
       "      <td>0</td>\n",
       "      <td>1</td>\n",
       "      <td>1</td>\n",
       "      <td>0</td>\n",
       "      <td>0</td>\n",
       "      <td>...</td>\n",
       "      <td>0</td>\n",
       "      <td>0</td>\n",
       "      <td>0</td>\n",
       "      <td>0</td>\n",
       "      <td>0</td>\n",
       "      <td>0</td>\n",
       "      <td>0</td>\n",
       "      <td>1</td>\n",
       "      <td>0</td>\n",
       "      <td>0</td>\n",
       "    </tr>\n",
       "    <tr>\n",
       "      <th>2</th>\n",
       "      <td>3</td>\n",
       "      <td>Four Rooms (1995)</td>\n",
       "      <td>01-Jan-1995</td>\n",
       "      <td>NaN</td>\n",
       "      <td>http://us.imdb.com/M/title-exact?Four%20Rooms%...</td>\n",
       "      <td>0</td>\n",
       "      <td>0</td>\n",
       "      <td>0</td>\n",
       "      <td>0</td>\n",
       "      <td>0</td>\n",
       "      <td>...</td>\n",
       "      <td>0</td>\n",
       "      <td>0</td>\n",
       "      <td>0</td>\n",
       "      <td>0</td>\n",
       "      <td>0</td>\n",
       "      <td>0</td>\n",
       "      <td>0</td>\n",
       "      <td>1</td>\n",
       "      <td>0</td>\n",
       "      <td>0</td>\n",
       "    </tr>\n",
       "    <tr>\n",
       "      <th>3</th>\n",
       "      <td>4</td>\n",
       "      <td>Get Shorty (1995)</td>\n",
       "      <td>01-Jan-1995</td>\n",
       "      <td>NaN</td>\n",
       "      <td>http://us.imdb.com/M/title-exact?Get%20Shorty%...</td>\n",
       "      <td>0</td>\n",
       "      <td>1</td>\n",
       "      <td>0</td>\n",
       "      <td>0</td>\n",
       "      <td>0</td>\n",
       "      <td>...</td>\n",
       "      <td>0</td>\n",
       "      <td>0</td>\n",
       "      <td>0</td>\n",
       "      <td>0</td>\n",
       "      <td>0</td>\n",
       "      <td>0</td>\n",
       "      <td>0</td>\n",
       "      <td>0</td>\n",
       "      <td>0</td>\n",
       "      <td>0</td>\n",
       "    </tr>\n",
       "    <tr>\n",
       "      <th>4</th>\n",
       "      <td>5</td>\n",
       "      <td>Copycat (1995)</td>\n",
       "      <td>01-Jan-1995</td>\n",
       "      <td>NaN</td>\n",
       "      <td>http://us.imdb.com/M/title-exact?Copycat%20(1995)</td>\n",
       "      <td>0</td>\n",
       "      <td>0</td>\n",
       "      <td>0</td>\n",
       "      <td>0</td>\n",
       "      <td>0</td>\n",
       "      <td>...</td>\n",
       "      <td>0</td>\n",
       "      <td>0</td>\n",
       "      <td>0</td>\n",
       "      <td>0</td>\n",
       "      <td>0</td>\n",
       "      <td>0</td>\n",
       "      <td>0</td>\n",
       "      <td>1</td>\n",
       "      <td>0</td>\n",
       "      <td>0</td>\n",
       "    </tr>\n",
       "    <tr>\n",
       "      <th>...</th>\n",
       "      <td>...</td>\n",
       "      <td>...</td>\n",
       "      <td>...</td>\n",
       "      <td>...</td>\n",
       "      <td>...</td>\n",
       "      <td>...</td>\n",
       "      <td>...</td>\n",
       "      <td>...</td>\n",
       "      <td>...</td>\n",
       "      <td>...</td>\n",
       "      <td>...</td>\n",
       "      <td>...</td>\n",
       "      <td>...</td>\n",
       "      <td>...</td>\n",
       "      <td>...</td>\n",
       "      <td>...</td>\n",
       "      <td>...</td>\n",
       "      <td>...</td>\n",
       "      <td>...</td>\n",
       "      <td>...</td>\n",
       "      <td>...</td>\n",
       "    </tr>\n",
       "    <tr>\n",
       "      <th>1677</th>\n",
       "      <td>1678</td>\n",
       "      <td>Mat' i syn (1997)</td>\n",
       "      <td>06-Feb-1998</td>\n",
       "      <td>NaN</td>\n",
       "      <td>http://us.imdb.com/M/title-exact?Mat%27+i+syn+...</td>\n",
       "      <td>0</td>\n",
       "      <td>0</td>\n",
       "      <td>0</td>\n",
       "      <td>0</td>\n",
       "      <td>0</td>\n",
       "      <td>...</td>\n",
       "      <td>0</td>\n",
       "      <td>0</td>\n",
       "      <td>0</td>\n",
       "      <td>0</td>\n",
       "      <td>0</td>\n",
       "      <td>0</td>\n",
       "      <td>0</td>\n",
       "      <td>0</td>\n",
       "      <td>0</td>\n",
       "      <td>0</td>\n",
       "    </tr>\n",
       "    <tr>\n",
       "      <th>1678</th>\n",
       "      <td>1679</td>\n",
       "      <td>B. Monkey (1998)</td>\n",
       "      <td>06-Feb-1998</td>\n",
       "      <td>NaN</td>\n",
       "      <td>http://us.imdb.com/M/title-exact?B%2E+Monkey+(...</td>\n",
       "      <td>0</td>\n",
       "      <td>0</td>\n",
       "      <td>0</td>\n",
       "      <td>0</td>\n",
       "      <td>0</td>\n",
       "      <td>...</td>\n",
       "      <td>0</td>\n",
       "      <td>0</td>\n",
       "      <td>0</td>\n",
       "      <td>0</td>\n",
       "      <td>0</td>\n",
       "      <td>1</td>\n",
       "      <td>0</td>\n",
       "      <td>1</td>\n",
       "      <td>0</td>\n",
       "      <td>0</td>\n",
       "    </tr>\n",
       "    <tr>\n",
       "      <th>1679</th>\n",
       "      <td>1680</td>\n",
       "      <td>Sliding Doors (1998)</td>\n",
       "      <td>01-Jan-1998</td>\n",
       "      <td>NaN</td>\n",
       "      <td>http://us.imdb.com/Title?Sliding+Doors+(1998)</td>\n",
       "      <td>0</td>\n",
       "      <td>0</td>\n",
       "      <td>0</td>\n",
       "      <td>0</td>\n",
       "      <td>0</td>\n",
       "      <td>...</td>\n",
       "      <td>0</td>\n",
       "      <td>0</td>\n",
       "      <td>0</td>\n",
       "      <td>0</td>\n",
       "      <td>0</td>\n",
       "      <td>1</td>\n",
       "      <td>0</td>\n",
       "      <td>0</td>\n",
       "      <td>0</td>\n",
       "      <td>0</td>\n",
       "    </tr>\n",
       "    <tr>\n",
       "      <th>1680</th>\n",
       "      <td>1681</td>\n",
       "      <td>You So Crazy (1994)</td>\n",
       "      <td>01-Jan-1994</td>\n",
       "      <td>NaN</td>\n",
       "      <td>http://us.imdb.com/M/title-exact?You%20So%20Cr...</td>\n",
       "      <td>0</td>\n",
       "      <td>0</td>\n",
       "      <td>0</td>\n",
       "      <td>0</td>\n",
       "      <td>0</td>\n",
       "      <td>...</td>\n",
       "      <td>0</td>\n",
       "      <td>0</td>\n",
       "      <td>0</td>\n",
       "      <td>0</td>\n",
       "      <td>0</td>\n",
       "      <td>0</td>\n",
       "      <td>0</td>\n",
       "      <td>0</td>\n",
       "      <td>0</td>\n",
       "      <td>0</td>\n",
       "    </tr>\n",
       "    <tr>\n",
       "      <th>1681</th>\n",
       "      <td>1682</td>\n",
       "      <td>Scream of Stone (Schrei aus Stein) (1991)</td>\n",
       "      <td>08-Mar-1996</td>\n",
       "      <td>NaN</td>\n",
       "      <td>http://us.imdb.com/M/title-exact?Schrei%20aus%...</td>\n",
       "      <td>0</td>\n",
       "      <td>0</td>\n",
       "      <td>0</td>\n",
       "      <td>0</td>\n",
       "      <td>0</td>\n",
       "      <td>...</td>\n",
       "      <td>0</td>\n",
       "      <td>0</td>\n",
       "      <td>0</td>\n",
       "      <td>0</td>\n",
       "      <td>0</td>\n",
       "      <td>0</td>\n",
       "      <td>0</td>\n",
       "      <td>0</td>\n",
       "      <td>0</td>\n",
       "      <td>0</td>\n",
       "    </tr>\n",
       "  </tbody>\n",
       "</table>\n",
       "<p>1682 rows × 24 columns</p>\n",
       "</div>"
      ],
      "text/plain": [
       "      movie id                                movie title   release date   \\\n",
       "0             1                           Toy Story (1995)    01-Jan-1995   \n",
       "1             2                           GoldenEye (1995)    01-Jan-1995   \n",
       "2             3                          Four Rooms (1995)    01-Jan-1995   \n",
       "3             4                          Get Shorty (1995)    01-Jan-1995   \n",
       "4             5                             Copycat (1995)    01-Jan-1995   \n",
       "...         ...                                        ...            ...   \n",
       "1677       1678                          Mat' i syn (1997)    06-Feb-1998   \n",
       "1678       1679                           B. Monkey (1998)    06-Feb-1998   \n",
       "1679       1680                       Sliding Doors (1998)    01-Jan-1998   \n",
       "1680       1681                        You So Crazy (1994)    01-Jan-1994   \n",
       "1681       1682  Scream of Stone (Schrei aus Stein) (1991)    08-Mar-1996   \n",
       "\n",
       "       video release date                                           IMDb URL   \\\n",
       "0                      NaN  http://us.imdb.com/M/title-exact?Toy%20Story%2...   \n",
       "1                      NaN  http://us.imdb.com/M/title-exact?GoldenEye%20(...   \n",
       "2                      NaN  http://us.imdb.com/M/title-exact?Four%20Rooms%...   \n",
       "3                      NaN  http://us.imdb.com/M/title-exact?Get%20Shorty%...   \n",
       "4                      NaN  http://us.imdb.com/M/title-exact?Copycat%20(1995)   \n",
       "...                    ...                                                ...   \n",
       "1677                   NaN  http://us.imdb.com/M/title-exact?Mat%27+i+syn+...   \n",
       "1678                   NaN  http://us.imdb.com/M/title-exact?B%2E+Monkey+(...   \n",
       "1679                   NaN      http://us.imdb.com/Title?Sliding+Doors+(1998)   \n",
       "1680                   NaN  http://us.imdb.com/M/title-exact?You%20So%20Cr...   \n",
       "1681                   NaN  http://us.imdb.com/M/title-exact?Schrei%20aus%...   \n",
       "\n",
       "       unknown    Action    Adventure    Animation    Children's   ...  \\\n",
       "0             0         0            0            1             1  ...   \n",
       "1             0         1            1            0             0  ...   \n",
       "2             0         0            0            0             0  ...   \n",
       "3             0         1            0            0             0  ...   \n",
       "4             0         0            0            0             0  ...   \n",
       "...         ...       ...          ...          ...           ...  ...   \n",
       "1677          0         0            0            0             0  ...   \n",
       "1678          0         0            0            0             0  ...   \n",
       "1679          0         0            0            0             0  ...   \n",
       "1680          0         0            0            0             0  ...   \n",
       "1681          0         0            0            0             0  ...   \n",
       "\n",
       "       Fantasy    Film-Noir    Horror    Musical    Mystery    Romance   \\\n",
       "0             0            0         0          0          0          0   \n",
       "1             0            0         0          0          0          0   \n",
       "2             0            0         0          0          0          0   \n",
       "3             0            0         0          0          0          0   \n",
       "4             0            0         0          0          0          0   \n",
       "...         ...          ...       ...        ...        ...        ...   \n",
       "1677          0            0         0          0          0          0   \n",
       "1678          0            0         0          0          0          1   \n",
       "1679          0            0         0          0          0          1   \n",
       "1680          0            0         0          0          0          0   \n",
       "1681          0            0         0          0          0          0   \n",
       "\n",
       "       Sci-Fi    Thriller    War    Western  \n",
       "0            0           0      0         0  \n",
       "1            0           1      0         0  \n",
       "2            0           1      0         0  \n",
       "3            0           0      0         0  \n",
       "4            0           1      0         0  \n",
       "...        ...         ...    ...       ...  \n",
       "1677         0           0      0         0  \n",
       "1678         0           1      0         0  \n",
       "1679         0           0      0         0  \n",
       "1680         0           0      0         0  \n",
       "1681         0           0      0         0  \n",
       "\n",
       "[1682 rows x 24 columns]"
      ]
     },
     "execution_count": 25,
     "metadata": {},
     "output_type": "execute_result"
    }
   ],
   "source": [
    "items"
   ]
  },
  {
   "cell_type": "code",
   "execution_count": 26,
   "metadata": {},
   "outputs": [
    {
     "data": {
      "text/html": [
       "<div>\n",
       "<style scoped>\n",
       "    .dataframe tbody tr th:only-of-type {\n",
       "        vertical-align: middle;\n",
       "    }\n",
       "\n",
       "    .dataframe tbody tr th {\n",
       "        vertical-align: top;\n",
       "    }\n",
       "\n",
       "    .dataframe thead th {\n",
       "        text-align: right;\n",
       "    }\n",
       "</style>\n",
       "<table border=\"1\" class=\"dataframe\">\n",
       "  <thead>\n",
       "    <tr style=\"text-align: right;\">\n",
       "      <th></th>\n",
       "      <th>id</th>\n",
       "      <th>age</th>\n",
       "      <th>gender</th>\n",
       "      <th>job</th>\n",
       "      <th>zip</th>\n",
       "    </tr>\n",
       "  </thead>\n",
       "  <tbody>\n",
       "    <tr>\n",
       "      <th>0</th>\n",
       "      <td>1</td>\n",
       "      <td>24</td>\n",
       "      <td>M</td>\n",
       "      <td>technician</td>\n",
       "      <td>85711</td>\n",
       "    </tr>\n",
       "    <tr>\n",
       "      <th>1</th>\n",
       "      <td>2</td>\n",
       "      <td>53</td>\n",
       "      <td>F</td>\n",
       "      <td>other</td>\n",
       "      <td>94043</td>\n",
       "    </tr>\n",
       "    <tr>\n",
       "      <th>2</th>\n",
       "      <td>3</td>\n",
       "      <td>23</td>\n",
       "      <td>M</td>\n",
       "      <td>writer</td>\n",
       "      <td>32067</td>\n",
       "    </tr>\n",
       "    <tr>\n",
       "      <th>3</th>\n",
       "      <td>4</td>\n",
       "      <td>24</td>\n",
       "      <td>M</td>\n",
       "      <td>technician</td>\n",
       "      <td>43537</td>\n",
       "    </tr>\n",
       "    <tr>\n",
       "      <th>4</th>\n",
       "      <td>5</td>\n",
       "      <td>33</td>\n",
       "      <td>F</td>\n",
       "      <td>other</td>\n",
       "      <td>15213</td>\n",
       "    </tr>\n",
       "    <tr>\n",
       "      <th>...</th>\n",
       "      <td>...</td>\n",
       "      <td>...</td>\n",
       "      <td>...</td>\n",
       "      <td>...</td>\n",
       "      <td>...</td>\n",
       "    </tr>\n",
       "    <tr>\n",
       "      <th>938</th>\n",
       "      <td>939</td>\n",
       "      <td>26</td>\n",
       "      <td>F</td>\n",
       "      <td>student</td>\n",
       "      <td>33319</td>\n",
       "    </tr>\n",
       "    <tr>\n",
       "      <th>939</th>\n",
       "      <td>940</td>\n",
       "      <td>32</td>\n",
       "      <td>M</td>\n",
       "      <td>administrator</td>\n",
       "      <td>02215</td>\n",
       "    </tr>\n",
       "    <tr>\n",
       "      <th>940</th>\n",
       "      <td>941</td>\n",
       "      <td>20</td>\n",
       "      <td>M</td>\n",
       "      <td>student</td>\n",
       "      <td>97229</td>\n",
       "    </tr>\n",
       "    <tr>\n",
       "      <th>941</th>\n",
       "      <td>942</td>\n",
       "      <td>48</td>\n",
       "      <td>F</td>\n",
       "      <td>librarian</td>\n",
       "      <td>78209</td>\n",
       "    </tr>\n",
       "    <tr>\n",
       "      <th>942</th>\n",
       "      <td>943</td>\n",
       "      <td>22</td>\n",
       "      <td>M</td>\n",
       "      <td>student</td>\n",
       "      <td>77841</td>\n",
       "    </tr>\n",
       "  </tbody>\n",
       "</table>\n",
       "<p>943 rows × 5 columns</p>\n",
       "</div>"
      ],
      "text/plain": [
       "     id    age   gender            job     zip\n",
       "0      1     24        M     technician  85711\n",
       "1      2     53        F          other  94043\n",
       "2      3     23        M         writer  32067\n",
       "3      4     24        M     technician  43537\n",
       "4      5     33        F          other  15213\n",
       "..   ...    ...      ...            ...    ...\n",
       "938  939     26        F        student  33319\n",
       "939  940     32        M  administrator  02215\n",
       "940  941     20        M        student  97229\n",
       "941  942     48        F      librarian  78209\n",
       "942  943     22        M        student  77841\n",
       "\n",
       "[943 rows x 5 columns]"
      ]
     },
     "execution_count": 26,
     "metadata": {},
     "output_type": "execute_result"
    }
   ],
   "source": [
    "u"
   ]
  },
  {
   "cell_type": "code",
   "execution_count": 27,
   "metadata": {},
   "outputs": [
    {
     "data": {
      "text/html": [
       "<div>\n",
       "<style scoped>\n",
       "    .dataframe tbody tr th:only-of-type {\n",
       "        vertical-align: middle;\n",
       "    }\n",
       "\n",
       "    .dataframe tbody tr th {\n",
       "        vertical-align: top;\n",
       "    }\n",
       "\n",
       "    .dataframe thead th {\n",
       "        text-align: right;\n",
       "    }\n",
       "</style>\n",
       "<table border=\"1\" class=\"dataframe\">\n",
       "  <thead>\n",
       "    <tr style=\"text-align: right;\">\n",
       "      <th></th>\n",
       "      <th>user.id</th>\n",
       "      <th>item.id</th>\n",
       "      <th>rating</th>\n",
       "      <th>timestamp</th>\n",
       "    </tr>\n",
       "  </thead>\n",
       "  <tbody>\n",
       "    <tr>\n",
       "      <th>0</th>\n",
       "      <td>196</td>\n",
       "      <td>242</td>\n",
       "      <td>3</td>\n",
       "      <td>881250949</td>\n",
       "    </tr>\n",
       "    <tr>\n",
       "      <th>1</th>\n",
       "      <td>186</td>\n",
       "      <td>302</td>\n",
       "      <td>3</td>\n",
       "      <td>891717742</td>\n",
       "    </tr>\n",
       "    <tr>\n",
       "      <th>2</th>\n",
       "      <td>22</td>\n",
       "      <td>377</td>\n",
       "      <td>1</td>\n",
       "      <td>878887116</td>\n",
       "    </tr>\n",
       "    <tr>\n",
       "      <th>3</th>\n",
       "      <td>244</td>\n",
       "      <td>51</td>\n",
       "      <td>2</td>\n",
       "      <td>880606923</td>\n",
       "    </tr>\n",
       "    <tr>\n",
       "      <th>4</th>\n",
       "      <td>166</td>\n",
       "      <td>346</td>\n",
       "      <td>1</td>\n",
       "      <td>886397596</td>\n",
       "    </tr>\n",
       "    <tr>\n",
       "      <th>...</th>\n",
       "      <td>...</td>\n",
       "      <td>...</td>\n",
       "      <td>...</td>\n",
       "      <td>...</td>\n",
       "    </tr>\n",
       "    <tr>\n",
       "      <th>99995</th>\n",
       "      <td>880</td>\n",
       "      <td>476</td>\n",
       "      <td>3</td>\n",
       "      <td>880175444</td>\n",
       "    </tr>\n",
       "    <tr>\n",
       "      <th>99996</th>\n",
       "      <td>716</td>\n",
       "      <td>204</td>\n",
       "      <td>5</td>\n",
       "      <td>879795543</td>\n",
       "    </tr>\n",
       "    <tr>\n",
       "      <th>99997</th>\n",
       "      <td>276</td>\n",
       "      <td>1090</td>\n",
       "      <td>1</td>\n",
       "      <td>874795795</td>\n",
       "    </tr>\n",
       "    <tr>\n",
       "      <th>99998</th>\n",
       "      <td>13</td>\n",
       "      <td>225</td>\n",
       "      <td>2</td>\n",
       "      <td>882399156</td>\n",
       "    </tr>\n",
       "    <tr>\n",
       "      <th>99999</th>\n",
       "      <td>12</td>\n",
       "      <td>203</td>\n",
       "      <td>3</td>\n",
       "      <td>879959583</td>\n",
       "    </tr>\n",
       "  </tbody>\n",
       "</table>\n",
       "<p>100000 rows × 4 columns</p>\n",
       "</div>"
      ],
      "text/plain": [
       "       user.id  item.id  rating  timestamp\n",
       "0          196      242       3  881250949\n",
       "1          186      302       3  891717742\n",
       "2           22      377       1  878887116\n",
       "3          244       51       2  880606923\n",
       "4          166      346       1  886397596\n",
       "...        ...      ...     ...        ...\n",
       "99995      880      476       3  880175444\n",
       "99996      716      204       5  879795543\n",
       "99997      276     1090       1  874795795\n",
       "99998       13      225       2  882399156\n",
       "99999       12      203       3  879959583\n",
       "\n",
       "[100000 rows x 4 columns]"
      ]
     },
     "execution_count": 27,
     "metadata": {},
     "output_type": "execute_result"
    }
   ],
   "source": [
    "votes"
   ]
  },
  {
   "cell_type": "markdown",
   "metadata": {},
   "source": [
    "## Creation of sparse matrix : User-item matrix"
   ]
  },
  {
   "cell_type": "code",
   "execution_count": 28,
   "metadata": {},
   "outputs": [],
   "source": [
    "# The number of users \n",
    "N_USERS = u.shape[0] +1\n",
    "# The number of items \n",
    "N_ITEMS = items.shape[0] +1 "
   ]
  },
  {
   "cell_type": "code",
   "execution_count": 29,
   "metadata": {},
   "outputs": [],
   "source": [
    "def create_sparse_matrix(votes) : \n",
    "    ''' Create a User-Items sparse matrix '''\n",
    "    # Create NaN for each items and users \n",
    "    data = {i : [np.nan for j in range(N_USERS )] for i in range(N_ITEMS)}\n",
    "    def to_convert(x, data) :\n",
    "        data[x['item.id']][x['user.id']] = x['rating']\n",
    "        return None \n",
    "    votes.apply(to_convert , axis = 1 , args = [data])\n",
    "    return pd.DataFrame(data)"
   ]
  },
  {
   "cell_type": "code",
   "execution_count": 30,
   "metadata": {},
   "outputs": [],
   "source": [
    "user_item = create_sparse_matrix(votes)"
   ]
  },
  {
   "cell_type": "code",
   "execution_count": 31,
   "metadata": {},
   "outputs": [],
   "source": [
    "# We drop the first user who has no grades\n",
    "user_item= user_item.iloc[1:,1:]"
   ]
  },
  {
   "cell_type": "code",
   "execution_count": 32,
   "metadata": {},
   "outputs": [
    {
     "data": {
      "text/html": [
       "<div>\n",
       "<style scoped>\n",
       "    .dataframe tbody tr th:only-of-type {\n",
       "        vertical-align: middle;\n",
       "    }\n",
       "\n",
       "    .dataframe tbody tr th {\n",
       "        vertical-align: top;\n",
       "    }\n",
       "\n",
       "    .dataframe thead th {\n",
       "        text-align: right;\n",
       "    }\n",
       "</style>\n",
       "<table border=\"1\" class=\"dataframe\">\n",
       "  <thead>\n",
       "    <tr style=\"text-align: right;\">\n",
       "      <th></th>\n",
       "      <th>1</th>\n",
       "      <th>2</th>\n",
       "      <th>3</th>\n",
       "      <th>4</th>\n",
       "      <th>5</th>\n",
       "      <th>6</th>\n",
       "      <th>7</th>\n",
       "      <th>8</th>\n",
       "      <th>9</th>\n",
       "      <th>10</th>\n",
       "      <th>...</th>\n",
       "      <th>1673</th>\n",
       "      <th>1674</th>\n",
       "      <th>1675</th>\n",
       "      <th>1676</th>\n",
       "      <th>1677</th>\n",
       "      <th>1678</th>\n",
       "      <th>1679</th>\n",
       "      <th>1680</th>\n",
       "      <th>1681</th>\n",
       "      <th>1682</th>\n",
       "    </tr>\n",
       "  </thead>\n",
       "  <tbody>\n",
       "    <tr>\n",
       "      <th>1</th>\n",
       "      <td>5.0</td>\n",
       "      <td>3.0</td>\n",
       "      <td>4.0</td>\n",
       "      <td>3.0</td>\n",
       "      <td>3.0</td>\n",
       "      <td>5.0</td>\n",
       "      <td>4.0</td>\n",
       "      <td>1.0</td>\n",
       "      <td>5.0</td>\n",
       "      <td>3.0</td>\n",
       "      <td>...</td>\n",
       "      <td>NaN</td>\n",
       "      <td>NaN</td>\n",
       "      <td>NaN</td>\n",
       "      <td>NaN</td>\n",
       "      <td>NaN</td>\n",
       "      <td>NaN</td>\n",
       "      <td>NaN</td>\n",
       "      <td>NaN</td>\n",
       "      <td>NaN</td>\n",
       "      <td>NaN</td>\n",
       "    </tr>\n",
       "    <tr>\n",
       "      <th>2</th>\n",
       "      <td>4.0</td>\n",
       "      <td>NaN</td>\n",
       "      <td>NaN</td>\n",
       "      <td>NaN</td>\n",
       "      <td>NaN</td>\n",
       "      <td>NaN</td>\n",
       "      <td>NaN</td>\n",
       "      <td>NaN</td>\n",
       "      <td>NaN</td>\n",
       "      <td>2.0</td>\n",
       "      <td>...</td>\n",
       "      <td>NaN</td>\n",
       "      <td>NaN</td>\n",
       "      <td>NaN</td>\n",
       "      <td>NaN</td>\n",
       "      <td>NaN</td>\n",
       "      <td>NaN</td>\n",
       "      <td>NaN</td>\n",
       "      <td>NaN</td>\n",
       "      <td>NaN</td>\n",
       "      <td>NaN</td>\n",
       "    </tr>\n",
       "    <tr>\n",
       "      <th>3</th>\n",
       "      <td>NaN</td>\n",
       "      <td>NaN</td>\n",
       "      <td>NaN</td>\n",
       "      <td>NaN</td>\n",
       "      <td>NaN</td>\n",
       "      <td>NaN</td>\n",
       "      <td>NaN</td>\n",
       "      <td>NaN</td>\n",
       "      <td>NaN</td>\n",
       "      <td>NaN</td>\n",
       "      <td>...</td>\n",
       "      <td>NaN</td>\n",
       "      <td>NaN</td>\n",
       "      <td>NaN</td>\n",
       "      <td>NaN</td>\n",
       "      <td>NaN</td>\n",
       "      <td>NaN</td>\n",
       "      <td>NaN</td>\n",
       "      <td>NaN</td>\n",
       "      <td>NaN</td>\n",
       "      <td>NaN</td>\n",
       "    </tr>\n",
       "    <tr>\n",
       "      <th>4</th>\n",
       "      <td>NaN</td>\n",
       "      <td>NaN</td>\n",
       "      <td>NaN</td>\n",
       "      <td>NaN</td>\n",
       "      <td>NaN</td>\n",
       "      <td>NaN</td>\n",
       "      <td>NaN</td>\n",
       "      <td>NaN</td>\n",
       "      <td>NaN</td>\n",
       "      <td>NaN</td>\n",
       "      <td>...</td>\n",
       "      <td>NaN</td>\n",
       "      <td>NaN</td>\n",
       "      <td>NaN</td>\n",
       "      <td>NaN</td>\n",
       "      <td>NaN</td>\n",
       "      <td>NaN</td>\n",
       "      <td>NaN</td>\n",
       "      <td>NaN</td>\n",
       "      <td>NaN</td>\n",
       "      <td>NaN</td>\n",
       "    </tr>\n",
       "    <tr>\n",
       "      <th>5</th>\n",
       "      <td>4.0</td>\n",
       "      <td>3.0</td>\n",
       "      <td>NaN</td>\n",
       "      <td>NaN</td>\n",
       "      <td>NaN</td>\n",
       "      <td>NaN</td>\n",
       "      <td>NaN</td>\n",
       "      <td>NaN</td>\n",
       "      <td>NaN</td>\n",
       "      <td>NaN</td>\n",
       "      <td>...</td>\n",
       "      <td>NaN</td>\n",
       "      <td>NaN</td>\n",
       "      <td>NaN</td>\n",
       "      <td>NaN</td>\n",
       "      <td>NaN</td>\n",
       "      <td>NaN</td>\n",
       "      <td>NaN</td>\n",
       "      <td>NaN</td>\n",
       "      <td>NaN</td>\n",
       "      <td>NaN</td>\n",
       "    </tr>\n",
       "    <tr>\n",
       "      <th>...</th>\n",
       "      <td>...</td>\n",
       "      <td>...</td>\n",
       "      <td>...</td>\n",
       "      <td>...</td>\n",
       "      <td>...</td>\n",
       "      <td>...</td>\n",
       "      <td>...</td>\n",
       "      <td>...</td>\n",
       "      <td>...</td>\n",
       "      <td>...</td>\n",
       "      <td>...</td>\n",
       "      <td>...</td>\n",
       "      <td>...</td>\n",
       "      <td>...</td>\n",
       "      <td>...</td>\n",
       "      <td>...</td>\n",
       "      <td>...</td>\n",
       "      <td>...</td>\n",
       "      <td>...</td>\n",
       "      <td>...</td>\n",
       "      <td>...</td>\n",
       "    </tr>\n",
       "    <tr>\n",
       "      <th>939</th>\n",
       "      <td>NaN</td>\n",
       "      <td>NaN</td>\n",
       "      <td>NaN</td>\n",
       "      <td>NaN</td>\n",
       "      <td>NaN</td>\n",
       "      <td>NaN</td>\n",
       "      <td>NaN</td>\n",
       "      <td>NaN</td>\n",
       "      <td>5.0</td>\n",
       "      <td>NaN</td>\n",
       "      <td>...</td>\n",
       "      <td>NaN</td>\n",
       "      <td>NaN</td>\n",
       "      <td>NaN</td>\n",
       "      <td>NaN</td>\n",
       "      <td>NaN</td>\n",
       "      <td>NaN</td>\n",
       "      <td>NaN</td>\n",
       "      <td>NaN</td>\n",
       "      <td>NaN</td>\n",
       "      <td>NaN</td>\n",
       "    </tr>\n",
       "    <tr>\n",
       "      <th>940</th>\n",
       "      <td>NaN</td>\n",
       "      <td>NaN</td>\n",
       "      <td>NaN</td>\n",
       "      <td>2.0</td>\n",
       "      <td>NaN</td>\n",
       "      <td>NaN</td>\n",
       "      <td>4.0</td>\n",
       "      <td>5.0</td>\n",
       "      <td>3.0</td>\n",
       "      <td>NaN</td>\n",
       "      <td>...</td>\n",
       "      <td>NaN</td>\n",
       "      <td>NaN</td>\n",
       "      <td>NaN</td>\n",
       "      <td>NaN</td>\n",
       "      <td>NaN</td>\n",
       "      <td>NaN</td>\n",
       "      <td>NaN</td>\n",
       "      <td>NaN</td>\n",
       "      <td>NaN</td>\n",
       "      <td>NaN</td>\n",
       "    </tr>\n",
       "    <tr>\n",
       "      <th>941</th>\n",
       "      <td>5.0</td>\n",
       "      <td>NaN</td>\n",
       "      <td>NaN</td>\n",
       "      <td>NaN</td>\n",
       "      <td>NaN</td>\n",
       "      <td>NaN</td>\n",
       "      <td>4.0</td>\n",
       "      <td>NaN</td>\n",
       "      <td>NaN</td>\n",
       "      <td>NaN</td>\n",
       "      <td>...</td>\n",
       "      <td>NaN</td>\n",
       "      <td>NaN</td>\n",
       "      <td>NaN</td>\n",
       "      <td>NaN</td>\n",
       "      <td>NaN</td>\n",
       "      <td>NaN</td>\n",
       "      <td>NaN</td>\n",
       "      <td>NaN</td>\n",
       "      <td>NaN</td>\n",
       "      <td>NaN</td>\n",
       "    </tr>\n",
       "    <tr>\n",
       "      <th>942</th>\n",
       "      <td>NaN</td>\n",
       "      <td>NaN</td>\n",
       "      <td>NaN</td>\n",
       "      <td>NaN</td>\n",
       "      <td>NaN</td>\n",
       "      <td>NaN</td>\n",
       "      <td>NaN</td>\n",
       "      <td>NaN</td>\n",
       "      <td>NaN</td>\n",
       "      <td>NaN</td>\n",
       "      <td>...</td>\n",
       "      <td>NaN</td>\n",
       "      <td>NaN</td>\n",
       "      <td>NaN</td>\n",
       "      <td>NaN</td>\n",
       "      <td>NaN</td>\n",
       "      <td>NaN</td>\n",
       "      <td>NaN</td>\n",
       "      <td>NaN</td>\n",
       "      <td>NaN</td>\n",
       "      <td>NaN</td>\n",
       "    </tr>\n",
       "    <tr>\n",
       "      <th>943</th>\n",
       "      <td>NaN</td>\n",
       "      <td>5.0</td>\n",
       "      <td>NaN</td>\n",
       "      <td>NaN</td>\n",
       "      <td>NaN</td>\n",
       "      <td>NaN</td>\n",
       "      <td>NaN</td>\n",
       "      <td>NaN</td>\n",
       "      <td>3.0</td>\n",
       "      <td>NaN</td>\n",
       "      <td>...</td>\n",
       "      <td>NaN</td>\n",
       "      <td>NaN</td>\n",
       "      <td>NaN</td>\n",
       "      <td>NaN</td>\n",
       "      <td>NaN</td>\n",
       "      <td>NaN</td>\n",
       "      <td>NaN</td>\n",
       "      <td>NaN</td>\n",
       "      <td>NaN</td>\n",
       "      <td>NaN</td>\n",
       "    </tr>\n",
       "  </tbody>\n",
       "</table>\n",
       "<p>943 rows × 1682 columns</p>\n",
       "</div>"
      ],
      "text/plain": [
       "     1     2     3     4     5     6     7     8     9     10    ...  1673  \\\n",
       "1     5.0   3.0   4.0   3.0   3.0   5.0   4.0   1.0   5.0   3.0  ...   NaN   \n",
       "2     4.0   NaN   NaN   NaN   NaN   NaN   NaN   NaN   NaN   2.0  ...   NaN   \n",
       "3     NaN   NaN   NaN   NaN   NaN   NaN   NaN   NaN   NaN   NaN  ...   NaN   \n",
       "4     NaN   NaN   NaN   NaN   NaN   NaN   NaN   NaN   NaN   NaN  ...   NaN   \n",
       "5     4.0   3.0   NaN   NaN   NaN   NaN   NaN   NaN   NaN   NaN  ...   NaN   \n",
       "..    ...   ...   ...   ...   ...   ...   ...   ...   ...   ...  ...   ...   \n",
       "939   NaN   NaN   NaN   NaN   NaN   NaN   NaN   NaN   5.0   NaN  ...   NaN   \n",
       "940   NaN   NaN   NaN   2.0   NaN   NaN   4.0   5.0   3.0   NaN  ...   NaN   \n",
       "941   5.0   NaN   NaN   NaN   NaN   NaN   4.0   NaN   NaN   NaN  ...   NaN   \n",
       "942   NaN   NaN   NaN   NaN   NaN   NaN   NaN   NaN   NaN   NaN  ...   NaN   \n",
       "943   NaN   5.0   NaN   NaN   NaN   NaN   NaN   NaN   3.0   NaN  ...   NaN   \n",
       "\n",
       "     1674  1675  1676  1677  1678  1679  1680  1681  1682  \n",
       "1     NaN   NaN   NaN   NaN   NaN   NaN   NaN   NaN   NaN  \n",
       "2     NaN   NaN   NaN   NaN   NaN   NaN   NaN   NaN   NaN  \n",
       "3     NaN   NaN   NaN   NaN   NaN   NaN   NaN   NaN   NaN  \n",
       "4     NaN   NaN   NaN   NaN   NaN   NaN   NaN   NaN   NaN  \n",
       "5     NaN   NaN   NaN   NaN   NaN   NaN   NaN   NaN   NaN  \n",
       "..    ...   ...   ...   ...   ...   ...   ...   ...   ...  \n",
       "939   NaN   NaN   NaN   NaN   NaN   NaN   NaN   NaN   NaN  \n",
       "940   NaN   NaN   NaN   NaN   NaN   NaN   NaN   NaN   NaN  \n",
       "941   NaN   NaN   NaN   NaN   NaN   NaN   NaN   NaN   NaN  \n",
       "942   NaN   NaN   NaN   NaN   NaN   NaN   NaN   NaN   NaN  \n",
       "943   NaN   NaN   NaN   NaN   NaN   NaN   NaN   NaN   NaN  \n",
       "\n",
       "[943 rows x 1682 columns]"
      ]
     },
     "execution_count": 32,
     "metadata": {},
     "output_type": "execute_result"
    }
   ],
   "source": [
    "user_item"
   ]
  },
  {
   "cell_type": "markdown",
   "metadata": {},
   "source": [
    "## Question 1 "
   ]
  },
  {
   "cell_type": "markdown",
   "metadata": {},
   "source": [
    "- Tout d'abord, nous creons les indexes qui vont permettre de diviser nos données pour la cross-validation"
   ]
  },
  {
   "cell_type": "code",
   "execution_count": 33,
   "metadata": {},
   "outputs": [],
   "source": [
    "def kfold(n_data, k = 10 , SEED = 77, shuffle = False ) : \n",
    "    ''' Split the data into K-Folds \n",
    "        Input : The length of the data to split \n",
    "        Output : The indexes of the different folds \n",
    "    '''\n",
    "    # Fix the SEED to have consistent results \n",
    "    np.random.seed(SEED)\n",
    "    # Create the indexes \n",
    "    indexes = np.arange(n_data)\n",
    "    # Shuffle the matrix \n",
    "    if shuffle : \n",
    "        np.random.shuffle(indexes)\n",
    "    # The size of the subindexes\n",
    "    sub_size = n_data // k \n",
    "    # Size of the last fold used for the test \n",
    "    last_size = sub_size + n_data%k\n",
    "    # Where we store all the indexes \n",
    "    all_indexes = {'train' : [], 'test' : []}\n",
    "    # Index of the test \n",
    "    test_i = 0 \n",
    "    for i in range(k) :\n",
    "        train = []\n",
    "        # Check if we are the last set \n",
    "        if test_i == k-1 : \n",
    "            all_indexes['test'].append(indexes[-last_size:])\n",
    "            all_indexes['train'].append(indexes[:-last_size ])\n",
    "        else : \n",
    "            all_indexes['test'].append(indexes[ test_i * sub_size : (test_i+1) * sub_size ])\n",
    "            # Get the indexes outside the test indexes\n",
    "            train = [] \n",
    "            train.extend(indexes[:test_i * sub_size])\n",
    "            train.extend(indexes[(test_i+1) * sub_size : ])\n",
    "            all_indexes['train'].append(train)\n",
    "        \n",
    "        \n",
    "        test_i +=1 \n",
    "        \n",
    "    return all_indexes\n"
   ]
  },
  {
   "cell_type": "markdown",
   "metadata": {},
   "source": [
    "- Maintenant, nous implémentons les fonctions pour calculer les valeurs moyennes des utilisateurs et items "
   ]
  },
  {
   "cell_type": "code",
   "execution_count": 34,
   "metadata": {},
   "outputs": [],
   "source": [
    "def average_user(user_item) : \n",
    "    ''' Compute the average score for the users '''\n",
    "    # Compute the mean for the users \n",
    "    return user_item.apply( lambda x : np.mean(x) , axis = 1 )\n",
    "    \n",
    "def average_item(user_item) : \n",
    "    ''' Compute the average score for the items '''\n",
    "    # Compute the mean for the items \n",
    "    return user_item.apply( lambda x : np.mean(x) , axis = 0 )"
   ]
  },
  {
   "cell_type": "markdown",
   "metadata": {},
   "source": [
    "- Ensuite, nous remplissons les valeurs manquantes de la matrice avec les valeurs moyennes utilisateurs et items"
   ]
  },
  {
   "cell_type": "code",
   "execution_count": 35,
   "metadata": {},
   "outputs": [],
   "source": [
    "def fill_avg(indexes = None  , user_item = user_item ) : \n",
    "    ''' Fill the user_item matrix with the mean of users and items \n",
    "        It fills only the indexes values \n",
    "    '''\n",
    "    # Average grade by user \n",
    "    avg_user = average_user(user_item)\n",
    "    # Average grade by item\n",
    "    avg_item = average_item(user_item)\n",
    "    # Repeat the average of users\n",
    "    avg_user_all = pd.DataFrame(np.tile(avg_user.values, (N_ITEMS-1,1)))\n",
    "    # Repeat the average of items \n",
    "    avg_item_all = pd.DataFrame(np.tile(avg_item.values, (N_USERS-1,1)))\n",
    "    # Get the average of users and items\n",
    "    new_user_item = (avg_user_all.fillna(0).T + avg_item_all.fillna(0))/2\n",
    "    # Change the indexes\n",
    "    new_user_item = new_user_item.set_index([pd.Index(np.arange(1,N_USERS))])\n",
    "    # Change the colums \n",
    "    new_user_item.rename(columns = {i : i+1 for i in range(N_ITEMS-1)}, inplace = True )\n",
    "    # Get the original matrix\n",
    "    new_user = user_item.copy()\n",
    "    # Fill it \n",
    "    if indexes is None : \n",
    "        return new_user_item \n",
    "    new_user[indexes] = new_user_item[indexes]\n",
    "    return new_user"
   ]
  },
  {
   "cell_type": "markdown",
   "metadata": {},
   "source": [
    "- Utilisation de cross-validation pour calculer l'erreur "
   ]
  },
  {
   "cell_type": "code",
   "execution_count": 36,
   "metadata": {},
   "outputs": [],
   "source": [
    "def cross_validation(N ,k , votes = votes , user_item = user_item) : \n",
    "    ''' Compute the quadratic error with K-cross-validation\n",
    "        Inputs : \n",
    "            - N : The size of the data to split (either size of items or users)\n",
    "    '''\n",
    "    # Errors for every user \n",
    "    errors = np.zeros((user_item.shape[0],1))\n",
    "    # Real user_item matrix\n",
    "    user_item_true = user_item.copy()\n",
    "    # Get the indexes where there are not NaN values \n",
    "    indexes_not_nan = user_item.notnull()\n",
    "    # Loop over the K-Folds \n",
    "    for i, (i_train, i_test) in enumerate(zip(*kfold(N,k, shuffle = False ).values())) : \n",
    "        # Copy the original user-item matrix \n",
    "        u_item = user_item.copy()\n",
    "        # Get the indexes of the test \n",
    "        indexes_test = votes.iloc[i_test,:3]\n",
    "        # Convert the test rating to NaN\n",
    "        for m,j in zip(indexes_test['user.id'].values, indexes_test['item.id'].values) :            \n",
    "            u_item.iloc[m-1,j-1] = np.nan\n",
    "        # Get the prediction\n",
    "        prediction = fill_avg(indexes_not_nan, u_item)\n",
    "        # Compute the RMSE \n",
    "        current_e = np.sqrt(np.mean((user_item_true[indexes_not_nan] -\\\n",
    "                                    prediction[indexes_not_nan])**2, axis = 1))\n",
    "        errors= errors + current_e.values.reshape(-1,1)\n",
    "    errors/=k        \n",
    "    return pd.DataFrame(errors)\n",
    "    "
   ]
  },
  {
   "cell_type": "code",
   "execution_count": 37,
   "metadata": {},
   "outputs": [],
   "source": [
    "error_user = cross_validation( N = votes.shape[0] ,k = 10  )"
   ]
  },
  {
   "cell_type": "code",
   "execution_count": 38,
   "metadata": {},
   "outputs": [
    {
     "data": {
      "text/plain": [
       "Text(0, 0.5, 'Number of values')"
      ]
     },
     "execution_count": 38,
     "metadata": {},
     "output_type": "execute_result"
    },
    {
     "data": {
      "image/png": "[encoded data removed]",
      "text/plain": [
       "<Figure size 1080x576 with 1 Axes>"
      ]
     },
     "metadata": {
      "needs_background": "light"
     },
     "output_type": "display_data"
    }
   ],
   "source": [
    "plt.figure(figsize=(15,8))\n",
    "rmse = error_user.values.flatten()\n",
    "plt.hist(rmse, color = 'blue', edgecolor = 'black', bins = int(180/5), log=False)\n",
    "# Add labels\n",
    "plt.title('RMSE distribution ')\n",
    "plt.xlabel('RMSE',fontsize=15)\n",
    "plt.ylabel('Number of values',fontsize=15)"
   ]
  },
  {
   "cell_type": "code",
   "execution_count": 39,
   "metadata": {},
   "outputs": [
    {
     "name": "stdout",
     "output_type": "stream",
     "text": [
      "RMSE pour l'approche par vote moyen : 0.9600237455440639 \n"
     ]
    }
   ],
   "source": [
    "print(\"RMSE pour l'approche par vote moyen : {} \".format(np.mean(error_user.values)))"
   ]
  },
  {
   "cell_type": "markdown",
   "metadata": {},
   "source": [
    "## Conclusion Question 1 : \n",
    "\n",
    "- Nous voyons que l'approche par remplissage des moyennes utilisateurs-items est une approche naïve qui performe moyennement bien. Cela reste mieux que de remplir par un score aléatoire. On s'attend néanmoins à avoir un meilleur score pour les méthodes suivantes"
   ]
  },
  {
   "cell_type": "markdown",
   "metadata": {},
   "source": [
    "## Question 2 "
   ]
  },
  {
   "cell_type": "markdown",
   "metadata": {},
   "source": [
    "### 2.a Distribution (histogramme) des similarités (poids w )"
   ]
  },
  {
   "cell_type": "code",
   "execution_count": 40,
   "metadata": {},
   "outputs": [],
   "source": [
    "item_item = user_item.T.copy()"
   ]
  },
  {
   "cell_type": "code",
   "execution_count": 41,
   "metadata": {},
   "outputs": [],
   "source": [
    "def get_similarity_matrix(item_item, size = N_ITEMS) : \n",
    "    ''' Return a dataframe of size : N_ITEM x N_ITEM with the similarity for each user \n",
    "            within the other items '''\n",
    "    df_sim = pd.DataFrame(cosine_similarity(item_item.fillna(0), item_item.fillna(0)))\n",
    "    return df_sim"
   ]
  },
  {
   "cell_type": "code",
   "execution_count": 42,
   "metadata": {},
   "outputs": [
    {
     "name": "stdout",
     "output_type": "stream",
     "text": [
      "Time required : 0.09660959243774414 s\n"
     ]
    }
   ],
   "source": [
    "initial_time = time.time()\n",
    "def_sim = get_similarity_matrix(item_item)\n",
    "print('Time required : {} s'.format(time.time()-initial_time))"
   ]
  },
  {
   "cell_type": "code",
   "execution_count": 43,
   "metadata": {},
   "outputs": [],
   "source": [
    "def return_similarities_distribution(def_sim):\n",
    "    \"\"\"\n",
    "    return similarities distribution\n",
    "    \"\"\"\n",
    "    plt.figure(figsize=(15,8))\n",
    "    similarities_distribution = def_sim.values.flatten()\n",
    "    plt.hist(similarities_distribution, color = 'blue', edgecolor = 'black', bins = int(180/5), log=True)\n",
    "\n",
    "    # Add labels\n",
    "    plt.title('Similarities distribution')\n",
    "    plt.xlabel('Similarity',fontsize=15)\n",
    "    plt.ylabel('Number of values',fontsize=15)\n",
    "    return similarities_distribution"
   ]
  },
  {
   "cell_type": "markdown",
   "metadata": {},
   "source": [
    "- Voici ici la distribution des similarités par item "
   ]
  },
  {
   "cell_type": "code",
   "execution_count": 44,
   "metadata": {},
   "outputs": [
    {
     "data": {
      "image/png": "[encoded data removed]",
      "text/plain": [
       "<Figure size 1080x576 with 1 Axes>"
      ]
     },
     "metadata": {
      "needs_background": "light"
     },
     "output_type": "display_data"
    }
   ],
   "source": [
    "similarities_distribution = return_similarities_distribution(def_sim)"
   ]
  },
  {
   "cell_type": "markdown",
   "metadata": {},
   "source": [
    "- On remarque qu'une bonne partie de la similarité des items se trouvent entre 0 et 0.2. Cela signifie que certains items sont assez similaires et donc peuvent permettre d'approximer correctement un item en prenant les voisins de celui-ci.\n",
    "- La similarité de 1 correspond à la similarité d'un item avec lui même. "
   ]
  },
  {
   "cell_type": "markdown",
   "metadata": {},
   "source": [
    "### La proportion de poids nuls"
   ]
  },
  {
   "cell_type": "code",
   "execution_count": 45,
   "metadata": {},
   "outputs": [],
   "source": [
    "def print_zeros_weights_proportion(df):\n",
    "    \"\"\"\n",
    "    prints proportion of zeros among all similarities values\n",
    "    \"\"\"\n",
    "    numZeros = (def_sim == 0).sum().sum()/ def_sim.size\n",
    "    print(\"proportion of zero weights = {}\".format(numZeros))"
   ]
  },
  {
   "cell_type": "code",
   "execution_count": 46,
   "metadata": {},
   "outputs": [
    {
     "name": "stdout",
     "output_type": "stream",
     "text": [
      "proportion of zero weights = 0.3043450905651361\n"
     ]
    }
   ],
   "source": [
    "print_zeros_weights_proportion(def_sim)"
   ]
  },
  {
   "cell_type": "markdown",
   "metadata": {},
   "source": [
    "- On remarque que près de 30 % de la matrice est à poids nul. Cela signifique que un peu moins de 1/3 des items ne sont pas corrélés entre eux"
   ]
  },
  {
   "cell_type": "markdown",
   "metadata": {},
   "source": [
    "### 2.b   Distribution du nombre de voisins avec votes communs par item"
   ]
  },
  {
   "cell_type": "code",
   "execution_count": 47,
   "metadata": {},
   "outputs": [],
   "source": [
    "def buil_neighbors_indexes(item_item):\n",
    "    \"\"\"\n",
    "    Returns a df with items and their neighbors with similarities and a df with neighbors' indexes \n",
    "    \"\"\"\n",
    "    #A df for items and their neighbors with similarities\n",
    "    df_10_neighbors = pd.DataFrame(np.zeros((N_ITEMS, 10)), index = range(1,N_ITEMS+1))  \n",
    "    #A df for items with their neighbors' indexes \n",
    "    df_10_index = pd.DataFrame(np.zeros((N_ITEMS, 10)), index = range(1,N_ITEMS+1))                            \n",
    "    #count = 0\n",
    "    for i in range(len(item_item)):\n",
    "        mySeries = def_sim.iloc[i].copy()    \n",
    "        for n in range(10):\n",
    "            max_val = mySeries.values.max()\n",
    "            max_idx = pd.Index(mySeries).get_loc(max_val)\n",
    "            \n",
    "            #we don't take the actual item as neighbor of itself\n",
    "            if type(max_idx) is int and max_idx == i:\n",
    "                mySeries = mySeries.drop(mySeries.index[max_idx])\n",
    "                max_val = mySeries.values.max()\n",
    "                max_idx = pd.Index(mySeries).get_loc(max_val)\n",
    "            \n",
    "            #There are some max with a list of boolean as index, so we don't take them\n",
    "            while type(max_idx) is not int:\n",
    "                #count +=1\n",
    "                mySeries = mySeries.drop(mySeries.index[max_idx])\n",
    "                max_val = mySeries.values.max()\n",
    "                max_idx = pd.Index(mySeries).get_loc(max_val)            \n",
    "            \n",
    "            df_10_neighbors.iloc[i,n] =  max_val\n",
    "            #in the next line we add 1 as our items index start with 1  \n",
    "            df_10_index.iloc[i,n] = int(max_idx+1)\n",
    "            mySeries = mySeries.drop(mySeries.index[max_idx])\n",
    "    return df_10_neighbors, df_10_index"
   ]
  },
  {
   "cell_type": "code",
   "execution_count": 48,
   "metadata": {},
   "outputs": [],
   "source": [
    "df_10_neighbors_sim,df_10_index = buil_neighbors_indexes(item_item)"
   ]
  },
  {
   "cell_type": "markdown",
   "metadata": {},
   "source": [
    "- Matrice avec les 10 voisins ainsi que leur score de similarité"
   ]
  },
  {
   "cell_type": "code",
   "execution_count": 49,
   "metadata": {},
   "outputs": [
    {
     "data": {
      "text/html": [
       "<div>\n",
       "<style scoped>\n",
       "    .dataframe tbody tr th:only-of-type {\n",
       "        vertical-align: middle;\n",
       "    }\n",
       "\n",
       "    .dataframe tbody tr th {\n",
       "        vertical-align: top;\n",
       "    }\n",
       "\n",
       "    .dataframe thead th {\n",
       "        text-align: right;\n",
       "    }\n",
       "</style>\n",
       "<table border=\"1\" class=\"dataframe\">\n",
       "  <thead>\n",
       "    <tr style=\"text-align: right;\">\n",
       "      <th></th>\n",
       "      <th>0</th>\n",
       "      <th>1</th>\n",
       "      <th>2</th>\n",
       "      <th>3</th>\n",
       "      <th>4</th>\n",
       "      <th>5</th>\n",
       "      <th>6</th>\n",
       "      <th>7</th>\n",
       "      <th>8</th>\n",
       "      <th>9</th>\n",
       "    </tr>\n",
       "  </thead>\n",
       "  <tbody>\n",
       "    <tr>\n",
       "      <th>1</th>\n",
       "      <td>0.734572</td>\n",
       "      <td>0.699925</td>\n",
       "      <td>0.689786</td>\n",
       "      <td>0.664555</td>\n",
       "      <td>0.641322</td>\n",
       "      <td>0.638158</td>\n",
       "      <td>0.636727</td>\n",
       "      <td>0.630601</td>\n",
       "      <td>0.624075</td>\n",
       "      <td>0.622382</td>\n",
       "    </tr>\n",
       "    <tr>\n",
       "      <th>2</th>\n",
       "      <td>0.659619</td>\n",
       "      <td>0.623544</td>\n",
       "      <td>0.617274</td>\n",
       "      <td>0.616143</td>\n",
       "      <td>0.604969</td>\n",
       "      <td>0.601960</td>\n",
       "      <td>0.597083</td>\n",
       "      <td>0.595684</td>\n",
       "      <td>0.590124</td>\n",
       "      <td>0.584100</td>\n",
       "    </tr>\n",
       "    <tr>\n",
       "      <th>3</th>\n",
       "      <td>0.452023</td>\n",
       "      <td>0.444355</td>\n",
       "      <td>0.423249</td>\n",
       "      <td>0.404930</td>\n",
       "      <td>0.404787</td>\n",
       "      <td>0.404239</td>\n",
       "      <td>0.404080</td>\n",
       "      <td>0.401676</td>\n",
       "      <td>0.397274</td>\n",
       "      <td>0.396868</td>\n",
       "    </tr>\n",
       "    <tr>\n",
       "      <th>4</th>\n",
       "      <td>0.650507</td>\n",
       "      <td>0.628946</td>\n",
       "      <td>0.628720</td>\n",
       "      <td>0.620055</td>\n",
       "      <td>0.617312</td>\n",
       "      <td>0.604652</td>\n",
       "      <td>0.602747</td>\n",
       "      <td>0.601488</td>\n",
       "      <td>0.601319</td>\n",
       "      <td>0.599989</td>\n",
       "    </tr>\n",
       "    <tr>\n",
       "      <th>5</th>\n",
       "      <td>0.547787</td>\n",
       "      <td>0.472725</td>\n",
       "      <td>0.472399</td>\n",
       "      <td>0.450780</td>\n",
       "      <td>0.445242</td>\n",
       "      <td>0.440996</td>\n",
       "      <td>0.435349</td>\n",
       "      <td>0.430292</td>\n",
       "      <td>0.425298</td>\n",
       "      <td>0.424652</td>\n",
       "    </tr>\n",
       "  </tbody>\n",
       "</table>\n",
       "</div>"
      ],
      "text/plain": [
       "          0         1         2         3         4         5         6  \\\n",
       "1  0.734572  0.699925  0.689786  0.664555  0.641322  0.638158  0.636727   \n",
       "2  0.659619  0.623544  0.617274  0.616143  0.604969  0.601960  0.597083   \n",
       "3  0.452023  0.444355  0.423249  0.404930  0.404787  0.404239  0.404080   \n",
       "4  0.650507  0.628946  0.628720  0.620055  0.617312  0.604652  0.602747   \n",
       "5  0.547787  0.472725  0.472399  0.450780  0.445242  0.440996  0.435349   \n",
       "\n",
       "          7         8         9  \n",
       "1  0.630601  0.624075  0.622382  \n",
       "2  0.595684  0.590124  0.584100  \n",
       "3  0.401676  0.397274  0.396868  \n",
       "4  0.601488  0.601319  0.599989  \n",
       "5  0.430292  0.425298  0.424652  "
      ]
     },
     "execution_count": 49,
     "metadata": {},
     "output_type": "execute_result"
    }
   ],
   "source": [
    "df_10_neighbors_sim.head()"
   ]
  },
  {
   "cell_type": "markdown",
   "metadata": {},
   "source": [
    "- Matrice avec les 10 voisins ainsi que leur index"
   ]
  },
  {
   "cell_type": "code",
   "execution_count": 50,
   "metadata": {},
   "outputs": [
    {
     "data": {
      "text/html": [
       "<div>\n",
       "<style scoped>\n",
       "    .dataframe tbody tr th:only-of-type {\n",
       "        vertical-align: middle;\n",
       "    }\n",
       "\n",
       "    .dataframe tbody tr th {\n",
       "        vertical-align: top;\n",
       "    }\n",
       "\n",
       "    .dataframe thead th {\n",
       "        text-align: right;\n",
       "    }\n",
       "</style>\n",
       "<table border=\"1\" class=\"dataframe\">\n",
       "  <thead>\n",
       "    <tr style=\"text-align: right;\">\n",
       "      <th></th>\n",
       "      <th>0</th>\n",
       "      <th>1</th>\n",
       "      <th>2</th>\n",
       "      <th>3</th>\n",
       "      <th>4</th>\n",
       "      <th>5</th>\n",
       "      <th>6</th>\n",
       "      <th>7</th>\n",
       "      <th>8</th>\n",
       "      <th>9</th>\n",
       "    </tr>\n",
       "  </thead>\n",
       "  <tbody>\n",
       "    <tr>\n",
       "      <th>1</th>\n",
       "      <td>49.0</td>\n",
       "      <td>179.0</td>\n",
       "      <td>119.0</td>\n",
       "      <td>115.0</td>\n",
       "      <td>400.0</td>\n",
       "      <td>147.0</td>\n",
       "      <td>216.0</td>\n",
       "      <td>98.0</td>\n",
       "      <td>229.0</td>\n",
       "      <td>168.0</td>\n",
       "    </tr>\n",
       "    <tr>\n",
       "      <th>2</th>\n",
       "      <td>232.0</td>\n",
       "      <td>160.0</td>\n",
       "      <td>382.0</td>\n",
       "      <td>399.0</td>\n",
       "      <td>61.0</td>\n",
       "      <td>570.0</td>\n",
       "      <td>223.0</td>\n",
       "      <td>227.0</td>\n",
       "      <td>542.0</td>\n",
       "      <td>94.0</td>\n",
       "    </tr>\n",
       "    <tr>\n",
       "      <th>3</th>\n",
       "      <td>409.0</td>\n",
       "      <td>761.0</td>\n",
       "      <td>41.0</td>\n",
       "      <td>32.0</td>\n",
       "      <td>247.0</td>\n",
       "      <td>16.0</td>\n",
       "      <td>1040.0</td>\n",
       "      <td>818.0</td>\n",
       "      <td>469.0</td>\n",
       "      <td>231.0</td>\n",
       "    </tr>\n",
       "    <tr>\n",
       "      <th>4</th>\n",
       "      <td>55.0</td>\n",
       "      <td>202.0</td>\n",
       "      <td>172.0</td>\n",
       "      <td>199.0</td>\n",
       "      <td>94.0</td>\n",
       "      <td>191.0</td>\n",
       "      <td>169.0</td>\n",
       "      <td>208.0</td>\n",
       "      <td>77.0</td>\n",
       "      <td>375.0</td>\n",
       "    </tr>\n",
       "    <tr>\n",
       "      <th>5</th>\n",
       "      <td>217.0</td>\n",
       "      <td>217.0</td>\n",
       "      <td>53.0</td>\n",
       "      <td>230.0</td>\n",
       "      <td>52.0</td>\n",
       "      <td>95.0</td>\n",
       "      <td>665.0</td>\n",
       "      <td>196.0</td>\n",
       "      <td>657.0</td>\n",
       "      <td>551.0</td>\n",
       "    </tr>\n",
       "  </tbody>\n",
       "</table>\n",
       "</div>"
      ],
      "text/plain": [
       "       0      1      2      3      4      5       6      7      8      9\n",
       "1   49.0  179.0  119.0  115.0  400.0  147.0   216.0   98.0  229.0  168.0\n",
       "2  232.0  160.0  382.0  399.0   61.0  570.0   223.0  227.0  542.0   94.0\n",
       "3  409.0  761.0   41.0   32.0  247.0   16.0  1040.0  818.0  469.0  231.0\n",
       "4   55.0  202.0  172.0  199.0   94.0  191.0   169.0  208.0   77.0  375.0\n",
       "5  217.0  217.0   53.0  230.0   52.0   95.0   665.0  196.0  657.0  551.0"
      ]
     },
     "execution_count": 50,
     "metadata": {},
     "output_type": "execute_result"
    }
   ],
   "source": [
    "df_10_index.head()"
   ]
  },
  {
   "cell_type": "markdown",
   "metadata": {},
   "source": [
    "#### Proportion de votes manquants"
   ]
  },
  {
   "cell_type": "markdown",
   "metadata": {},
   "source": [
    "- Tout d'abord, on  centre la matrice item-item en retirant la moyenne "
   ]
  },
  {
   "cell_type": "code",
   "execution_count": 51,
   "metadata": {},
   "outputs": [],
   "source": [
    "def centre_df(user_item):\n",
    "    \"\"\"\n",
    "    Create a df with centered votes of user_item\n",
    "    \"\"\"\n",
    "    user_item_centred = user_item.add(-user_item.mean())\n",
    "    \n",
    "    return user_item_centred"
   ]
  },
  {
   "cell_type": "code",
   "execution_count": 52,
   "metadata": {},
   "outputs": [],
   "source": [
    "user_item_centred = centre_df(user_item)"
   ]
  },
  {
   "cell_type": "markdown",
   "metadata": {},
   "source": [
    "- On construit un matrice des utilisateurs avec 10 voisins de cette item (matrice V de la vidéo)"
   ]
  },
  {
   "cell_type": "code",
   "execution_count": 53,
   "metadata": {},
   "outputs": [],
   "source": [
    "def build_users_items_neigh_mtx(df_10_index_i,user_item):\n",
    "    \"\"\"\n",
    "    builds an item votes matrix of users with 10 neighbors of this item (V in the video)\n",
    "    \"\"\"\n",
    "    df_10_votes = pd.DataFrame(np.zeros((N_USERS, 10)), index = range(1,N_USERS+1))\n",
    "                          \n",
    "    #loop over 10 neighbors indexes of the actual item \"i\"                            \n",
    "    for index, value in df_10_index_i.items():\n",
    "        #fill df with the votes associated to these 10 neighbors\n",
    "        df_10_votes[index] = user_item[int(value)] \n",
    " \n",
    "    return df_10_votes"
   ]
  },
  {
   "cell_type": "markdown",
   "metadata": {},
   "source": [
    "- On peut ensuite calculer la distribution des votes manquant \n"
   ]
  },
  {
   "cell_type": "code",
   "execution_count": 54,
   "metadata": {},
   "outputs": [],
   "source": [
    "def return_missed_votes_distribution(df_10_index, user_item_centred, df_10_neighbors_sim):\n",
    "    '''\n",
    "    return missed votes per item distribution\n",
    "    '''\n",
    "    plt.figure(figsize=(15,8))\n",
    "    missed_votes_distribution = []\n",
    "    for item in range(1,N_ITEMS):\n",
    "        #To return a (943,10) df with votes from user_item matrix from the original user_item df\n",
    "        df_10_votes = build_users_items_neigh_mtx(df_10_index.loc[item],user_item_centred)\n",
    "        missed_votes_distribution.append(df_10_votes.isna().sum().sum())\n",
    " \n",
    "    plt.hist(missed_votes_distribution, color = 'blue', edgecolor = 'black', bins = int(180/5), log=False)     \n",
    "    # Add labels\n",
    "    plt.title('Distribution de votes manquants par item')\n",
    "    plt.xlabel('Nombre de votes manquants',fontsize=15)\n",
    "    plt.ylabel('Nombre d\\'items',fontsize=15)\n",
    "    \n",
    "    return missed_votes_distribution  "
   ]
  },
  {
   "cell_type": "code",
   "execution_count": 55,
   "metadata": {},
   "outputs": [
    {
     "data": {
      "image/png": "[encoded data removed]",
      "text/plain": [
       "<Figure size 1080x576 with 1 Axes>"
      ]
     },
     "metadata": {
      "needs_background": "light"
     },
     "output_type": "display_data"
    }
   ],
   "source": [
    "missed_votes_distribution = return_missed_votes_distribution(df_10_index, user_item_centred, df_10_neighbors_sim)"
   ]
  },
  {
   "cell_type": "markdown",
   "metadata": {},
   "source": [
    "- On remarque que beaucoup d'items ont beaucoup de votes manquants "
   ]
  },
  {
   "cell_type": "code",
   "execution_count": 56,
   "metadata": {},
   "outputs": [],
   "source": [
    "def return_common_votes_distribution(missed_votes_distribution):\n",
    "    '''\n",
    "    return neighbors with common votes per item distribution \n",
    "    ''' \n",
    "    plt.figure(figsize=(15,8))\n",
    "    common_votes_distribution = [(N_USERS*10 - n_miss_votes) for n_miss_votes in missed_votes_distribution]\n",
    "    \n",
    "    plt.hist(common_votes_distribution, color = 'blue', edgecolor = 'black', bins = int(180/5), log=False)\n",
    "    # Add labels\n",
    "    plt.title('Distribution du nombre de voisins avec votes communs par item')\n",
    "    plt.xlabel('nombre de votes communs',fontsize=15)\n",
    "    plt.ylabel('Nombre d\\'items',fontsize=15)\n",
    "    \n",
    "    return common_votes_distribution"
   ]
  },
  {
   "cell_type": "code",
   "execution_count": 57,
   "metadata": {},
   "outputs": [
    {
     "data": {
      "image/png": "[encoded data removed]",
      "text/plain": [
       "<Figure size 1080x576 with 1 Axes>"
      ]
     },
     "metadata": {
      "needs_background": "light"
     },
     "output_type": "display_data"
    }
   ],
   "source": [
    "common_votes_distribution = return_common_votes_distribution(missed_votes_distribution)"
   ]
  },
  {
   "cell_type": "markdown",
   "metadata": {},
   "source": [
    "- On remarque que peu d'items ont beaucoup de voisins avec votes communs "
   ]
  },
  {
   "cell_type": "markdown",
   "metadata": {},
   "source": [
    "#### 2.c Effectuer le calcul pour le premier item "
   ]
  },
  {
   "cell_type": "code",
   "execution_count": 58,
   "metadata": {},
   "outputs": [],
   "source": [
    "def estimate_votes(item, df_10_neighbors_sim, df_10_votes):\n",
    "    \"\"\"\n",
    "    returns 10 neighbors votes given an item\n",
    "    \"\"\"\n",
    "    #get item's 10 neighbors weights wich is W, note that it is the same for all users for a selected item\n",
    "    item_weights = pd.DataFrame(df_10_neighbors_sim.loc[item])  \n",
    "    C_df = pd.DataFrame(df_10_votes.copy())\n",
    "    C_df[~df_10_votes.isnull()==True] = 1\n",
    "    C_df[~df_10_votes.isnull()==False] = 0\n",
    "    masked_weights = np.dot(C_df,item_weights)\n",
    "    df_masked_weights = pd.DataFrame(masked_weights, index = range(1,N_USERS+1))\n",
    "    K = (1/df_masked_weights.fillna(0)).replace(np.inf,0)\n",
    "    \n",
    "    return K*(np.dot(df_10_votes.fillna(0),item_weights))"
   ]
  },
  {
   "cell_type": "code",
   "execution_count": 59,
   "metadata": {},
   "outputs": [],
   "source": [
    "def return_first_item_votes(df_10_index, user_item_centred, df_10_neighbors_sim):\n",
    "    \"\"\"\n",
    "    returns votes vector for item 1, note that votes are centered here\n",
    "    \"\"\"\n",
    "    df_10_votes_1 = build_users_items_neigh_mtx(df_10_index.loc[1],user_item_centred)\n",
    "    estimated_vote = estimate_votes(1,df_10_neighbors_sim, df_10_votes_1)\n",
    "    return estimated_vote"
   ]
  },
  {
   "cell_type": "code",
   "execution_count": 60,
   "metadata": {},
   "outputs": [],
   "source": [
    "first_item_votes_decentered = return_first_item_votes(df_10_index, user_item_centred, df_10_neighbors_sim)"
   ]
  },
  {
   "cell_type": "code",
   "execution_count": 61,
   "metadata": {},
   "outputs": [],
   "source": [
    "first_item_votes_centered = first_item_votes_decentered.add(user_item.mean().iloc[0])\n",
    "# Drop the values outside 1 and 5 \n",
    "first_item_votes_centered[first_item_votes_centered < 1] = 1\n",
    "first_item_votes_centered[first_item_votes_centered > 5] = 5"
   ]
  },
  {
   "cell_type": "code",
   "execution_count": 62,
   "metadata": {},
   "outputs": [
    {
     "data": {
      "text/plain": [
       "Text(0, 0.5, \"Nombre de notes données par l'item 1\")"
      ]
     },
     "execution_count": 62,
     "metadata": {},
     "output_type": "execute_result"
    },
    {
     "data": {
      "image/png": "[encoded data removed]",
      "text/plain": [
       "<Figure size 1080x576 with 1 Axes>"
      ]
     },
     "metadata": {
      "needs_background": "light"
     },
     "output_type": "display_data"
    }
   ],
   "source": [
    "plt.figure(figsize=(15,8))\n",
    "    \n",
    "plt.hist(first_item_votes_centered.values, color = 'blue', edgecolor = 'black', bins = int(180/5), log=False)\n",
    "# Add labels\n",
    "plt.title(\"Distribution des notes pour l'item 1 \")\n",
    "plt.xlabel('Notes',fontsize=15)\n",
    "plt.ylabel(\"Nombre de notes données par l'item 1\" ,fontsize=15)"
   ]
  },
  {
   "cell_type": "code",
   "execution_count": 64,
   "metadata": {},
   "outputs": [
    {
     "name": "stdout",
     "output_type": "stream",
     "text": [
      "Moyenne des notes des utilisateurs sur le premier item (méthode de la Q1) : 3.8783185840707963\n"
     ]
    }
   ],
   "source": [
    "avg_item = average_item(user_item)\n",
    "print('Moyenne des notes des utilisateurs sur le premier item (méthode de la Q1) : {}'.format(avg_item.iloc[0]))"
   ]
  },
  {
   "cell_type": "markdown",
   "metadata": {},
   "source": [
    "- On remarque que pour cet item, il y a une majorité de notes entre 3.5 et 4. \n",
    "- En prenant le note moyant des utilisateurs pour cet item, cette note est de 3.88. Cela semble bien refléter nos résultats"
   ]
  },
  {
   "cell_type": "markdown",
   "metadata": {},
   "source": [
    "### 2.d : Erreur quadratique moyenne et histogramme de distribution"
   ]
  },
  {
   "cell_type": "code",
   "execution_count": 65,
   "metadata": {},
   "outputs": [],
   "source": [
    "def estimate_all_votes(df_10_index, user_item_centred, df_10_neighbors_sim, user_item = user_item):\n",
    "    '''\n",
    "    returns votes for all items\n",
    "    '''\n",
    "    es_votes = pd.DataFrame(np.zeros((N_USERS-1, N_ITEMS)), index = range(1,N_USERS), columns = range(1,N_ITEMS+1))\n",
    "    for item in range(1,N_ITEMS):\n",
    "        #Return a (943,10) df with votes from user_item matrix from the original user_item df\n",
    "        df_10_votes = build_users_items_neigh_mtx(df_10_index.loc[item],user_item_centred)\n",
    "        es_votes[item] = estimate_votes(item, df_10_neighbors_sim, df_10_votes)\n",
    "    # We add the mean to decenter the votes \n",
    "    \n",
    "    all_estimated_votes_decentred = es_votes.iloc[:,:-1].copy().add(user_item.mean())\n",
    "    # We scale the votes to be between 1 and 5 \n",
    "    all_estimated_votes_decentred[all_estimated_votes_decentred< 1 ] = 1\n",
    "    all_estimated_votes_decentred[all_estimated_votes_decentred > 5 ] = 5\n",
    "    \n",
    "    return all_estimated_votes_decentred"
   ]
  },
  {
   "cell_type": "markdown",
   "metadata": {},
   "source": [
    "- On calcule l'estimation des votes pour tous les items"
   ]
  },
  {
   "cell_type": "code",
   "execution_count": 66,
   "metadata": {},
   "outputs": [],
   "source": [
    "# Estimate votes for all items\n",
    "all_estimated_votes = estimate_all_votes(df_10_index.iloc[:-1,:], user_item_centred, df_10_neighbors_sim)"
   ]
  },
  {
   "cell_type": "markdown",
   "metadata": {},
   "source": [
    "- Puis on calcule la RMSE "
   ]
  },
  {
   "cell_type": "code",
   "execution_count": 67,
   "metadata": {},
   "outputs": [],
   "source": [
    "def compute_rmse(prediction , user_item = user_item ) : \n",
    "    ''' Return the RMSE between the prediction and the user-item matrix '''\n",
    "    # Index where the user_item is not null\n",
    "    indexes_not_nan = user_item.notnull()\n",
    "    rmse = np.sqrt(((prediction[indexes_not_nan] - user_item[indexes_not_nan])**2).mean())\n",
    "    return rmse"
   ]
  },
  {
   "cell_type": "code",
   "execution_count": 68,
   "metadata": {},
   "outputs": [],
   "source": [
    "rmse_estimate = compute_rmse(all_estimated_votes)"
   ]
  },
  {
   "cell_type": "code",
   "execution_count": 107,
   "metadata": {},
   "outputs": [
    {
     "name": "stdout",
     "output_type": "stream",
     "text": [
      "RMSE pour la methode Q2 : 0.9004861621469451\n"
     ]
    }
   ],
   "source": [
    "print('RMSE pour la methode Q2 : {}'.format(rmse_estimate.mean()))"
   ]
  },
  {
   "cell_type": "code",
   "execution_count": 108,
   "metadata": {},
   "outputs": [
    {
     "data": {
      "text/plain": [
       "Text(0, 0.5, 'y')"
      ]
     },
     "execution_count": 108,
     "metadata": {},
     "output_type": "execute_result"
    },
    {
     "data": {
      "image/png": "[encoded data removed]",
      "text/plain": [
       "<Figure size 1080x576 with 1 Axes>"
      ]
     },
     "metadata": {
      "needs_background": "light"
     },
     "output_type": "display_data"
    }
   ],
   "source": [
    "''' Distribution de l'erreur quadratique moyenne '''\n",
    "plt.figure(figsize=(15,8))\n",
    "plt.hist(rmse_estimate, color = 'blue', edgecolor = 'black', bins = int(180/5), log=False)\n",
    "# Add labels\n",
    "plt.title('Distribution de l\\'erreur quadratique moyenne par item')\n",
    "plt.xlabel('x',fontsize=15)\n",
    "plt.ylabel('y',fontsize=15)"
   ]
  },
  {
   "cell_type": "markdown",
   "metadata": {},
   "source": [
    "## Conclusion Question 2 : \n",
    "\n",
    "- Nous voyons que l'approche item-item avec utilisation des 10 proches voisins est une méthode un peu plus fine que la méthode des moyennes des utilistateurs et items.\n",
    "- En effet, on obtient une RMSE moyenne de 0.90, qui est mieux que celle de la question 1. \n",
    "- Cela peut s'expliquer par le fait que nous considérons les 10 plus proches voisins (avec une similarité cosinus pas forcément la plus précise car ne prend pas en compte le biais des utilisateurs). Ainsi, considérer la moyenne sur les 10 plus proche voisins permet de mieux discerner un item, et c'est ce qu'on retrouve ici. \n",
    "\n"
   ]
  },
  {
   "cell_type": "markdown",
   "metadata": {},
   "source": [
    "## Question 3"
   ]
  },
  {
   "cell_type": "markdown",
   "metadata": {},
   "source": [
    "- On commence par une fonction qui calcule la SVD"
   ]
  },
  {
   "cell_type": "code",
   "execution_count": 1405,
   "metadata": {},
   "outputs": [],
   "source": [
    "def svd(N_COMPONENT , user_item  = user_item) : \n",
    "    ''' Reduce the dimension with the SVD algorithm '''\n",
    "    U, s, V = np.linalg.svd(user_item.values, full_matrices=True)\n",
    "    # Sigma matrix\n",
    "    S = np.zeros(user_item.shape)\n",
    "    n_user = user_item.shape[0] \n",
    "    # Fill the Sigma matrix with the eigenvalues \n",
    "    S[:n_user, :n_user] = np.diag(s)\n",
    "    # Keep only the N_COMPONENT singular values\n",
    "    S[N_COMPONENT:, :]  = 0 \n",
    "    # Reconstruct the original matrix \n",
    "    new_user = np.dot(U, np.dot(S,V))\n",
    "    new_user[new_user < 1] = 1 \n",
    "    new_user[new_user > 5] = 5\n",
    "    # Reconstruct properly the original matrix \n",
    "    new_user = pd.DataFrame(new_user)\n",
    "    # Rename the indexes and columns \n",
    "    new_user = new_user.set_index([pd.Index(np.arange(1,user_item.shape[0]+1) )])\n",
    "    new_user.rename(columns = {i : i+1 for i in range(N_ITEMS-1)}, inplace = True )\n",
    "    return new_user \n",
    "    "
   ]
  },
  {
   "cell_type": "markdown",
   "metadata": {},
   "source": [
    "- Ensuite, la fonction de cross-validation"
   ]
  },
  {
   "cell_type": "code",
   "execution_count": 1453,
   "metadata": {},
   "outputs": [],
   "source": [
    "def cross_validation_svd(N ,N_COMPONENT, k = 5, votes = votes , item_item = item_item) : \n",
    "    ''' Compute the RMSE with K-cross-validation\n",
    "        Inputs : \n",
    "            - N : The size of the data to split (either size of items or users)\n",
    "    '''\n",
    "    # Errors for every user \n",
    "    errors = np.zeros((item_item.shape[0],1))\n",
    "    # Real user_item matrix\n",
    "    item_item_true = item_item.copy()\n",
    "    # Get the indexes where there are not NaN values \n",
    "    indexes_not_nan = item_item.notnull()\n",
    "    # Loop over the K-Folds \n",
    "    for i, (i_train, i_test) in enumerate(zip(*kfold(N,k, shuffle = False ).values())) : \n",
    "        # Copy the original user-item matrix \n",
    "        u_item = item_item.copy()\n",
    "        # Get the indexes of the test \n",
    "        indexes_test = votes.iloc[i_test,:3]\n",
    "        # Convert the test rating to NaN\n",
    "        for m,j in zip(indexes_test['item.id'].values, indexes_test['user.id'].values) :            \n",
    "            u_item.iloc[m-1,j-1] = np.nan\n",
    "        # Get the prediction\n",
    "        u_item = fill_avg(indexes = None , user_item = u_item.T).T\n",
    "        prediction = svd(N_COMPONENT, user_item = u_item.T).T\n",
    "        # Compute the RMSE \n",
    "        current_e = np.sqrt(np.mean((item_item_true[indexes_not_nan] -\\\n",
    "                                    prediction[indexes_not_nan])**2, axis = 1))\n",
    "        errors= errors + current_e.values.reshape(-1,1)\n",
    "    errors/=k        \n",
    "    return pd.DataFrame(errors)\n",
    "    "
   ]
  },
  {
   "cell_type": "markdown",
   "metadata": {},
   "source": [
    "- Puis on itère suivant le nombre de dimensions : on ne fait qu'entre 1 et 30 "
   ]
  },
  {
   "cell_type": "code",
   "execution_count": 1573,
   "metadata": {},
   "outputs": [],
   "source": [
    "dimensions = np.arange(1,30,1)\n",
    "errors_component = {}\n",
    "for i in dimensions : \n",
    "    svd_e = cross_validation_svd(N = votes.shape[0],N_COMPONENT = i ,k = 5)\n",
    "    errors_component[i]= np.mean(svd_e)"
   ]
  },
  {
   "cell_type": "markdown",
   "metadata": {},
   "source": [
    "- On plot les résultats "
   ]
  },
  {
   "cell_type": "code",
   "execution_count": 1574,
   "metadata": {},
   "outputs": [
    {
     "data": {
      "text/plain": [
       "[<matplotlib.lines.Line2D at 0x7fafec06b280>]"
      ]
     },
     "execution_count": 1574,
     "metadata": {},
     "output_type": "execute_result"
    },
    {
     "data": {
      "image/png": "[encoded data removed]",
      "text/plain": [
       "<Figure size 1080x432 with 1 Axes>"
      ]
     },
     "metadata": {
      "needs_background": "light"
     },
     "output_type": "display_data"
    }
   ],
   "source": [
    "plt.figure(figsize=(15,6))\n",
    "plt.title('Erreur en fonction de la dimension de Réduction')\n",
    "plt.xlabel('Dimension de la reduction',fontsize=15)\n",
    "plt.ylabel('RMSE Moyen',fontsize=15)\n",
    "plt.grid(True)\n",
    "plt.plot(list(errors_component.keys()),list(errors_component.values()))"
   ]
  },
  {
   "cell_type": "markdown",
   "metadata": {},
   "source": [
    "## Conclusion Question 3 : \n",
    "\n",
    "- L'approche par SVD est meilleure que l'approche basique de la question 1. Ici, on ne considère que les valeurs les plus importantes dans notre matrice utilisateur-item, ce qui permet d'ensuite faire la moyenne sur des éléments important. Les votes venant d'utilisateurs ou d'items peu pertinents sont rapidement supprimés pour optimiser la prédiction. \n",
    "- Afin de savoir quelle dimension nous choisissons, nous voyons qu'après 3 dimensions, la RMSE stagne. Afin d'éviter l'overfitting, nous choisirons le point de cassure, et donc *3 composantes*. "
   ]
  },
  {
   "cell_type": "markdown",
   "metadata": {},
   "source": [
    "## Question 4 "
   ]
  },
  {
   "cell_type": "markdown",
   "metadata": {},
   "source": [
    "- Calcul de la matrice des similarites entre utilisateurs "
   ]
  },
  {
   "cell_type": "code",
   "execution_count": 1575,
   "metadata": {},
   "outputs": [],
   "source": [
    "def sim_matrix(user_item = user_item) : \n",
    "    ''' Return the correlation matrix '''\n",
    "    corr = pd.DataFrame(np.corrcoef(user_item.fillna(0)))\n",
    "    corr = corr.set_index([pd.Index(np.arange(1,user_item.shape[0]+1) )])\n",
    "    corr.rename(columns = {i : i+1 for i in range(N_ITEMS-1)}, inplace = True )\n",
    "    return corr \n",
    "    \n",
    "    "
   ]
  },
  {
   "cell_type": "markdown",
   "metadata": {},
   "source": [
    "- Calcul des notes moyens par cluster "
   ]
  },
  {
   "cell_type": "code",
   "execution_count": 1576,
   "metadata": {},
   "outputs": [],
   "source": [
    "def compute_grade_cluster(clusters , user_item = user_item ) : \n",
    "    ''' Compute the average score by item for each user with the given clusters '''\n",
    "    \n",
    "    # Matrix to return : the prediction with K-means\n",
    "    user_pred = user_item.copy()\n",
    "    \n",
    "    for cluster in np.unique(clusters) : \n",
    "        index_user = np.where(clusters == cluster)[0]\n",
    "        # Get the users of the cluster\n",
    "        user_c = user_item.iloc[index_user]\n",
    "        # Get the mean score for each item \n",
    "        mean_i = user_c.mean(axis = 0)\n",
    "        user_pred.iloc[index_user, :] = mean_i    \n",
    "    return user_pred\n",
    "    "
   ]
  },
  {
   "cell_type": "markdown",
   "metadata": {},
   "source": [
    "- Cross-validation"
   ]
  },
  {
   "cell_type": "code",
   "execution_count": 1577,
   "metadata": {},
   "outputs": [],
   "source": [
    "def cross_validation_kmeans(N= votes.shape[0], n_clusters = 5 ,k = 5, user_item = user_item) : \n",
    "    ''' Compute the RMSE with K-cross-validation with K-means '''\n",
    "    # Errors for every user \n",
    "    errors = np.zeros((user_item.shape[0],1))\n",
    "    # Real user_item matrix\n",
    "    user_item_true = fill_avg(  indexes = user_item.isnull() , user_item= user_item)\n",
    "    # Get the indexes where there are not NaN values \n",
    "    indexes_not_nan = user_item.notnull()\n",
    "    # Loop over the K-Folds \n",
    "    for i, (i_train, i_test) in enumerate(zip(*kfold(N,k, shuffle = False ).values())) : \n",
    "        # Copy the original user-item matrix \n",
    "        u_item = user_item_true.copy()\n",
    "        # Get the indexes of the test \n",
    "        indexes_test = votes.iloc[i_test,:3]\n",
    "        # Convert the test rating to NaN\n",
    "        for m,j in zip(indexes_test['user.id'].values, indexes_test['item.id'].values) :            \n",
    "            u_item.iloc[m-1,j-1] = np.nan\n",
    "        # Get the similarity matrix \n",
    "        user_d = sim_matrix(user_item = u_item)\n",
    "        # Fit the K-means algorithm\n",
    "        kmeans = KMeans(n_clusters=n_clusters, random_state=77).fit(user_d)\n",
    "        # Predict \n",
    "        prediction = compute_grade_cluster(kmeans.labels_)\n",
    "        # Compute the RMSE \n",
    "        current_e = np.sqrt(np.mean((user_item_true[indexes_not_nan] -\\\n",
    "                                    prediction[indexes_not_nan])**2, axis = 1))\n",
    "        errors= errors + current_e.values.reshape(-1,1)\n",
    "    errors/=k        \n",
    "    return pd.DataFrame(errors)\n",
    "    "
   ]
  },
  {
   "cell_type": "markdown",
   "metadata": {},
   "source": [
    "- Résumé des résultats "
   ]
  },
  {
   "cell_type": "code",
   "execution_count": 1543,
   "metadata": {},
   "outputs": [],
   "source": [
    "def get_results_kmeans(clusters = [5,10, 20, 40, 80]) : \n",
    "    ''' Get the RMSE for different size of clusters '''\n",
    "    errors = {}\n",
    "    for c in clusters : \n",
    "        err = cross_validation_kmeans(n_clusters = c ,k = 5, user_item = user_item)\n",
    "        errors[c] = err.mean()[0]\n",
    "    return errors "
   ]
  },
  {
   "cell_type": "code",
   "execution_count": 1544,
   "metadata": {},
   "outputs": [],
   "source": [
    "errors_clusters = get_results_kmeans()"
   ]
  },
  {
   "cell_type": "code",
   "execution_count": 1547,
   "metadata": {},
   "outputs": [
    {
     "data": {
      "text/plain": [
       "[<matplotlib.lines.Line2D at 0x7fafe90ef3a0>]"
      ]
     },
     "execution_count": 1547,
     "metadata": {},
     "output_type": "execute_result"
    },
    {
     "data": {
      "image/png": "[encoded data removed]",
      "text/plain": [
       "<Figure size 1080x432 with 1 Axes>"
      ]
     },
     "metadata": {
      "needs_background": "light"
     },
     "output_type": "display_data"
    }
   ],
   "source": [
    "plt.figure(figsize=(15,6))\n",
    "plt.title('Erreur en fonction de la dimension des clusters avec K-means')\n",
    "plt.xlabel('Nombre de cluster',fontsize=15)\n",
    "plt.ylabel('RMSE Moyen',fontsize=15)\n",
    "plt.grid(True)\n",
    "plt.plot(list(errors_clusters.keys()),list(errors_clusters.values()))"
   ]
  },
  {
   "cell_type": "code",
   "execution_count": 1561,
   "metadata": {},
   "outputs": [
    {
     "name": "stdout",
     "output_type": "stream",
     "text": [
      "Meilleur résultat avec 0.7600038076414954 clusters pour K-means : 80\n"
     ]
    }
   ],
   "source": [
    "kmeans_min = np.min(list(errors_clusters.values()))\n",
    "index_min = np.argmin(list(errors_clusters.values()))\n",
    "kmeans_val = list(errors_clusters.keys())[index_min]\n",
    "\n",
    "print('Meilleur résultat avec {} clusters pour K-means : {}'.format( kmeans_min, kmeans_val))"
   ]
  },
  {
   "cell_type": "code",
   "execution_count": 1578,
   "metadata": {},
   "outputs": [
    {
     "data": {
      "text/plain": [
       "{5: 0.9642527846410422,\n",
       " 10: 0.9364287655904363,\n",
       " 20: 0.8942075662781775,\n",
       " 40: 0.834725155902542,\n",
       " 80: 0.7600038076414954}"
      ]
     },
     "execution_count": 1578,
     "metadata": {},
     "output_type": "execute_result"
    }
   ],
   "source": [
    "errors_clusters"
   ]
  },
  {
   "cell_type": "markdown",
   "metadata": {},
   "source": [
    "## Conclusion Question 4 : \n",
    "\n",
    "- L'approche par K-means permet de regrouper ensemble les utilisateurs ayant des similarités dans leur choix d'items. De ce fait, chaque cluster a pour but de représenter de manière optimal chacun des utilisateurs de ce cluster. \n",
    "- Nous voyons que si nous prenons qu'une dimension, nous nous retrouvons avec le même score que celui obtenu lors de la question 1. Ensuite, plus nous augmentons le nombre de cluster, et meilleure est la représentation de ces clusters.\n",
    "- Enfin, afin de choisir le bon nombre de clusters, nous préférons faire comme précédemment : prendre le point de cassure pour éviter l'overfitting. Ici, il semble qu'avec 40 clusters, nous obtenons une RMSE de 0.83, ce qui est préférable que d'avoir une RMSE de train plus élevé mais qui performe moins bien sur le testing test. Ainsi, avec 40 clusters, nous avons une RMSE bien meilleure que les méthodes précédentes. Cela signifie qu'en regroupant les utilisateurs dans 40 profils différents, un algorithme de recommendation de films peut prédire les notes des films en considérant les comportements des utilisateurs comme un comportement parmi 40 et optimiser la prédiction de notes de films. "
   ]
  }
 ],
 "metadata": {
  "kernelspec": {
   "display_name": "log6308_tp1",
   "language": "python",
   "name": "log6308_tp1"
  },
  "language_info": {
   "codemirror_mode": {
    "name": "ipython",
    "version": 3
   },
   "file_extension": ".py",
   "mimetype": "text/x-python",
   "name": "python",
   "nbconvert_exporter": "python",
   "pygments_lexer": "ipython3",
   "version": "3.8.5"
  }
 },
 "nbformat": 4,
 "nbformat_minor": 4
}
