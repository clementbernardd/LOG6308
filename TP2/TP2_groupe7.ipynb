{
 "cells": [
  {
   "cell_type": "markdown",
   "id": "outstanding-civilization",
   "metadata": {},
   "source": [
    "# LOG6308 : Tp2 - Approche contenu\n",
    "\n",
    "- Clément Bernard (2096223)\n",
    "- Ghaith Dekhili (1858454)"
   ]
  },
  {
   "cell_type": "markdown",
   "id": "large-percentage",
   "metadata": {},
   "source": [
    "## Importations "
   ]
  },
  {
   "cell_type": "code",
   "execution_count": 178,
   "id": "advised-science",
   "metadata": {},
   "outputs": [
    {
     "name": "stderr",
     "output_type": "stream",
     "text": [
      "[nltk_data] Downloading package punkt to\n",
      "[nltk_data]     /Users/clementbernard/nltk_data...\n",
      "[nltk_data]   Package punkt is already up-to-date!\n",
      "[nltk_data] Downloading package wordnet to\n",
      "[nltk_data]     /Users/clementbernard/nltk_data...\n",
      "[nltk_data]   Package wordnet is already up-to-date!\n"
     ]
    }
   ],
   "source": [
    "import numpy as np\n",
    "import pandas as pd \n",
    "import matplotlib.pyplot as plt \n",
    "import os\n",
    "from sklearn.metrics.pairwise import cosine_similarity\n",
    "\n",
    "\n",
    "from scipy.spatial import distance\n",
    "import time\n",
    "from sklearn import preprocessing\n",
    "from numpy.linalg import multi_dot\n",
    "from sklearn.model_selection import KFold\n",
    "\n",
    "from nltk.stem import WordNetLemmatizer \n",
    "from nltk.tokenize import word_tokenize\n",
    "import nltk\n",
    "from sklearn.feature_extraction.text import TfidfVectorizer\n",
    "nltk.download('punkt')\n",
    "nltk.download('wordnet')\n",
    "\n",
    "import time \n",
    "import torch\n",
    "from sentence_transformers import SentenceTransformer, util\n",
    "import seaborn as sns\n",
    "import gensim \n",
    "from gensim.models import Word2Vec \n",
    "from nltk.tokenize import sent_tokenize, word_tokenize "
   ]
  },
  {
   "cell_type": "code",
   "execution_count": 4,
   "id": "weekly-jackson",
   "metadata": {},
   "outputs": [],
   "source": [
    "DATA = os.path.join(os.getcwd(), 'data')\n",
    "TABLE_PATH = os.path.join(DATA, 'citeseer.rtable')\n",
    "ABSTRACT_PATH = os.path.join(DATA,'abstracts.csv')"
   ]
  },
  {
   "cell_type": "markdown",
   "id": "distributed-decade",
   "metadata": {},
   "source": [
    "## Data \n"
   ]
  },
  {
   "cell_type": "code",
   "execution_count": 5,
   "id": "ambient-malawi",
   "metadata": {},
   "outputs": [],
   "source": [
    "# Matrice d'adjacence\n",
    "m = pd.read_table(TABLE_PATH, sep=' ')\n",
    "# Number of articles\n",
    "N = m.shape[0]"
   ]
  },
  {
   "cell_type": "markdown",
   "id": "designing-intro",
   "metadata": {},
   "source": [
    "# Question 1"
   ]
  },
  {
   "cell_type": "markdown",
   "id": "dental-probe",
   "metadata": {},
   "source": [
    "## Data"
   ]
  },
  {
   "cell_type": "code",
   "execution_count": 6,
   "id": "cardiac-seminar",
   "metadata": {},
   "outputs": [],
   "source": [
    "# The path where is the fold data\n",
    "PATH_DATA = 'data'\n",
    "# The items \n",
    "items = pd.read_csv(os.path.join(PATH_DATA, 'items.csv'), sep='|')\n",
    "# User data \n",
    "u = pd.read_csv(os.path.join(PATH_DATA, 'u.csv'), sep='|')\n",
    "# Votes of the user \n",
    "votes = pd.read_csv(os.path.join(PATH_DATA, 'votes.csv'), sep='|')"
   ]
  },
  {
   "cell_type": "code",
   "execution_count": 7,
   "id": "irish-combination",
   "metadata": {},
   "outputs": [
    {
     "data": {
      "text/html": [
       "<div>\n",
       "<style scoped>\n",
       "    .dataframe tbody tr th:only-of-type {\n",
       "        vertical-align: middle;\n",
       "    }\n",
       "\n",
       "    .dataframe tbody tr th {\n",
       "        vertical-align: top;\n",
       "    }\n",
       "\n",
       "    .dataframe thead th {\n",
       "        text-align: right;\n",
       "    }\n",
       "</style>\n",
       "<table border=\"1\" class=\"dataframe\">\n",
       "  <thead>\n",
       "    <tr style=\"text-align: right;\">\n",
       "      <th></th>\n",
       "      <th>movie id</th>\n",
       "      <th>movie title</th>\n",
       "      <th>release date</th>\n",
       "      <th>video release date</th>\n",
       "      <th>IMDb URL</th>\n",
       "      <th>unknown</th>\n",
       "      <th>Action</th>\n",
       "      <th>Adventure</th>\n",
       "      <th>Animation</th>\n",
       "      <th>Children's</th>\n",
       "      <th>...</th>\n",
       "      <th>Fantasy</th>\n",
       "      <th>Film-Noir</th>\n",
       "      <th>Horror</th>\n",
       "      <th>Musical</th>\n",
       "      <th>Mystery</th>\n",
       "      <th>Romance</th>\n",
       "      <th>Sci-Fi</th>\n",
       "      <th>Thriller</th>\n",
       "      <th>War</th>\n",
       "      <th>Western</th>\n",
       "    </tr>\n",
       "  </thead>\n",
       "  <tbody>\n",
       "    <tr>\n",
       "      <th>0</th>\n",
       "      <td>1</td>\n",
       "      <td>Toy Story (1995)</td>\n",
       "      <td>01-Jan-1995</td>\n",
       "      <td>NaN</td>\n",
       "      <td>http://us.imdb.com/M/title-exact?Toy%20Story%2...</td>\n",
       "      <td>0</td>\n",
       "      <td>0</td>\n",
       "      <td>0</td>\n",
       "      <td>1</td>\n",
       "      <td>1</td>\n",
       "      <td>...</td>\n",
       "      <td>0</td>\n",
       "      <td>0</td>\n",
       "      <td>0</td>\n",
       "      <td>0</td>\n",
       "      <td>0</td>\n",
       "      <td>0</td>\n",
       "      <td>0</td>\n",
       "      <td>0</td>\n",
       "      <td>0</td>\n",
       "      <td>0</td>\n",
       "    </tr>\n",
       "    <tr>\n",
       "      <th>1</th>\n",
       "      <td>2</td>\n",
       "      <td>GoldenEye (1995)</td>\n",
       "      <td>01-Jan-1995</td>\n",
       "      <td>NaN</td>\n",
       "      <td>http://us.imdb.com/M/title-exact?GoldenEye%20(...</td>\n",
       "      <td>0</td>\n",
       "      <td>1</td>\n",
       "      <td>1</td>\n",
       "      <td>0</td>\n",
       "      <td>0</td>\n",
       "      <td>...</td>\n",
       "      <td>0</td>\n",
       "      <td>0</td>\n",
       "      <td>0</td>\n",
       "      <td>0</td>\n",
       "      <td>0</td>\n",
       "      <td>0</td>\n",
       "      <td>0</td>\n",
       "      <td>1</td>\n",
       "      <td>0</td>\n",
       "      <td>0</td>\n",
       "    </tr>\n",
       "    <tr>\n",
       "      <th>2</th>\n",
       "      <td>3</td>\n",
       "      <td>Four Rooms (1995)</td>\n",
       "      <td>01-Jan-1995</td>\n",
       "      <td>NaN</td>\n",
       "      <td>http://us.imdb.com/M/title-exact?Four%20Rooms%...</td>\n",
       "      <td>0</td>\n",
       "      <td>0</td>\n",
       "      <td>0</td>\n",
       "      <td>0</td>\n",
       "      <td>0</td>\n",
       "      <td>...</td>\n",
       "      <td>0</td>\n",
       "      <td>0</td>\n",
       "      <td>0</td>\n",
       "      <td>0</td>\n",
       "      <td>0</td>\n",
       "      <td>0</td>\n",
       "      <td>0</td>\n",
       "      <td>1</td>\n",
       "      <td>0</td>\n",
       "      <td>0</td>\n",
       "    </tr>\n",
       "    <tr>\n",
       "      <th>3</th>\n",
       "      <td>4</td>\n",
       "      <td>Get Shorty (1995)</td>\n",
       "      <td>01-Jan-1995</td>\n",
       "      <td>NaN</td>\n",
       "      <td>http://us.imdb.com/M/title-exact?Get%20Shorty%...</td>\n",
       "      <td>0</td>\n",
       "      <td>1</td>\n",
       "      <td>0</td>\n",
       "      <td>0</td>\n",
       "      <td>0</td>\n",
       "      <td>...</td>\n",
       "      <td>0</td>\n",
       "      <td>0</td>\n",
       "      <td>0</td>\n",
       "      <td>0</td>\n",
       "      <td>0</td>\n",
       "      <td>0</td>\n",
       "      <td>0</td>\n",
       "      <td>0</td>\n",
       "      <td>0</td>\n",
       "      <td>0</td>\n",
       "    </tr>\n",
       "    <tr>\n",
       "      <th>4</th>\n",
       "      <td>5</td>\n",
       "      <td>Copycat (1995)</td>\n",
       "      <td>01-Jan-1995</td>\n",
       "      <td>NaN</td>\n",
       "      <td>http://us.imdb.com/M/title-exact?Copycat%20(1995)</td>\n",
       "      <td>0</td>\n",
       "      <td>0</td>\n",
       "      <td>0</td>\n",
       "      <td>0</td>\n",
       "      <td>0</td>\n",
       "      <td>...</td>\n",
       "      <td>0</td>\n",
       "      <td>0</td>\n",
       "      <td>0</td>\n",
       "      <td>0</td>\n",
       "      <td>0</td>\n",
       "      <td>0</td>\n",
       "      <td>0</td>\n",
       "      <td>1</td>\n",
       "      <td>0</td>\n",
       "      <td>0</td>\n",
       "    </tr>\n",
       "    <tr>\n",
       "      <th>...</th>\n",
       "      <td>...</td>\n",
       "      <td>...</td>\n",
       "      <td>...</td>\n",
       "      <td>...</td>\n",
       "      <td>...</td>\n",
       "      <td>...</td>\n",
       "      <td>...</td>\n",
       "      <td>...</td>\n",
       "      <td>...</td>\n",
       "      <td>...</td>\n",
       "      <td>...</td>\n",
       "      <td>...</td>\n",
       "      <td>...</td>\n",
       "      <td>...</td>\n",
       "      <td>...</td>\n",
       "      <td>...</td>\n",
       "      <td>...</td>\n",
       "      <td>...</td>\n",
       "      <td>...</td>\n",
       "      <td>...</td>\n",
       "      <td>...</td>\n",
       "    </tr>\n",
       "    <tr>\n",
       "      <th>1677</th>\n",
       "      <td>1678</td>\n",
       "      <td>Mat' i syn (1997)</td>\n",
       "      <td>06-Feb-1998</td>\n",
       "      <td>NaN</td>\n",
       "      <td>http://us.imdb.com/M/title-exact?Mat%27+i+syn+...</td>\n",
       "      <td>0</td>\n",
       "      <td>0</td>\n",
       "      <td>0</td>\n",
       "      <td>0</td>\n",
       "      <td>0</td>\n",
       "      <td>...</td>\n",
       "      <td>0</td>\n",
       "      <td>0</td>\n",
       "      <td>0</td>\n",
       "      <td>0</td>\n",
       "      <td>0</td>\n",
       "      <td>0</td>\n",
       "      <td>0</td>\n",
       "      <td>0</td>\n",
       "      <td>0</td>\n",
       "      <td>0</td>\n",
       "    </tr>\n",
       "    <tr>\n",
       "      <th>1678</th>\n",
       "      <td>1679</td>\n",
       "      <td>B. Monkey (1998)</td>\n",
       "      <td>06-Feb-1998</td>\n",
       "      <td>NaN</td>\n",
       "      <td>http://us.imdb.com/M/title-exact?B%2E+Monkey+(...</td>\n",
       "      <td>0</td>\n",
       "      <td>0</td>\n",
       "      <td>0</td>\n",
       "      <td>0</td>\n",
       "      <td>0</td>\n",
       "      <td>...</td>\n",
       "      <td>0</td>\n",
       "      <td>0</td>\n",
       "      <td>0</td>\n",
       "      <td>0</td>\n",
       "      <td>0</td>\n",
       "      <td>1</td>\n",
       "      <td>0</td>\n",
       "      <td>1</td>\n",
       "      <td>0</td>\n",
       "      <td>0</td>\n",
       "    </tr>\n",
       "    <tr>\n",
       "      <th>1679</th>\n",
       "      <td>1680</td>\n",
       "      <td>Sliding Doors (1998)</td>\n",
       "      <td>01-Jan-1998</td>\n",
       "      <td>NaN</td>\n",
       "      <td>http://us.imdb.com/Title?Sliding+Doors+(1998)</td>\n",
       "      <td>0</td>\n",
       "      <td>0</td>\n",
       "      <td>0</td>\n",
       "      <td>0</td>\n",
       "      <td>0</td>\n",
       "      <td>...</td>\n",
       "      <td>0</td>\n",
       "      <td>0</td>\n",
       "      <td>0</td>\n",
       "      <td>0</td>\n",
       "      <td>0</td>\n",
       "      <td>1</td>\n",
       "      <td>0</td>\n",
       "      <td>0</td>\n",
       "      <td>0</td>\n",
       "      <td>0</td>\n",
       "    </tr>\n",
       "    <tr>\n",
       "      <th>1680</th>\n",
       "      <td>1681</td>\n",
       "      <td>You So Crazy (1994)</td>\n",
       "      <td>01-Jan-1994</td>\n",
       "      <td>NaN</td>\n",
       "      <td>http://us.imdb.com/M/title-exact?You%20So%20Cr...</td>\n",
       "      <td>0</td>\n",
       "      <td>0</td>\n",
       "      <td>0</td>\n",
       "      <td>0</td>\n",
       "      <td>0</td>\n",
       "      <td>...</td>\n",
       "      <td>0</td>\n",
       "      <td>0</td>\n",
       "      <td>0</td>\n",
       "      <td>0</td>\n",
       "      <td>0</td>\n",
       "      <td>0</td>\n",
       "      <td>0</td>\n",
       "      <td>0</td>\n",
       "      <td>0</td>\n",
       "      <td>0</td>\n",
       "    </tr>\n",
       "    <tr>\n",
       "      <th>1681</th>\n",
       "      <td>1682</td>\n",
       "      <td>Scream of Stone (Schrei aus Stein) (1991)</td>\n",
       "      <td>08-Mar-1996</td>\n",
       "      <td>NaN</td>\n",
       "      <td>http://us.imdb.com/M/title-exact?Schrei%20aus%...</td>\n",
       "      <td>0</td>\n",
       "      <td>0</td>\n",
       "      <td>0</td>\n",
       "      <td>0</td>\n",
       "      <td>0</td>\n",
       "      <td>...</td>\n",
       "      <td>0</td>\n",
       "      <td>0</td>\n",
       "      <td>0</td>\n",
       "      <td>0</td>\n",
       "      <td>0</td>\n",
       "      <td>0</td>\n",
       "      <td>0</td>\n",
       "      <td>0</td>\n",
       "      <td>0</td>\n",
       "      <td>0</td>\n",
       "    </tr>\n",
       "  </tbody>\n",
       "</table>\n",
       "<p>1682 rows × 24 columns</p>\n",
       "</div>"
      ],
      "text/plain": [
       "      movie id                                movie title   release date   \\\n",
       "0             1                           Toy Story (1995)    01-Jan-1995   \n",
       "1             2                           GoldenEye (1995)    01-Jan-1995   \n",
       "2             3                          Four Rooms (1995)    01-Jan-1995   \n",
       "3             4                          Get Shorty (1995)    01-Jan-1995   \n",
       "4             5                             Copycat (1995)    01-Jan-1995   \n",
       "...         ...                                        ...            ...   \n",
       "1677       1678                          Mat' i syn (1997)    06-Feb-1998   \n",
       "1678       1679                           B. Monkey (1998)    06-Feb-1998   \n",
       "1679       1680                       Sliding Doors (1998)    01-Jan-1998   \n",
       "1680       1681                        You So Crazy (1994)    01-Jan-1994   \n",
       "1681       1682  Scream of Stone (Schrei aus Stein) (1991)    08-Mar-1996   \n",
       "\n",
       "       video release date                                           IMDb URL   \\\n",
       "0                      NaN  http://us.imdb.com/M/title-exact?Toy%20Story%2...   \n",
       "1                      NaN  http://us.imdb.com/M/title-exact?GoldenEye%20(...   \n",
       "2                      NaN  http://us.imdb.com/M/title-exact?Four%20Rooms%...   \n",
       "3                      NaN  http://us.imdb.com/M/title-exact?Get%20Shorty%...   \n",
       "4                      NaN  http://us.imdb.com/M/title-exact?Copycat%20(1995)   \n",
       "...                    ...                                                ...   \n",
       "1677                   NaN  http://us.imdb.com/M/title-exact?Mat%27+i+syn+...   \n",
       "1678                   NaN  http://us.imdb.com/M/title-exact?B%2E+Monkey+(...   \n",
       "1679                   NaN      http://us.imdb.com/Title?Sliding+Doors+(1998)   \n",
       "1680                   NaN  http://us.imdb.com/M/title-exact?You%20So%20Cr...   \n",
       "1681                   NaN  http://us.imdb.com/M/title-exact?Schrei%20aus%...   \n",
       "\n",
       "       unknown    Action    Adventure    Animation    Children's   ...  \\\n",
       "0             0         0            0            1             1  ...   \n",
       "1             0         1            1            0             0  ...   \n",
       "2             0         0            0            0             0  ...   \n",
       "3             0         1            0            0             0  ...   \n",
       "4             0         0            0            0             0  ...   \n",
       "...         ...       ...          ...          ...           ...  ...   \n",
       "1677          0         0            0            0             0  ...   \n",
       "1678          0         0            0            0             0  ...   \n",
       "1679          0         0            0            0             0  ...   \n",
       "1680          0         0            0            0             0  ...   \n",
       "1681          0         0            0            0             0  ...   \n",
       "\n",
       "       Fantasy    Film-Noir    Horror    Musical    Mystery    Romance   \\\n",
       "0             0            0         0          0          0          0   \n",
       "1             0            0         0          0          0          0   \n",
       "2             0            0         0          0          0          0   \n",
       "3             0            0         0          0          0          0   \n",
       "4             0            0         0          0          0          0   \n",
       "...         ...          ...       ...        ...        ...        ...   \n",
       "1677          0            0         0          0          0          0   \n",
       "1678          0            0         0          0          0          1   \n",
       "1679          0            0         0          0          0          1   \n",
       "1680          0            0         0          0          0          0   \n",
       "1681          0            0         0          0          0          0   \n",
       "\n",
       "       Sci-Fi    Thriller    War    Western  \n",
       "0            0           0      0         0  \n",
       "1            0           1      0         0  \n",
       "2            0           1      0         0  \n",
       "3            0           0      0         0  \n",
       "4            0           1      0         0  \n",
       "...        ...         ...    ...       ...  \n",
       "1677         0           0      0         0  \n",
       "1678         0           1      0         0  \n",
       "1679         0           0      0         0  \n",
       "1680         0           0      0         0  \n",
       "1681         0           0      0         0  \n",
       "\n",
       "[1682 rows x 24 columns]"
      ]
     },
     "execution_count": 7,
     "metadata": {},
     "output_type": "execute_result"
    }
   ],
   "source": [
    "items"
   ]
  },
  {
   "cell_type": "code",
   "execution_count": 8,
   "id": "catholic-incidence",
   "metadata": {},
   "outputs": [
    {
     "data": {
      "text/html": [
       "<div>\n",
       "<style scoped>\n",
       "    .dataframe tbody tr th:only-of-type {\n",
       "        vertical-align: middle;\n",
       "    }\n",
       "\n",
       "    .dataframe tbody tr th {\n",
       "        vertical-align: top;\n",
       "    }\n",
       "\n",
       "    .dataframe thead th {\n",
       "        text-align: right;\n",
       "    }\n",
       "</style>\n",
       "<table border=\"1\" class=\"dataframe\">\n",
       "  <thead>\n",
       "    <tr style=\"text-align: right;\">\n",
       "      <th></th>\n",
       "      <th>id</th>\n",
       "      <th>age</th>\n",
       "      <th>gender</th>\n",
       "      <th>job</th>\n",
       "      <th>zip</th>\n",
       "    </tr>\n",
       "  </thead>\n",
       "  <tbody>\n",
       "    <tr>\n",
       "      <th>0</th>\n",
       "      <td>1</td>\n",
       "      <td>24</td>\n",
       "      <td>M</td>\n",
       "      <td>technician</td>\n",
       "      <td>85711</td>\n",
       "    </tr>\n",
       "    <tr>\n",
       "      <th>1</th>\n",
       "      <td>2</td>\n",
       "      <td>53</td>\n",
       "      <td>F</td>\n",
       "      <td>other</td>\n",
       "      <td>94043</td>\n",
       "    </tr>\n",
       "    <tr>\n",
       "      <th>2</th>\n",
       "      <td>3</td>\n",
       "      <td>23</td>\n",
       "      <td>M</td>\n",
       "      <td>writer</td>\n",
       "      <td>32067</td>\n",
       "    </tr>\n",
       "    <tr>\n",
       "      <th>3</th>\n",
       "      <td>4</td>\n",
       "      <td>24</td>\n",
       "      <td>M</td>\n",
       "      <td>technician</td>\n",
       "      <td>43537</td>\n",
       "    </tr>\n",
       "    <tr>\n",
       "      <th>4</th>\n",
       "      <td>5</td>\n",
       "      <td>33</td>\n",
       "      <td>F</td>\n",
       "      <td>other</td>\n",
       "      <td>15213</td>\n",
       "    </tr>\n",
       "    <tr>\n",
       "      <th>...</th>\n",
       "      <td>...</td>\n",
       "      <td>...</td>\n",
       "      <td>...</td>\n",
       "      <td>...</td>\n",
       "      <td>...</td>\n",
       "    </tr>\n",
       "    <tr>\n",
       "      <th>938</th>\n",
       "      <td>939</td>\n",
       "      <td>26</td>\n",
       "      <td>F</td>\n",
       "      <td>student</td>\n",
       "      <td>33319</td>\n",
       "    </tr>\n",
       "    <tr>\n",
       "      <th>939</th>\n",
       "      <td>940</td>\n",
       "      <td>32</td>\n",
       "      <td>M</td>\n",
       "      <td>administrator</td>\n",
       "      <td>02215</td>\n",
       "    </tr>\n",
       "    <tr>\n",
       "      <th>940</th>\n",
       "      <td>941</td>\n",
       "      <td>20</td>\n",
       "      <td>M</td>\n",
       "      <td>student</td>\n",
       "      <td>97229</td>\n",
       "    </tr>\n",
       "    <tr>\n",
       "      <th>941</th>\n",
       "      <td>942</td>\n",
       "      <td>48</td>\n",
       "      <td>F</td>\n",
       "      <td>librarian</td>\n",
       "      <td>78209</td>\n",
       "    </tr>\n",
       "    <tr>\n",
       "      <th>942</th>\n",
       "      <td>943</td>\n",
       "      <td>22</td>\n",
       "      <td>M</td>\n",
       "      <td>student</td>\n",
       "      <td>77841</td>\n",
       "    </tr>\n",
       "  </tbody>\n",
       "</table>\n",
       "<p>943 rows × 5 columns</p>\n",
       "</div>"
      ],
      "text/plain": [
       "     id    age   gender            job     zip\n",
       "0      1     24        M     technician  85711\n",
       "1      2     53        F          other  94043\n",
       "2      3     23        M         writer  32067\n",
       "3      4     24        M     technician  43537\n",
       "4      5     33        F          other  15213\n",
       "..   ...    ...      ...            ...    ...\n",
       "938  939     26        F        student  33319\n",
       "939  940     32        M  administrator  02215\n",
       "940  941     20        M        student  97229\n",
       "941  942     48        F      librarian  78209\n",
       "942  943     22        M        student  77841\n",
       "\n",
       "[943 rows x 5 columns]"
      ]
     },
     "execution_count": 8,
     "metadata": {},
     "output_type": "execute_result"
    }
   ],
   "source": [
    "u"
   ]
  },
  {
   "cell_type": "code",
   "execution_count": 9,
   "id": "secure-lexington",
   "metadata": {},
   "outputs": [
    {
     "data": {
      "text/html": [
       "<div>\n",
       "<style scoped>\n",
       "    .dataframe tbody tr th:only-of-type {\n",
       "        vertical-align: middle;\n",
       "    }\n",
       "\n",
       "    .dataframe tbody tr th {\n",
       "        vertical-align: top;\n",
       "    }\n",
       "\n",
       "    .dataframe thead th {\n",
       "        text-align: right;\n",
       "    }\n",
       "</style>\n",
       "<table border=\"1\" class=\"dataframe\">\n",
       "  <thead>\n",
       "    <tr style=\"text-align: right;\">\n",
       "      <th></th>\n",
       "      <th>user.id</th>\n",
       "      <th>item.id</th>\n",
       "      <th>rating</th>\n",
       "      <th>timestamp</th>\n",
       "    </tr>\n",
       "  </thead>\n",
       "  <tbody>\n",
       "    <tr>\n",
       "      <th>0</th>\n",
       "      <td>196</td>\n",
       "      <td>242</td>\n",
       "      <td>3</td>\n",
       "      <td>881250949</td>\n",
       "    </tr>\n",
       "    <tr>\n",
       "      <th>1</th>\n",
       "      <td>186</td>\n",
       "      <td>302</td>\n",
       "      <td>3</td>\n",
       "      <td>891717742</td>\n",
       "    </tr>\n",
       "    <tr>\n",
       "      <th>2</th>\n",
       "      <td>22</td>\n",
       "      <td>377</td>\n",
       "      <td>1</td>\n",
       "      <td>878887116</td>\n",
       "    </tr>\n",
       "    <tr>\n",
       "      <th>3</th>\n",
       "      <td>244</td>\n",
       "      <td>51</td>\n",
       "      <td>2</td>\n",
       "      <td>880606923</td>\n",
       "    </tr>\n",
       "    <tr>\n",
       "      <th>4</th>\n",
       "      <td>166</td>\n",
       "      <td>346</td>\n",
       "      <td>1</td>\n",
       "      <td>886397596</td>\n",
       "    </tr>\n",
       "    <tr>\n",
       "      <th>...</th>\n",
       "      <td>...</td>\n",
       "      <td>...</td>\n",
       "      <td>...</td>\n",
       "      <td>...</td>\n",
       "    </tr>\n",
       "    <tr>\n",
       "      <th>99995</th>\n",
       "      <td>880</td>\n",
       "      <td>476</td>\n",
       "      <td>3</td>\n",
       "      <td>880175444</td>\n",
       "    </tr>\n",
       "    <tr>\n",
       "      <th>99996</th>\n",
       "      <td>716</td>\n",
       "      <td>204</td>\n",
       "      <td>5</td>\n",
       "      <td>879795543</td>\n",
       "    </tr>\n",
       "    <tr>\n",
       "      <th>99997</th>\n",
       "      <td>276</td>\n",
       "      <td>1090</td>\n",
       "      <td>1</td>\n",
       "      <td>874795795</td>\n",
       "    </tr>\n",
       "    <tr>\n",
       "      <th>99998</th>\n",
       "      <td>13</td>\n",
       "      <td>225</td>\n",
       "      <td>2</td>\n",
       "      <td>882399156</td>\n",
       "    </tr>\n",
       "    <tr>\n",
       "      <th>99999</th>\n",
       "      <td>12</td>\n",
       "      <td>203</td>\n",
       "      <td>3</td>\n",
       "      <td>879959583</td>\n",
       "    </tr>\n",
       "  </tbody>\n",
       "</table>\n",
       "<p>100000 rows × 4 columns</p>\n",
       "</div>"
      ],
      "text/plain": [
       "       user.id  item.id  rating  timestamp\n",
       "0          196      242       3  881250949\n",
       "1          186      302       3  891717742\n",
       "2           22      377       1  878887116\n",
       "3          244       51       2  880606923\n",
       "4          166      346       1  886397596\n",
       "...        ...      ...     ...        ...\n",
       "99995      880      476       3  880175444\n",
       "99996      716      204       5  879795543\n",
       "99997      276     1090       1  874795795\n",
       "99998       13      225       2  882399156\n",
       "99999       12      203       3  879959583\n",
       "\n",
       "[100000 rows x 4 columns]"
      ]
     },
     "execution_count": 9,
     "metadata": {},
     "output_type": "execute_result"
    }
   ],
   "source": [
    "votes"
   ]
  },
  {
   "cell_type": "markdown",
   "id": "hollow-incentive",
   "metadata": {},
   "source": [
    "## Creation of sparse matrix : User-item matrix"
   ]
  },
  {
   "cell_type": "code",
   "execution_count": 10,
   "id": "collected-economics",
   "metadata": {},
   "outputs": [],
   "source": [
    "# The number of users \n",
    "N_USERS = u.shape[0] +1\n",
    "# The number of items \n",
    "N_ITEMS = items.shape[0] +1 "
   ]
  },
  {
   "cell_type": "code",
   "execution_count": 11,
   "id": "unusual-suspect",
   "metadata": {},
   "outputs": [],
   "source": [
    "def create_sparse_matrix(votes) : \n",
    "    ''' Create a User-Items sparse matrix '''\n",
    "    # Create NaN for each items and users \n",
    "    data = {i : [np.nan for j in range(N_USERS )] for i in range(N_ITEMS)}\n",
    "    def to_convert(x, data) :\n",
    "        data[x['item.id']][x['user.id']] = x['rating']\n",
    "        return None \n",
    "    votes.apply(to_convert , axis = 1 , args = [data])\n",
    "    return pd.DataFrame(data)"
   ]
  },
  {
   "cell_type": "code",
   "execution_count": 12,
   "id": "annual-while",
   "metadata": {},
   "outputs": [],
   "source": [
    "user_item = create_sparse_matrix(votes)"
   ]
  },
  {
   "cell_type": "code",
   "execution_count": 13,
   "id": "romantic-stationery",
   "metadata": {},
   "outputs": [
    {
     "data": {
      "text/html": [
       "<div>\n",
       "<style scoped>\n",
       "    .dataframe tbody tr th:only-of-type {\n",
       "        vertical-align: middle;\n",
       "    }\n",
       "\n",
       "    .dataframe tbody tr th {\n",
       "        vertical-align: top;\n",
       "    }\n",
       "\n",
       "    .dataframe thead th {\n",
       "        text-align: right;\n",
       "    }\n",
       "</style>\n",
       "<table border=\"1\" class=\"dataframe\">\n",
       "  <thead>\n",
       "    <tr style=\"text-align: right;\">\n",
       "      <th></th>\n",
       "      <th>0</th>\n",
       "      <th>1</th>\n",
       "      <th>2</th>\n",
       "      <th>3</th>\n",
       "      <th>4</th>\n",
       "      <th>5</th>\n",
       "      <th>6</th>\n",
       "      <th>7</th>\n",
       "      <th>8</th>\n",
       "      <th>9</th>\n",
       "      <th>...</th>\n",
       "      <th>1673</th>\n",
       "      <th>1674</th>\n",
       "      <th>1675</th>\n",
       "      <th>1676</th>\n",
       "      <th>1677</th>\n",
       "      <th>1678</th>\n",
       "      <th>1679</th>\n",
       "      <th>1680</th>\n",
       "      <th>1681</th>\n",
       "      <th>1682</th>\n",
       "    </tr>\n",
       "  </thead>\n",
       "  <tbody>\n",
       "    <tr>\n",
       "      <th>0</th>\n",
       "      <td>NaN</td>\n",
       "      <td>NaN</td>\n",
       "      <td>NaN</td>\n",
       "      <td>NaN</td>\n",
       "      <td>NaN</td>\n",
       "      <td>NaN</td>\n",
       "      <td>NaN</td>\n",
       "      <td>NaN</td>\n",
       "      <td>NaN</td>\n",
       "      <td>NaN</td>\n",
       "      <td>...</td>\n",
       "      <td>NaN</td>\n",
       "      <td>NaN</td>\n",
       "      <td>NaN</td>\n",
       "      <td>NaN</td>\n",
       "      <td>NaN</td>\n",
       "      <td>NaN</td>\n",
       "      <td>NaN</td>\n",
       "      <td>NaN</td>\n",
       "      <td>NaN</td>\n",
       "      <td>NaN</td>\n",
       "    </tr>\n",
       "    <tr>\n",
       "      <th>1</th>\n",
       "      <td>NaN</td>\n",
       "      <td>5.0</td>\n",
       "      <td>3.0</td>\n",
       "      <td>4.0</td>\n",
       "      <td>3.0</td>\n",
       "      <td>3.0</td>\n",
       "      <td>5.0</td>\n",
       "      <td>4.0</td>\n",
       "      <td>1.0</td>\n",
       "      <td>5.0</td>\n",
       "      <td>...</td>\n",
       "      <td>NaN</td>\n",
       "      <td>NaN</td>\n",
       "      <td>NaN</td>\n",
       "      <td>NaN</td>\n",
       "      <td>NaN</td>\n",
       "      <td>NaN</td>\n",
       "      <td>NaN</td>\n",
       "      <td>NaN</td>\n",
       "      <td>NaN</td>\n",
       "      <td>NaN</td>\n",
       "    </tr>\n",
       "    <tr>\n",
       "      <th>2</th>\n",
       "      <td>NaN</td>\n",
       "      <td>4.0</td>\n",
       "      <td>NaN</td>\n",
       "      <td>NaN</td>\n",
       "      <td>NaN</td>\n",
       "      <td>NaN</td>\n",
       "      <td>NaN</td>\n",
       "      <td>NaN</td>\n",
       "      <td>NaN</td>\n",
       "      <td>NaN</td>\n",
       "      <td>...</td>\n",
       "      <td>NaN</td>\n",
       "      <td>NaN</td>\n",
       "      <td>NaN</td>\n",
       "      <td>NaN</td>\n",
       "      <td>NaN</td>\n",
       "      <td>NaN</td>\n",
       "      <td>NaN</td>\n",
       "      <td>NaN</td>\n",
       "      <td>NaN</td>\n",
       "      <td>NaN</td>\n",
       "    </tr>\n",
       "    <tr>\n",
       "      <th>3</th>\n",
       "      <td>NaN</td>\n",
       "      <td>NaN</td>\n",
       "      <td>NaN</td>\n",
       "      <td>NaN</td>\n",
       "      <td>NaN</td>\n",
       "      <td>NaN</td>\n",
       "      <td>NaN</td>\n",
       "      <td>NaN</td>\n",
       "      <td>NaN</td>\n",
       "      <td>NaN</td>\n",
       "      <td>...</td>\n",
       "      <td>NaN</td>\n",
       "      <td>NaN</td>\n",
       "      <td>NaN</td>\n",
       "      <td>NaN</td>\n",
       "      <td>NaN</td>\n",
       "      <td>NaN</td>\n",
       "      <td>NaN</td>\n",
       "      <td>NaN</td>\n",
       "      <td>NaN</td>\n",
       "      <td>NaN</td>\n",
       "    </tr>\n",
       "    <tr>\n",
       "      <th>4</th>\n",
       "      <td>NaN</td>\n",
       "      <td>NaN</td>\n",
       "      <td>NaN</td>\n",
       "      <td>NaN</td>\n",
       "      <td>NaN</td>\n",
       "      <td>NaN</td>\n",
       "      <td>NaN</td>\n",
       "      <td>NaN</td>\n",
       "      <td>NaN</td>\n",
       "      <td>NaN</td>\n",
       "      <td>...</td>\n",
       "      <td>NaN</td>\n",
       "      <td>NaN</td>\n",
       "      <td>NaN</td>\n",
       "      <td>NaN</td>\n",
       "      <td>NaN</td>\n",
       "      <td>NaN</td>\n",
       "      <td>NaN</td>\n",
       "      <td>NaN</td>\n",
       "      <td>NaN</td>\n",
       "      <td>NaN</td>\n",
       "    </tr>\n",
       "    <tr>\n",
       "      <th>...</th>\n",
       "      <td>...</td>\n",
       "      <td>...</td>\n",
       "      <td>...</td>\n",
       "      <td>...</td>\n",
       "      <td>...</td>\n",
       "      <td>...</td>\n",
       "      <td>...</td>\n",
       "      <td>...</td>\n",
       "      <td>...</td>\n",
       "      <td>...</td>\n",
       "      <td>...</td>\n",
       "      <td>...</td>\n",
       "      <td>...</td>\n",
       "      <td>...</td>\n",
       "      <td>...</td>\n",
       "      <td>...</td>\n",
       "      <td>...</td>\n",
       "      <td>...</td>\n",
       "      <td>...</td>\n",
       "      <td>...</td>\n",
       "      <td>...</td>\n",
       "    </tr>\n",
       "    <tr>\n",
       "      <th>939</th>\n",
       "      <td>NaN</td>\n",
       "      <td>NaN</td>\n",
       "      <td>NaN</td>\n",
       "      <td>NaN</td>\n",
       "      <td>NaN</td>\n",
       "      <td>NaN</td>\n",
       "      <td>NaN</td>\n",
       "      <td>NaN</td>\n",
       "      <td>NaN</td>\n",
       "      <td>5.0</td>\n",
       "      <td>...</td>\n",
       "      <td>NaN</td>\n",
       "      <td>NaN</td>\n",
       "      <td>NaN</td>\n",
       "      <td>NaN</td>\n",
       "      <td>NaN</td>\n",
       "      <td>NaN</td>\n",
       "      <td>NaN</td>\n",
       "      <td>NaN</td>\n",
       "      <td>NaN</td>\n",
       "      <td>NaN</td>\n",
       "    </tr>\n",
       "    <tr>\n",
       "      <th>940</th>\n",
       "      <td>NaN</td>\n",
       "      <td>NaN</td>\n",
       "      <td>NaN</td>\n",
       "      <td>NaN</td>\n",
       "      <td>2.0</td>\n",
       "      <td>NaN</td>\n",
       "      <td>NaN</td>\n",
       "      <td>4.0</td>\n",
       "      <td>5.0</td>\n",
       "      <td>3.0</td>\n",
       "      <td>...</td>\n",
       "      <td>NaN</td>\n",
       "      <td>NaN</td>\n",
       "      <td>NaN</td>\n",
       "      <td>NaN</td>\n",
       "      <td>NaN</td>\n",
       "      <td>NaN</td>\n",
       "      <td>NaN</td>\n",
       "      <td>NaN</td>\n",
       "      <td>NaN</td>\n",
       "      <td>NaN</td>\n",
       "    </tr>\n",
       "    <tr>\n",
       "      <th>941</th>\n",
       "      <td>NaN</td>\n",
       "      <td>5.0</td>\n",
       "      <td>NaN</td>\n",
       "      <td>NaN</td>\n",
       "      <td>NaN</td>\n",
       "      <td>NaN</td>\n",
       "      <td>NaN</td>\n",
       "      <td>4.0</td>\n",
       "      <td>NaN</td>\n",
       "      <td>NaN</td>\n",
       "      <td>...</td>\n",
       "      <td>NaN</td>\n",
       "      <td>NaN</td>\n",
       "      <td>NaN</td>\n",
       "      <td>NaN</td>\n",
       "      <td>NaN</td>\n",
       "      <td>NaN</td>\n",
       "      <td>NaN</td>\n",
       "      <td>NaN</td>\n",
       "      <td>NaN</td>\n",
       "      <td>NaN</td>\n",
       "    </tr>\n",
       "    <tr>\n",
       "      <th>942</th>\n",
       "      <td>NaN</td>\n",
       "      <td>NaN</td>\n",
       "      <td>NaN</td>\n",
       "      <td>NaN</td>\n",
       "      <td>NaN</td>\n",
       "      <td>NaN</td>\n",
       "      <td>NaN</td>\n",
       "      <td>NaN</td>\n",
       "      <td>NaN</td>\n",
       "      <td>NaN</td>\n",
       "      <td>...</td>\n",
       "      <td>NaN</td>\n",
       "      <td>NaN</td>\n",
       "      <td>NaN</td>\n",
       "      <td>NaN</td>\n",
       "      <td>NaN</td>\n",
       "      <td>NaN</td>\n",
       "      <td>NaN</td>\n",
       "      <td>NaN</td>\n",
       "      <td>NaN</td>\n",
       "      <td>NaN</td>\n",
       "    </tr>\n",
       "    <tr>\n",
       "      <th>943</th>\n",
       "      <td>NaN</td>\n",
       "      <td>NaN</td>\n",
       "      <td>5.0</td>\n",
       "      <td>NaN</td>\n",
       "      <td>NaN</td>\n",
       "      <td>NaN</td>\n",
       "      <td>NaN</td>\n",
       "      <td>NaN</td>\n",
       "      <td>NaN</td>\n",
       "      <td>3.0</td>\n",
       "      <td>...</td>\n",
       "      <td>NaN</td>\n",
       "      <td>NaN</td>\n",
       "      <td>NaN</td>\n",
       "      <td>NaN</td>\n",
       "      <td>NaN</td>\n",
       "      <td>NaN</td>\n",
       "      <td>NaN</td>\n",
       "      <td>NaN</td>\n",
       "      <td>NaN</td>\n",
       "      <td>NaN</td>\n",
       "    </tr>\n",
       "  </tbody>\n",
       "</table>\n",
       "<p>944 rows × 1683 columns</p>\n",
       "</div>"
      ],
      "text/plain": [
       "     0     1     2     3     4     5     6     7     8     9     ...  1673  \\\n",
       "0     NaN   NaN   NaN   NaN   NaN   NaN   NaN   NaN   NaN   NaN  ...   NaN   \n",
       "1     NaN   5.0   3.0   4.0   3.0   3.0   5.0   4.0   1.0   5.0  ...   NaN   \n",
       "2     NaN   4.0   NaN   NaN   NaN   NaN   NaN   NaN   NaN   NaN  ...   NaN   \n",
       "3     NaN   NaN   NaN   NaN   NaN   NaN   NaN   NaN   NaN   NaN  ...   NaN   \n",
       "4     NaN   NaN   NaN   NaN   NaN   NaN   NaN   NaN   NaN   NaN  ...   NaN   \n",
       "..    ...   ...   ...   ...   ...   ...   ...   ...   ...   ...  ...   ...   \n",
       "939   NaN   NaN   NaN   NaN   NaN   NaN   NaN   NaN   NaN   5.0  ...   NaN   \n",
       "940   NaN   NaN   NaN   NaN   2.0   NaN   NaN   4.0   5.0   3.0  ...   NaN   \n",
       "941   NaN   5.0   NaN   NaN   NaN   NaN   NaN   4.0   NaN   NaN  ...   NaN   \n",
       "942   NaN   NaN   NaN   NaN   NaN   NaN   NaN   NaN   NaN   NaN  ...   NaN   \n",
       "943   NaN   NaN   5.0   NaN   NaN   NaN   NaN   NaN   NaN   3.0  ...   NaN   \n",
       "\n",
       "     1674  1675  1676  1677  1678  1679  1680  1681  1682  \n",
       "0     NaN   NaN   NaN   NaN   NaN   NaN   NaN   NaN   NaN  \n",
       "1     NaN   NaN   NaN   NaN   NaN   NaN   NaN   NaN   NaN  \n",
       "2     NaN   NaN   NaN   NaN   NaN   NaN   NaN   NaN   NaN  \n",
       "3     NaN   NaN   NaN   NaN   NaN   NaN   NaN   NaN   NaN  \n",
       "4     NaN   NaN   NaN   NaN   NaN   NaN   NaN   NaN   NaN  \n",
       "..    ...   ...   ...   ...   ...   ...   ...   ...   ...  \n",
       "939   NaN   NaN   NaN   NaN   NaN   NaN   NaN   NaN   NaN  \n",
       "940   NaN   NaN   NaN   NaN   NaN   NaN   NaN   NaN   NaN  \n",
       "941   NaN   NaN   NaN   NaN   NaN   NaN   NaN   NaN   NaN  \n",
       "942   NaN   NaN   NaN   NaN   NaN   NaN   NaN   NaN   NaN  \n",
       "943   NaN   NaN   NaN   NaN   NaN   NaN   NaN   NaN   NaN  \n",
       "\n",
       "[944 rows x 1683 columns]"
      ]
     },
     "execution_count": 13,
     "metadata": {},
     "output_type": "execute_result"
    }
   ],
   "source": [
    "user_item"
   ]
  },
  {
   "cell_type": "code",
   "execution_count": 14,
   "id": "seeing-vocabulary",
   "metadata": {},
   "outputs": [],
   "source": [
    "# We drop the first user who has no grades\n",
    "user_item= user_item.iloc[1:,1:]"
   ]
  },
  {
   "cell_type": "markdown",
   "id": "impossible-twist",
   "metadata": {},
   "source": [
    "- On convertit les votes de la matrice user-items en des valeurs binaires"
   ]
  },
  {
   "cell_type": "code",
   "execution_count": 15,
   "id": "white-conviction",
   "metadata": {},
   "outputs": [],
   "source": [
    "def convert_to_binary(user_item):\n",
    "    \"\"\"\n",
    "    returns a binary matrix by replacing votes equal or greater than 4 by 1 and 0 otherwise\n",
    "    \"\"\"\n",
    "    user_item_binary = user_item.copy()\n",
    "    # votes with 4 and 5 values become 1 and 0 otherwise \n",
    "    user_item_binary[user_item_binary < 4] = 0\n",
    "    user_item_binary[user_item_binary >= 4] = 1\n",
    "    return user_item_binary"
   ]
  },
  {
   "cell_type": "markdown",
   "id": "greatest-standard",
   "metadata": {},
   "source": [
    "- On compte le nombre total des aime/aime pas indépendemment des features"
   ]
  },
  {
   "cell_type": "code",
   "execution_count": 16,
   "id": "arbitrary-lesbian",
   "metadata": {},
   "outputs": [],
   "source": [
    "def count_global_likes(user_item):\n",
    "    \"\"\"\n",
    "    Counts global likes dislikes per item\n",
    "    \"\"\"\n",
    "    #A df with number of likes and dislikes per item\n",
    "    items_global_likes = pd.DataFrame(np.zeros((N_ITEMS-1, 2)), index = range(1,N_ITEMS))\n",
    "    user_item_binary = convert_to_binary(user_item)\n",
    "    for item in range(1,N_ITEMS):\n",
    "        #Count number of 1(likes) and 0(dislikes) per item\n",
    "        likes = user_item_binary[item].value_counts(normalize=False)\n",
    "        #Fill with global number of likes and likes per item\n",
    "        items_global_likes.loc[item,:] = likes\n",
    "        #items_global_likes.loc[item,[\"dislikes\",\"likes\"]] = likes\n",
    "    return user_item_binary, items_global_likes"
   ]
  },
  {
   "cell_type": "markdown",
   "id": "important-ranch",
   "metadata": {},
   "source": [
    "- On convertit l'age en deux classes 'young' et 'old'"
   ]
  },
  {
   "cell_type": "code",
   "execution_count": 17,
   "id": "norman-visit",
   "metadata": {},
   "outputs": [],
   "source": [
    "def labelize_age(u):\n",
    "    \"\"\"\n",
    "    labelize age based on users who are older than 25 are considered old\n",
    "    rerturn a pandas Series with labelized ages\n",
    "    \"\"\"\n",
    "    age_categorical = u[' age '].copy()\n",
    "    age_categorical[u[' age '] > 25 ] = 'old'\n",
    "    age_categorical[u[' age '] <= 25] = 'young'\n",
    "    age_categorical = pd.DataFrame({'id ':[int(idx) for idx in u['id '].values],\n",
    "                                    ' age ': age_categorical.values}, index = range(1,N_USERS))          \n",
    "    return age_categorical"
   ]
  },
  {
   "cell_type": "code",
   "execution_count": 18,
   "id": "prepared-humidity",
   "metadata": {},
   "outputs": [],
   "source": [
    "def return_dict_feature_ids(u,column, age = False):\n",
    "    \"\"\"\n",
    "    returns a dictionary of a feature categories with their associated users ids\n",
    "    \"\"\"\n",
    "    feature_per_ids = {}\n",
    "    #A df with a feature and its associated ids users, for we you labelize ages \n",
    "    if age:\n",
    "        df_feature = labelize_age(u)\n",
    "    else:\n",
    "        df_feature = u[['id ', column]].copy() \n",
    "    #group by feature per user_ids\n",
    "    feature_per_ids = {name: group['id '].values for name,group in df_feature.groupby([column])}\n",
    "    return feature_per_ids"
   ]
  },
  {
   "cell_type": "markdown",
   "id": "practical-dispute",
   "metadata": {},
   "source": [
    "- On retourne le nombre des aime/aime-pas par feature"
   ]
  },
  {
   "cell_type": "code",
   "execution_count": 19,
   "id": "different-making",
   "metadata": {},
   "outputs": [],
   "source": [
    "def return_likes_dislikes_per_feature(u, user_item_binary, feature_per_ids):\n",
    "    \"\"\"\n",
    "    returns likes dislikes matrices per feature\n",
    "    \"\"\"\n",
    "    #initializations\n",
    "    item_likes_per_feature = pd.DataFrame(np.nan, index = feature_per_ids.keys(), columns = range(1,N_ITEMS))\n",
    "    item_dislikes_per_feature = pd.DataFrame(np.nan, index = feature_per_ids.keys(), columns = range(1,N_ITEMS))\n",
    "    #Loop over features and associated users ids\n",
    "    for job, ids in feature_per_ids.items():\n",
    "        item_likes_per_feature.loc[job] = user_item_binary.loc[ids][user_item_binary.loc[ids]==1].count()\n",
    "        item_dislikes_per_feature.loc[job] = user_item_binary.loc[ids][user_item_binary.loc[ids]==0].count()\n",
    "    \n",
    "    return item_likes_per_feature, item_dislikes_per_feature"
   ]
  },
  {
   "cell_type": "markdown",
   "id": "stable-philosophy",
   "metadata": {},
   "source": [
    "- On calcule les odds et les probabilités globaux"
   ]
  },
  {
   "cell_type": "code",
   "execution_count": 20,
   "id": "elder-editing",
   "metadata": {},
   "outputs": [],
   "source": [
    "user_item_binary, items_global_likes = count_global_likes(user_item)\n",
    "odds_likes = (items_global_likes.iloc[:,1]/items_global_likes.iloc[:,0])\n",
    "proba_likes = odds_likes/(1+odds_likes)"
   ]
  },
  {
   "cell_type": "markdown",
   "id": "golden-subsection",
   "metadata": {},
   "source": [
    "- On calcule les odds des jobs"
   ]
  },
  {
   "cell_type": "code",
   "execution_count": 21,
   "id": "stuffed-sugar",
   "metadata": {},
   "outputs": [],
   "source": [
    "#Returns a dictionary of jobs categories with their associated users ids\n",
    "jobs_per_ids = return_dict_feature_ids(u, ' job ') \n",
    "#Return items likes and dislikes matrices per job\n",
    "item_likes_per_job, item_dislikes_per_job = return_likes_dislikes_per_feature(u, user_item_binary, jobs_per_ids)\n",
    "#calculate odds related to jobs\n",
    "users_items_likes = (item_likes_per_job+1)/(((np.dot(pd.DataFrame(items_global_likes.iloc[:,1].replace(np.nan,0)+2),np.ones((1,item_likes_per_job.shape[0])))).T))\n",
    "users_items_dislikes = (item_dislikes_per_job+1)/(((np.dot(pd.DataFrame(items_global_likes.iloc[:,0].replace(np.nan,0)+2),np.ones((1,item_likes_per_job.shape[0])))).T))\n",
    "odds_jobs = pd.DataFrame(users_items_likes)/pd.DataFrame(users_items_dislikes)"
   ]
  },
  {
   "cell_type": "markdown",
   "id": "legislative-university",
   "metadata": {},
   "source": [
    "- On calcule les odds des genders"
   ]
  },
  {
   "cell_type": "code",
   "execution_count": 22,
   "id": "desirable-dependence",
   "metadata": {},
   "outputs": [],
   "source": [
    "#Returns a dictionary of gender categories with their associated users ids\n",
    "gender_per_ids = return_dict_feature_ids(u, ' gender ')\n",
    "#Return items likes and dislikes matrices per gender\n",
    "item_likes_per_gender, item_dislikes_per_gender = return_likes_dislikes_per_feature(u, user_item_binary, gender_per_ids)\n",
    "#calculate odds related to gender\n",
    "users_items_likes_gender = (item_likes_per_gender+1)/(((np.dot(pd.DataFrame(items_global_likes.iloc[:,1].replace(np.nan,0)),np.ones((1,item_likes_per_gender.shape[0])))).T)+2)\n",
    "users_items_dislikes_gender = (item_dislikes_per_gender+1)/(((np.dot(pd.DataFrame(items_global_likes.iloc[:,0].replace(np.nan,0)),np.ones((1,item_dislikes_per_gender.shape[0])))).T)+2)\n",
    "odds_gender = pd.DataFrame(users_items_likes_gender)/pd.DataFrame(users_items_dislikes_gender)"
   ]
  },
  {
   "cell_type": "markdown",
   "id": "vital-chase",
   "metadata": {},
   "source": [
    "- On calcule les odds des cartégories d'âge"
   ]
  },
  {
   "cell_type": "code",
   "execution_count": 23,
   "id": "quick-stocks",
   "metadata": {},
   "outputs": [],
   "source": [
    "#Returns a dictionary of age categories with their associated users ids\n",
    "age_per_ids = return_dict_feature_ids(u, ' age ', age = True)\n",
    "#Return items likes and dislikes matrices per age\n",
    "item_likes_per_age, item_dislikes_per_age = return_likes_dislikes_per_feature(u, user_item_binary, age_per_ids)\n",
    "#calculate odds related to age\n",
    "users_items_likes_age = (item_likes_per_age + 1)/(((np.dot(pd.DataFrame(items_global_likes.iloc[:,1].replace(np.nan,0)),np.ones((1,item_likes_per_age.shape[0])))).T)+2)\n",
    "users_items_dislikes_age = (item_dislikes_per_age + 1)/(((np.dot(pd.DataFrame(items_global_likes.iloc[:,0].replace(np.nan,0)),np.ones((1,item_dislikes_per_age.shape[0])))).T)+2)\n",
    "odds_age = pd.DataFrame(users_items_likes_age)/pd.DataFrame(users_items_dislikes_age)"
   ]
  },
  {
   "cell_type": "markdown",
   "id": "appreciated-hours",
   "metadata": {},
   "source": [
    "## Recommandation  de 10 films sur la base de trois catégories"
   ]
  },
  {
   "cell_type": "code",
   "execution_count": 24,
   "id": "promotional-commander",
   "metadata": {},
   "outputs": [],
   "source": [
    "def return_recommendations(job, gender, age, odds_likes, odds_jobs, odds_gender, odds_age):\n",
    "    \"\"\"\n",
    "    return first 10 items recommendations based on input job, gender,age\n",
    "    \"\"\"\n",
    "    odds = odds_likes*(odds_jobs.T)[job]*(odds_gender.T)[gender]*((odds_age.T))[age]\n",
    "    return  (odds/(1+odds)).sort_values(ascending=False)[0:10]"
   ]
  },
  {
   "cell_type": "markdown",
   "id": "special-rental",
   "metadata": {},
   "source": [
    "- Un example de recommandation des fils pour une femme ingénieure jeune"
   ]
  },
  {
   "cell_type": "code",
   "execution_count": 25,
   "id": "continent-essex",
   "metadata": {},
   "outputs": [
    {
     "data": {
      "text/plain": [
       "483    0.967840\n",
       "480    0.950883\n",
       "115    0.928483\n",
       "83     0.927111\n",
       "107    0.927056\n",
       "478    0.913225\n",
       "114    0.911541\n",
       "302    0.911324\n",
       "918    0.908075\n",
       "487    0.904690\n",
       "dtype: float64"
      ]
     },
     "execution_count": 25,
     "metadata": {},
     "output_type": "execute_result"
    }
   ],
   "source": [
    "return_recommendations('engineer', 'F', 'young', odds_likes = odds_likes, odds_jobs = odds_jobs, odds_gender = odds_gender, odds_age = odds_age)"
   ]
  },
  {
   "cell_type": "markdown",
   "id": "needed-setup",
   "metadata": {},
   "source": [
    "## Calcul des votes et du RMSE moyen "
   ]
  },
  {
   "cell_type": "code",
   "execution_count": 26,
   "id": "designing-morris",
   "metadata": {},
   "outputs": [],
   "source": [
    "a_c = labelize_age(u)\n",
    "s = pd.DataFrame(u[' gender '].values, index = range(1,N_USERS), columns = [' gender '])\n",
    "j = pd.DataFrame(u[' job '].values, index = range(1,N_USERS), columns = [' job '])\n",
    "new_u = pd.concat([a_c , s , j], axis = 1)"
   ]
  },
  {
   "cell_type": "code",
   "execution_count": 27,
   "id": "convinced-november",
   "metadata": {},
   "outputs": [],
   "source": [
    "def calculate_votes(user_item = user_item, new_u = new_u, odds_jobs = odds_jobs, odds_gender = odds_gender, odds_age = odds_age):\n",
    "    \"\"\"\n",
    "    calculates votes based on probabilities\n",
    "    \"\"\"\n",
    "    #A df which contains votes\n",
    "    all_votes_predictions = pd.DataFrame(np.zeros((user_item.shape[0],user_item.shape[1])), index = range(1,N_USERS) ,columns = range(1,N_ITEMS))\n",
    "    #A new df with age, gender and job in the needed labelization \n",
    "    s = pd.DataFrame(u[' gender '].values, index = range(1,N_USERS), columns = [' gender '])\n",
    "    j = pd.DataFrame(u[' job '].values, index = range(1,N_USERS), columns = [' job '])\n",
    "    a_c = labelize_age(u)\n",
    "    new_u = pd.concat([a_c , s , j], axis = 1)\n",
    "    #Calculate likes and dislikes averages\n",
    "    likes_avgs = user_item[user_item >= 4].mean()\n",
    "    dislikes_avgs = user_item[user_item < 4].mean()\n",
    "    #Loop over the new df to calculate votes\n",
    "    for index, row in new_u.iterrows():\n",
    "        #Calculate odd by multiplying odds matrices\n",
    "        all_odds = (odds_jobs.T[row[' job ']])*(odds_gender.T[row[' gender ']])*(odds_age.T[row[' age ']])\n",
    "        #Calculates probabilities based on odds\n",
    "        all_probs = all_odds/(1+all_odds)\n",
    "        #Calculte votes per user\n",
    "        user_votes = (all_probs*likes_avgs + (1-all_probs)*dislikes_avgs)\n",
    "        #Fill in the df votes\n",
    "        all_votes_predictions.loc[index,:] = user_votes\n",
    "    \n",
    "    return all_votes_predictions"
   ]
  },
  {
   "cell_type": "code",
   "execution_count": 28,
   "id": "explicit-nursery",
   "metadata": {},
   "outputs": [],
   "source": [
    "def compute_rmse(prediction , user_item = user_item ) : \n",
    "    ''' Return the RMSE between the prediction and the user-item matrix '''\n",
    "    # Index where the user_item is not null\n",
    "    indexes_not_nan = user_item.notnull()\n",
    "    rmse = np.sqrt(((prediction[indexes_not_nan] - user_item[indexes_not_nan])**2).mean())\n",
    "    return rmse"
   ]
  },
  {
   "cell_type": "markdown",
   "id": "metric-longer",
   "metadata": {},
   "source": [
    "- On convertit les probabilités en des votes"
   ]
  },
  {
   "cell_type": "code",
   "execution_count": 29,
   "id": "higher-needle",
   "metadata": {},
   "outputs": [],
   "source": [
    "all_votes_predictions = calculate_votes(user_item, new_u, odds_jobs, odds_gender, odds_age)"
   ]
  },
  {
   "cell_type": "markdown",
   "id": "reasonable-syndrome",
   "metadata": {},
   "source": [
    "- On calcule le RMSE moyen"
   ]
  },
  {
   "cell_type": "code",
   "execution_count": 30,
   "id": "classical-alignment",
   "metadata": {},
   "outputs": [
    {
     "data": {
      "text/plain": [
       "1.021163785917258"
      ]
     },
     "execution_count": 30,
     "metadata": {},
     "output_type": "execute_result"
    }
   ],
   "source": [
    "compute_rmse(all_votes_predictions, user_item).mean()"
   ]
  },
  {
   "cell_type": "markdown",
   "id": "accessory-expense",
   "metadata": {},
   "source": [
    "# Question 2"
   ]
  },
  {
   "cell_type": "markdown",
   "id": "broad-settlement",
   "metadata": {},
   "source": [
    "- Tout d'abord, nous utilisons une fonction qui permet d'obtenir les N recommandations à partir d'une matrice de similarité. \n",
    "Cela sera utilisé pour chacune des fonctions après."
   ]
  },
  {
   "cell_type": "code",
   "execution_count": 87,
   "id": "amber-ottawa",
   "metadata": {},
   "outputs": [],
   "source": [
    "def get_recommendation_sim(df_sim , m = m , N=10) :\n",
    "    ''' Return the top N recommendation using the similarity matrix '''\n",
    "    # Get the indexes that maximises the cosine similarity\n",
    "    idx = (-df_sim.values).argsort()\n",
    "    # Keep the N max\n",
    "    idx = idx[:,:N]\n",
    "    # Convert the indexes into article indexes\n",
    "    article_idx = np.zeros(idx.shape)\n",
    "    for i,index in enumerate(idx) : \n",
    "        for j,index_ in enumerate(index) : \n",
    "            article_idx[i,j] = m.index[index_]\n",
    "    return pd.DataFrame(article_idx, index = m.index)"
   ]
  },
  {
   "cell_type": "markdown",
   "id": "upper-batman",
   "metadata": {},
   "source": [
    "- Nous appliquons l'algorithme PageRank. On utilise la version matricielle \n",
    "- Pour eviter de diviser par 0, on remplit la diagonale à 1\n",
    "- Ensuite, pour respecter le format de l'algorithme, on utilise la transposée de la matrice d'adjacence.\n"
   ]
  },
  {
   "cell_type": "code",
   "execution_count": 66,
   "id": "continued-partner",
   "metadata": {},
   "outputs": [],
   "source": [
    "def page_rank(m , d = 0.85, epsilon = 1e-5, max_iter = 10000) : \n",
    "    ''' Compute the PageRank score '''\n",
    "    m_bis = m.T.copy()\n",
    "    # Number of articles \n",
    "    N = m.shape[0]\n",
    "    # PageRank values\n",
    "    r = np.ones((1,N))\n",
    "    # Initialise the condition \n",
    "    new_r = r + 10\n",
    "    # Iteration \n",
    "    iteration = 0\n",
    "    # Fill the diagonal to be 1, to avoid the division by 0 \n",
    "    np.fill_diagonal(m_bis.values,1)\n",
    "    # Condition : if the mean of difference is greater than epsilon\n",
    "    condition = abs(r - new_r).mean() > epsilon \n",
    "    \n",
    "    while condition and iteration < max_iter     : \n",
    "        # Get the number of output links \n",
    "        s = m_bis.sum(axis=0).values.reshape(-1,1)\n",
    "        # Get the new PageRank vector\n",
    "        new_r = (1-d)/N +  d * m_bis @ (r.T / s)                \n",
    "        # Convert into numpy \n",
    "        new_r = new_r.values.T\n",
    "        # Update the condition \n",
    "        condition = abs(r - new_r).mean() > epsilon\n",
    "        r = new_r\n",
    "        iteration+=1\n",
    "        \n",
    "    return pd.DataFrame(r.reshape(-1,), index = m.index, columns=['PageRank'])"
   ]
  },
  {
   "cell_type": "markdown",
   "id": "grand-attention",
   "metadata": {},
   "source": [
    "- On utilise les hyperparamètres suivant : \n",
    "       - d = 0.85\n",
    "       - epsilon = 1e-5 \n",
    "       - Itération maximale : 1000"
   ]
  },
  {
   "cell_type": "code",
   "execution_count": 67,
   "id": "humanitarian-calendar",
   "metadata": {},
   "outputs": [],
   "source": [
    "r = page_rank(m, d= 0.85, epsilon = 1e-5, max_iter = 1000)"
   ]
  },
  {
   "cell_type": "code",
   "execution_count": 68,
   "id": "cultural-evaluation",
   "metadata": {},
   "outputs": [
    {
     "data": {
      "text/html": [
       "<div>\n",
       "<style scoped>\n",
       "    .dataframe tbody tr th:only-of-type {\n",
       "        vertical-align: middle;\n",
       "    }\n",
       "\n",
       "    .dataframe tbody tr th {\n",
       "        vertical-align: top;\n",
       "    }\n",
       "\n",
       "    .dataframe thead th {\n",
       "        text-align: right;\n",
       "    }\n",
       "</style>\n",
       "<table border=\"1\" class=\"dataframe\">\n",
       "  <thead>\n",
       "    <tr style=\"text-align: right;\">\n",
       "      <th></th>\n",
       "      <th>PageRank</th>\n",
       "    </tr>\n",
       "  </thead>\n",
       "  <tbody>\n",
       "    <tr>\n",
       "      <th>100299</th>\n",
       "      <td>0.000192</td>\n",
       "    </tr>\n",
       "    <tr>\n",
       "      <th>100967</th>\n",
       "      <td>0.000243</td>\n",
       "    </tr>\n",
       "    <tr>\n",
       "      <th>10151</th>\n",
       "      <td>0.000244</td>\n",
       "    </tr>\n",
       "    <tr>\n",
       "      <th>101705</th>\n",
       "      <td>0.000239</td>\n",
       "    </tr>\n",
       "    <tr>\n",
       "      <th>101863</th>\n",
       "      <td>0.000267</td>\n",
       "    </tr>\n",
       "    <tr>\n",
       "      <th>...</th>\n",
       "      <td>...</td>\n",
       "    </tr>\n",
       "    <tr>\n",
       "      <th>97863</th>\n",
       "      <td>0.000150</td>\n",
       "    </tr>\n",
       "    <tr>\n",
       "      <th>98185</th>\n",
       "      <td>0.000199</td>\n",
       "    </tr>\n",
       "    <tr>\n",
       "      <th>99113</th>\n",
       "      <td>0.000175</td>\n",
       "    </tr>\n",
       "    <tr>\n",
       "      <th>9947</th>\n",
       "      <td>0.000230</td>\n",
       "    </tr>\n",
       "    <tr>\n",
       "      <th>9993</th>\n",
       "      <td>0.000211</td>\n",
       "    </tr>\n",
       "  </tbody>\n",
       "</table>\n",
       "<p>1090 rows × 1 columns</p>\n",
       "</div>"
      ],
      "text/plain": [
       "        PageRank\n",
       "100299  0.000192\n",
       "100967  0.000243\n",
       "10151   0.000244\n",
       "101705  0.000239\n",
       "101863  0.000267\n",
       "...          ...\n",
       "97863   0.000150\n",
       "98185   0.000199\n",
       "99113   0.000175\n",
       "9947    0.000230\n",
       "9993    0.000211\n",
       "\n",
       "[1090 rows x 1 columns]"
      ]
     },
     "execution_count": 68,
     "metadata": {},
     "output_type": "execute_result"
    }
   ],
   "source": [
    "r"
   ]
  },
  {
   "cell_type": "markdown",
   "id": "controversial-swedish",
   "metadata": {},
   "source": [
    "- Recommendation : prendre les articles maximum de PageRank multiplié par la matrice d'adjacence "
   ]
  },
  {
   "cell_type": "code",
   "execution_count": 148,
   "id": "bridal-mistress",
   "metadata": {},
   "outputs": [],
   "source": [
    "def get_recommendation_page_rank(index = None , r = r, m=m,N= 10 ): \n",
    "    ''' Return recommendations for the index article from PageRank score '''\n",
    "    # Get the element wise product between the PageRank and adjacent matrix\n",
    "    df_sim = pd.DataFrame(pd.concat([r.T]*m.shape[0], axis = 0).values * m.values)\n",
    "    # Get the recommendation \n",
    "    recommendation = get_recommendation_sim(df_sim , m = m , N=N)\n",
    "    if index is None : \n",
    "        return recommendation\n",
    "    return recommendation[recommendation.index == index]"
   ]
  },
  {
   "cell_type": "code",
   "execution_count": 149,
   "id": "interesting-holly",
   "metadata": {},
   "outputs": [
    {
     "data": {
      "text/html": [
       "<div>\n",
       "<style scoped>\n",
       "    .dataframe tbody tr th:only-of-type {\n",
       "        vertical-align: middle;\n",
       "    }\n",
       "\n",
       "    .dataframe tbody tr th {\n",
       "        vertical-align: top;\n",
       "    }\n",
       "\n",
       "    .dataframe thead th {\n",
       "        text-align: right;\n",
       "    }\n",
       "</style>\n",
       "<table border=\"1\" class=\"dataframe\">\n",
       "  <thead>\n",
       "    <tr style=\"text-align: right;\">\n",
       "      <th></th>\n",
       "      <th>0</th>\n",
       "      <th>1</th>\n",
       "      <th>2</th>\n",
       "      <th>3</th>\n",
       "      <th>4</th>\n",
       "      <th>5</th>\n",
       "      <th>6</th>\n",
       "      <th>7</th>\n",
       "      <th>8</th>\n",
       "      <th>9</th>\n",
       "    </tr>\n",
       "  </thead>\n",
       "  <tbody>\n",
       "    <tr>\n",
       "      <th>422908</th>\n",
       "      <td>311874.0</td>\n",
       "      <td>396568.0</td>\n",
       "      <td>522428.0</td>\n",
       "      <td>19422.0</td>\n",
       "      <td>17094.0</td>\n",
       "      <td>155792.0</td>\n",
       "      <td>64835.0</td>\n",
       "      <td>315693.0</td>\n",
       "      <td>110303.0</td>\n",
       "      <td>241538.0</td>\n",
       "    </tr>\n",
       "  </tbody>\n",
       "</table>\n",
       "</div>"
      ],
      "text/plain": [
       "               0         1         2        3        4         5        6  \\\n",
       "422908  311874.0  396568.0  522428.0  19422.0  17094.0  155792.0  64835.0   \n",
       "\n",
       "               7         8         9  \n",
       "422908  315693.0  110303.0  241538.0  "
      ]
     },
     "execution_count": 149,
     "metadata": {},
     "output_type": "execute_result"
    }
   ],
   "source": [
    "get_recommendation_page_rank(422908, N = 10)"
   ]
  },
  {
   "cell_type": "markdown",
   "id": "eligible-grounds",
   "metadata": {},
   "source": [
    "##  Variante : etendre le sous-ensemble S aux références de références"
   ]
  },
  {
   "cell_type": "code",
   "execution_count": 72,
   "id": "removed-dairy",
   "metadata": {},
   "outputs": [],
   "source": [
    "m_ = m.values @ m.values + m.values"
   ]
  },
  {
   "cell_type": "markdown",
   "id": "parental-gospel",
   "metadata": {},
   "source": [
    "- On met a 1 les référencements qui sont multiples ou qui ont un chemin supérieur à 1 "
   ]
  },
  {
   "cell_type": "code",
   "execution_count": 73,
   "id": "broken-crime",
   "metadata": {},
   "outputs": [],
   "source": [
    "m_[m_ >1] = 1"
   ]
  },
  {
   "cell_type": "code",
   "execution_count": 74,
   "id": "sitting-emphasis",
   "metadata": {},
   "outputs": [
    {
     "data": {
      "text/html": [
       "<div>\n",
       "<style scoped>\n",
       "    .dataframe tbody tr th:only-of-type {\n",
       "        vertical-align: middle;\n",
       "    }\n",
       "\n",
       "    .dataframe tbody tr th {\n",
       "        vertical-align: top;\n",
       "    }\n",
       "\n",
       "    .dataframe thead th {\n",
       "        text-align: right;\n",
       "    }\n",
       "</style>\n",
       "<table border=\"1\" class=\"dataframe\">\n",
       "  <thead>\n",
       "    <tr style=\"text-align: right;\">\n",
       "      <th></th>\n",
       "      <th>100299</th>\n",
       "      <th>100967</th>\n",
       "      <th>10151</th>\n",
       "      <th>101705</th>\n",
       "      <th>101863</th>\n",
       "      <th>102458</th>\n",
       "      <th>102886</th>\n",
       "      <th>102966</th>\n",
       "      <th>10302</th>\n",
       "      <th>103700</th>\n",
       "      <th>...</th>\n",
       "      <th>96767</th>\n",
       "      <th>97060</th>\n",
       "      <th>97150</th>\n",
       "      <th>9721</th>\n",
       "      <th>97410</th>\n",
       "      <th>97863</th>\n",
       "      <th>98185</th>\n",
       "      <th>99113</th>\n",
       "      <th>9947</th>\n",
       "      <th>9993</th>\n",
       "    </tr>\n",
       "  </thead>\n",
       "  <tbody>\n",
       "    <tr>\n",
       "      <th>100299</th>\n",
       "      <td>0</td>\n",
       "      <td>0</td>\n",
       "      <td>0</td>\n",
       "      <td>0</td>\n",
       "      <td>0</td>\n",
       "      <td>0</td>\n",
       "      <td>0</td>\n",
       "      <td>0</td>\n",
       "      <td>0</td>\n",
       "      <td>0</td>\n",
       "      <td>...</td>\n",
       "      <td>0</td>\n",
       "      <td>0</td>\n",
       "      <td>0</td>\n",
       "      <td>0</td>\n",
       "      <td>0</td>\n",
       "      <td>0</td>\n",
       "      <td>0</td>\n",
       "      <td>0</td>\n",
       "      <td>0</td>\n",
       "      <td>0</td>\n",
       "    </tr>\n",
       "    <tr>\n",
       "      <th>100967</th>\n",
       "      <td>0</td>\n",
       "      <td>0</td>\n",
       "      <td>0</td>\n",
       "      <td>0</td>\n",
       "      <td>0</td>\n",
       "      <td>0</td>\n",
       "      <td>0</td>\n",
       "      <td>0</td>\n",
       "      <td>0</td>\n",
       "      <td>0</td>\n",
       "      <td>...</td>\n",
       "      <td>0</td>\n",
       "      <td>0</td>\n",
       "      <td>0</td>\n",
       "      <td>0</td>\n",
       "      <td>0</td>\n",
       "      <td>0</td>\n",
       "      <td>0</td>\n",
       "      <td>0</td>\n",
       "      <td>0</td>\n",
       "      <td>0</td>\n",
       "    </tr>\n",
       "    <tr>\n",
       "      <th>10151</th>\n",
       "      <td>0</td>\n",
       "      <td>0</td>\n",
       "      <td>1</td>\n",
       "      <td>0</td>\n",
       "      <td>0</td>\n",
       "      <td>0</td>\n",
       "      <td>0</td>\n",
       "      <td>0</td>\n",
       "      <td>0</td>\n",
       "      <td>0</td>\n",
       "      <td>...</td>\n",
       "      <td>0</td>\n",
       "      <td>0</td>\n",
       "      <td>0</td>\n",
       "      <td>0</td>\n",
       "      <td>0</td>\n",
       "      <td>0</td>\n",
       "      <td>0</td>\n",
       "      <td>0</td>\n",
       "      <td>0</td>\n",
       "      <td>0</td>\n",
       "    </tr>\n",
       "    <tr>\n",
       "      <th>101705</th>\n",
       "      <td>0</td>\n",
       "      <td>0</td>\n",
       "      <td>0</td>\n",
       "      <td>0</td>\n",
       "      <td>0</td>\n",
       "      <td>0</td>\n",
       "      <td>0</td>\n",
       "      <td>0</td>\n",
       "      <td>0</td>\n",
       "      <td>0</td>\n",
       "      <td>...</td>\n",
       "      <td>0</td>\n",
       "      <td>0</td>\n",
       "      <td>0</td>\n",
       "      <td>0</td>\n",
       "      <td>0</td>\n",
       "      <td>0</td>\n",
       "      <td>0</td>\n",
       "      <td>0</td>\n",
       "      <td>0</td>\n",
       "      <td>0</td>\n",
       "    </tr>\n",
       "    <tr>\n",
       "      <th>101863</th>\n",
       "      <td>0</td>\n",
       "      <td>0</td>\n",
       "      <td>0</td>\n",
       "      <td>0</td>\n",
       "      <td>0</td>\n",
       "      <td>0</td>\n",
       "      <td>0</td>\n",
       "      <td>0</td>\n",
       "      <td>0</td>\n",
       "      <td>0</td>\n",
       "      <td>...</td>\n",
       "      <td>0</td>\n",
       "      <td>0</td>\n",
       "      <td>0</td>\n",
       "      <td>0</td>\n",
       "      <td>0</td>\n",
       "      <td>0</td>\n",
       "      <td>0</td>\n",
       "      <td>0</td>\n",
       "      <td>0</td>\n",
       "      <td>0</td>\n",
       "    </tr>\n",
       "    <tr>\n",
       "      <th>...</th>\n",
       "      <td>...</td>\n",
       "      <td>...</td>\n",
       "      <td>...</td>\n",
       "      <td>...</td>\n",
       "      <td>...</td>\n",
       "      <td>...</td>\n",
       "      <td>...</td>\n",
       "      <td>...</td>\n",
       "      <td>...</td>\n",
       "      <td>...</td>\n",
       "      <td>...</td>\n",
       "      <td>...</td>\n",
       "      <td>...</td>\n",
       "      <td>...</td>\n",
       "      <td>...</td>\n",
       "      <td>...</td>\n",
       "      <td>...</td>\n",
       "      <td>...</td>\n",
       "      <td>...</td>\n",
       "      <td>...</td>\n",
       "      <td>...</td>\n",
       "    </tr>\n",
       "    <tr>\n",
       "      <th>97863</th>\n",
       "      <td>0</td>\n",
       "      <td>0</td>\n",
       "      <td>0</td>\n",
       "      <td>0</td>\n",
       "      <td>0</td>\n",
       "      <td>0</td>\n",
       "      <td>0</td>\n",
       "      <td>0</td>\n",
       "      <td>0</td>\n",
       "      <td>0</td>\n",
       "      <td>...</td>\n",
       "      <td>1</td>\n",
       "      <td>0</td>\n",
       "      <td>0</td>\n",
       "      <td>0</td>\n",
       "      <td>0</td>\n",
       "      <td>0</td>\n",
       "      <td>0</td>\n",
       "      <td>0</td>\n",
       "      <td>0</td>\n",
       "      <td>0</td>\n",
       "    </tr>\n",
       "    <tr>\n",
       "      <th>98185</th>\n",
       "      <td>0</td>\n",
       "      <td>0</td>\n",
       "      <td>0</td>\n",
       "      <td>0</td>\n",
       "      <td>0</td>\n",
       "      <td>0</td>\n",
       "      <td>0</td>\n",
       "      <td>0</td>\n",
       "      <td>0</td>\n",
       "      <td>0</td>\n",
       "      <td>...</td>\n",
       "      <td>0</td>\n",
       "      <td>0</td>\n",
       "      <td>0</td>\n",
       "      <td>0</td>\n",
       "      <td>0</td>\n",
       "      <td>0</td>\n",
       "      <td>0</td>\n",
       "      <td>0</td>\n",
       "      <td>0</td>\n",
       "      <td>0</td>\n",
       "    </tr>\n",
       "    <tr>\n",
       "      <th>99113</th>\n",
       "      <td>0</td>\n",
       "      <td>0</td>\n",
       "      <td>0</td>\n",
       "      <td>0</td>\n",
       "      <td>0</td>\n",
       "      <td>0</td>\n",
       "      <td>0</td>\n",
       "      <td>0</td>\n",
       "      <td>0</td>\n",
       "      <td>0</td>\n",
       "      <td>...</td>\n",
       "      <td>0</td>\n",
       "      <td>0</td>\n",
       "      <td>0</td>\n",
       "      <td>0</td>\n",
       "      <td>0</td>\n",
       "      <td>0</td>\n",
       "      <td>0</td>\n",
       "      <td>0</td>\n",
       "      <td>0</td>\n",
       "      <td>0</td>\n",
       "    </tr>\n",
       "    <tr>\n",
       "      <th>9947</th>\n",
       "      <td>0</td>\n",
       "      <td>0</td>\n",
       "      <td>0</td>\n",
       "      <td>0</td>\n",
       "      <td>0</td>\n",
       "      <td>0</td>\n",
       "      <td>0</td>\n",
       "      <td>0</td>\n",
       "      <td>0</td>\n",
       "      <td>0</td>\n",
       "      <td>...</td>\n",
       "      <td>0</td>\n",
       "      <td>0</td>\n",
       "      <td>0</td>\n",
       "      <td>0</td>\n",
       "      <td>0</td>\n",
       "      <td>0</td>\n",
       "      <td>0</td>\n",
       "      <td>0</td>\n",
       "      <td>0</td>\n",
       "      <td>0</td>\n",
       "    </tr>\n",
       "    <tr>\n",
       "      <th>9993</th>\n",
       "      <td>0</td>\n",
       "      <td>0</td>\n",
       "      <td>0</td>\n",
       "      <td>0</td>\n",
       "      <td>0</td>\n",
       "      <td>0</td>\n",
       "      <td>0</td>\n",
       "      <td>0</td>\n",
       "      <td>0</td>\n",
       "      <td>0</td>\n",
       "      <td>...</td>\n",
       "      <td>0</td>\n",
       "      <td>0</td>\n",
       "      <td>0</td>\n",
       "      <td>0</td>\n",
       "      <td>0</td>\n",
       "      <td>0</td>\n",
       "      <td>0</td>\n",
       "      <td>0</td>\n",
       "      <td>0</td>\n",
       "      <td>0</td>\n",
       "    </tr>\n",
       "  </tbody>\n",
       "</table>\n",
       "<p>1090 rows × 1090 columns</p>\n",
       "</div>"
      ],
      "text/plain": [
       "        100299  100967  10151  101705  101863  102458  102886  102966  10302  \\\n",
       "100299       0       0      0       0       0       0       0       0      0   \n",
       "100967       0       0      0       0       0       0       0       0      0   \n",
       "10151        0       0      1       0       0       0       0       0      0   \n",
       "101705       0       0      0       0       0       0       0       0      0   \n",
       "101863       0       0      0       0       0       0       0       0      0   \n",
       "...        ...     ...    ...     ...     ...     ...     ...     ...    ...   \n",
       "97863        0       0      0       0       0       0       0       0      0   \n",
       "98185        0       0      0       0       0       0       0       0      0   \n",
       "99113        0       0      0       0       0       0       0       0      0   \n",
       "9947         0       0      0       0       0       0       0       0      0   \n",
       "9993         0       0      0       0       0       0       0       0      0   \n",
       "\n",
       "        103700  ...  96767  97060  97150  9721  97410  97863  98185  99113  \\\n",
       "100299       0  ...      0      0      0     0      0      0      0      0   \n",
       "100967       0  ...      0      0      0     0      0      0      0      0   \n",
       "10151        0  ...      0      0      0     0      0      0      0      0   \n",
       "101705       0  ...      0      0      0     0      0      0      0      0   \n",
       "101863       0  ...      0      0      0     0      0      0      0      0   \n",
       "...        ...  ...    ...    ...    ...   ...    ...    ...    ...    ...   \n",
       "97863        0  ...      1      0      0     0      0      0      0      0   \n",
       "98185        0  ...      0      0      0     0      0      0      0      0   \n",
       "99113        0  ...      0      0      0     0      0      0      0      0   \n",
       "9947         0  ...      0      0      0     0      0      0      0      0   \n",
       "9993         0  ...      0      0      0     0      0      0      0      0   \n",
       "\n",
       "        9947  9993  \n",
       "100299     0     0  \n",
       "100967     0     0  \n",
       "10151      0     0  \n",
       "101705     0     0  \n",
       "101863     0     0  \n",
       "...      ...   ...  \n",
       "97863      0     0  \n",
       "98185      0     0  \n",
       "99113      0     0  \n",
       "9947       0     0  \n",
       "9993       0     0  \n",
       "\n",
       "[1090 rows x 1090 columns]"
      ]
     },
     "execution_count": 74,
     "metadata": {},
     "output_type": "execute_result"
    }
   ],
   "source": [
    "new_m = m.copy()\n",
    "new_m[:] = m_\n",
    "new_m"
   ]
  },
  {
   "cell_type": "markdown",
   "id": "domestic-kuwait",
   "metadata": {},
   "source": [
    "- On applique PageRank a ce nouvel espace "
   ]
  },
  {
   "cell_type": "code",
   "execution_count": 75,
   "id": "circular-berkeley",
   "metadata": {},
   "outputs": [],
   "source": [
    "new_r = page_rank(new_m, d= 0.85, epsilon = 1e-5, max_iter = 1000)"
   ]
  },
  {
   "cell_type": "code",
   "execution_count": 77,
   "id": "ahead-elevation",
   "metadata": {},
   "outputs": [
    {
     "data": {
      "text/html": [
       "<div>\n",
       "<style scoped>\n",
       "    .dataframe tbody tr th:only-of-type {\n",
       "        vertical-align: middle;\n",
       "    }\n",
       "\n",
       "    .dataframe tbody tr th {\n",
       "        vertical-align: top;\n",
       "    }\n",
       "\n",
       "    .dataframe thead th {\n",
       "        text-align: right;\n",
       "    }\n",
       "</style>\n",
       "<table border=\"1\" class=\"dataframe\">\n",
       "  <thead>\n",
       "    <tr style=\"text-align: right;\">\n",
       "      <th></th>\n",
       "      <th>PageRank</th>\n",
       "    </tr>\n",
       "  </thead>\n",
       "  <tbody>\n",
       "    <tr>\n",
       "      <th>100299</th>\n",
       "      <td>0.000192</td>\n",
       "    </tr>\n",
       "    <tr>\n",
       "      <th>100967</th>\n",
       "      <td>0.000177</td>\n",
       "    </tr>\n",
       "    <tr>\n",
       "      <th>10151</th>\n",
       "      <td>0.000211</td>\n",
       "    </tr>\n",
       "    <tr>\n",
       "      <th>101705</th>\n",
       "      <td>0.000239</td>\n",
       "    </tr>\n",
       "    <tr>\n",
       "      <th>101863</th>\n",
       "      <td>0.000162</td>\n",
       "    </tr>\n",
       "    <tr>\n",
       "      <th>...</th>\n",
       "      <td>...</td>\n",
       "    </tr>\n",
       "    <tr>\n",
       "      <th>97863</th>\n",
       "      <td>0.000140</td>\n",
       "    </tr>\n",
       "    <tr>\n",
       "      <th>98185</th>\n",
       "      <td>0.000145</td>\n",
       "    </tr>\n",
       "    <tr>\n",
       "      <th>99113</th>\n",
       "      <td>0.000157</td>\n",
       "    </tr>\n",
       "    <tr>\n",
       "      <th>9947</th>\n",
       "      <td>0.000184</td>\n",
       "    </tr>\n",
       "    <tr>\n",
       "      <th>9993</th>\n",
       "      <td>0.000186</td>\n",
       "    </tr>\n",
       "  </tbody>\n",
       "</table>\n",
       "<p>1090 rows × 1 columns</p>\n",
       "</div>"
      ],
      "text/plain": [
       "        PageRank\n",
       "100299  0.000192\n",
       "100967  0.000177\n",
       "10151   0.000211\n",
       "101705  0.000239\n",
       "101863  0.000162\n",
       "...          ...\n",
       "97863   0.000140\n",
       "98185   0.000145\n",
       "99113   0.000157\n",
       "9947    0.000184\n",
       "9993    0.000186\n",
       "\n",
       "[1090 rows x 1 columns]"
      ]
     },
     "execution_count": 77,
     "metadata": {},
     "output_type": "execute_result"
    }
   ],
   "source": [
    "new_r"
   ]
  },
  {
   "cell_type": "markdown",
   "id": "structural-match",
   "metadata": {},
   "source": [
    "- On recommande ensuite "
   ]
  },
  {
   "cell_type": "code",
   "execution_count": 78,
   "id": "improving-mills",
   "metadata": {},
   "outputs": [
    {
     "data": {
      "text/html": [
       "<div>\n",
       "<style scoped>\n",
       "    .dataframe tbody tr th:only-of-type {\n",
       "        vertical-align: middle;\n",
       "    }\n",
       "\n",
       "    .dataframe tbody tr th {\n",
       "        vertical-align: top;\n",
       "    }\n",
       "\n",
       "    .dataframe thead th {\n",
       "        text-align: right;\n",
       "    }\n",
       "</style>\n",
       "<table border=\"1\" class=\"dataframe\">\n",
       "  <thead>\n",
       "    <tr style=\"text-align: right;\">\n",
       "      <th></th>\n",
       "      <th>0</th>\n",
       "      <th>1</th>\n",
       "      <th>2</th>\n",
       "      <th>3</th>\n",
       "      <th>4</th>\n",
       "      <th>5</th>\n",
       "      <th>6</th>\n",
       "      <th>7</th>\n",
       "      <th>8</th>\n",
       "      <th>9</th>\n",
       "    </tr>\n",
       "  </thead>\n",
       "  <tbody>\n",
       "    <tr>\n",
       "      <th>422908</th>\n",
       "      <td>311874.0</td>\n",
       "      <td>396568.0</td>\n",
       "      <td>389559.0</td>\n",
       "      <td>522428.0</td>\n",
       "      <td>19422.0</td>\n",
       "      <td>241538.0</td>\n",
       "      <td>225173.0</td>\n",
       "      <td>425638.0</td>\n",
       "      <td>206738.0</td>\n",
       "      <td>315693.0</td>\n",
       "    </tr>\n",
       "  </tbody>\n",
       "</table>\n",
       "</div>"
      ],
      "text/plain": [
       "               0         1         2         3        4         5         6  \\\n",
       "422908  311874.0  396568.0  389559.0  522428.0  19422.0  241538.0  225173.0   \n",
       "\n",
       "               7         8         9  \n",
       "422908  425638.0  206738.0  315693.0  "
      ]
     },
     "execution_count": 78,
     "metadata": {},
     "output_type": "execute_result"
    }
   ],
   "source": [
    "# Methode Page Rank ++ \n",
    "get_recommendation_page_rank(422908,r = new_r, m = new_m)"
   ]
  },
  {
   "cell_type": "code",
   "execution_count": 79,
   "id": "economic-technology",
   "metadata": {},
   "outputs": [
    {
     "data": {
      "text/html": [
       "<div>\n",
       "<style scoped>\n",
       "    .dataframe tbody tr th:only-of-type {\n",
       "        vertical-align: middle;\n",
       "    }\n",
       "\n",
       "    .dataframe tbody tr th {\n",
       "        vertical-align: top;\n",
       "    }\n",
       "\n",
       "    .dataframe thead th {\n",
       "        text-align: right;\n",
       "    }\n",
       "</style>\n",
       "<table border=\"1\" class=\"dataframe\">\n",
       "  <thead>\n",
       "    <tr style=\"text-align: right;\">\n",
       "      <th></th>\n",
       "      <th>0</th>\n",
       "      <th>1</th>\n",
       "      <th>2</th>\n",
       "      <th>3</th>\n",
       "      <th>4</th>\n",
       "      <th>5</th>\n",
       "      <th>6</th>\n",
       "      <th>7</th>\n",
       "      <th>8</th>\n",
       "      <th>9</th>\n",
       "    </tr>\n",
       "  </thead>\n",
       "  <tbody>\n",
       "    <tr>\n",
       "      <th>422908</th>\n",
       "      <td>311874.0</td>\n",
       "      <td>396568.0</td>\n",
       "      <td>522428.0</td>\n",
       "      <td>19422.0</td>\n",
       "      <td>17094.0</td>\n",
       "      <td>155792.0</td>\n",
       "      <td>64835.0</td>\n",
       "      <td>315693.0</td>\n",
       "      <td>110303.0</td>\n",
       "      <td>241538.0</td>\n",
       "    </tr>\n",
       "  </tbody>\n",
       "</table>\n",
       "</div>"
      ],
      "text/plain": [
       "               0         1         2        3        4         5        6  \\\n",
       "422908  311874.0  396568.0  522428.0  19422.0  17094.0  155792.0  64835.0   \n",
       "\n",
       "               7         8         9  \n",
       "422908  315693.0  110303.0  241538.0  "
      ]
     },
     "execution_count": 79,
     "metadata": {},
     "output_type": "execute_result"
    }
   ],
   "source": [
    "# Methode Page Rank classique \n",
    "get_recommendation_page_rank(422908)"
   ]
  },
  {
   "cell_type": "markdown",
   "id": "committed-transsexual",
   "metadata": {},
   "source": [
    "- L'idée de l'extension du sous-ensemble est de considérer les articles qui sont des références aux références.\n",
    "- Pour cela, on considère $m^2$. Chacun des valeurs de cette matrice va donner le nombre de lien directe ou indirecte (avec un référencement de référencement). On met ensuite les valeurs de cette matrice a 1 et on utilise PageRank classiquement\n",
    "- Les deux méthodes recommandent les 2 mêmes articles en premier, et ensuite le 3eme article diffère. Cela signifie que certains articles ont un PageRank plus   "
   ]
  },
  {
   "cell_type": "markdown",
   "id": "every-ministry",
   "metadata": {},
   "source": [
    "# Question 3"
   ]
  },
  {
   "cell_type": "markdown",
   "id": "acoustic-effectiveness",
   "metadata": {},
   "source": [
    "- On considère pour cette question qu'un utilisateur est représenté par son vecteur dans la matrice d'adjacence\n",
    "- On calcule ensuite la distance cosinus pour chaque utilisateur \n",
    "- Remarque : la première recommendation sera forcément l'utilisateur lui-même "
   ]
  },
  {
   "cell_type": "code",
   "execution_count": 88,
   "id": "pressed-tobacco",
   "metadata": {},
   "outputs": [],
   "source": [
    "def get_recommendation_vector(index = None , m = m , N = 10) : \n",
    "    ''' Return the recommendation with vector space of adjacence matrix '''\n",
    "    df_sim = pd.DataFrame(cosine_similarity(m,m), index = m.index, columns = m.columns)\n",
    "    # Get the recommendation \n",
    "    recommendation = get_recommendation_sim(df_sim , m = m , N=N)\n",
    "    if index is None : \n",
    "        return recommendation\n",
    "    return recommendation[recommendation.index == index]"
   ]
  },
  {
   "cell_type": "markdown",
   "id": "phantom-resort",
   "metadata": {},
   "source": [
    "- 10 meilleures recommendations de 422908"
   ]
  },
  {
   "cell_type": "code",
   "execution_count": 89,
   "id": "mounted-indie",
   "metadata": {},
   "outputs": [
    {
     "data": {
      "text/html": [
       "<div>\n",
       "<style scoped>\n",
       "    .dataframe tbody tr th:only-of-type {\n",
       "        vertical-align: middle;\n",
       "    }\n",
       "\n",
       "    .dataframe tbody tr th {\n",
       "        vertical-align: top;\n",
       "    }\n",
       "\n",
       "    .dataframe thead th {\n",
       "        text-align: right;\n",
       "    }\n",
       "</style>\n",
       "<table border=\"1\" class=\"dataframe\">\n",
       "  <thead>\n",
       "    <tr style=\"text-align: right;\">\n",
       "      <th></th>\n",
       "      <th>0</th>\n",
       "      <th>1</th>\n",
       "      <th>2</th>\n",
       "      <th>3</th>\n",
       "      <th>4</th>\n",
       "      <th>5</th>\n",
       "      <th>6</th>\n",
       "      <th>7</th>\n",
       "      <th>8</th>\n",
       "      <th>9</th>\n",
       "    </tr>\n",
       "  </thead>\n",
       "  <tbody>\n",
       "    <tr>\n",
       "      <th>422908</th>\n",
       "      <td>422908.0</td>\n",
       "      <td>96767.0</td>\n",
       "      <td>70445.0</td>\n",
       "      <td>149673.0</td>\n",
       "      <td>466838.0</td>\n",
       "      <td>155792.0</td>\n",
       "      <td>53632.0</td>\n",
       "      <td>497542.0</td>\n",
       "      <td>3175.0</td>\n",
       "      <td>17507.0</td>\n",
       "    </tr>\n",
       "  </tbody>\n",
       "</table>\n",
       "</div>"
      ],
      "text/plain": [
       "               0        1        2         3         4         5        6  \\\n",
       "422908  422908.0  96767.0  70445.0  149673.0  466838.0  155792.0  53632.0   \n",
       "\n",
       "               7       8        9  \n",
       "422908  497542.0  3175.0  17507.0  "
      ]
     },
     "execution_count": 89,
     "metadata": {},
     "output_type": "execute_result"
    }
   ],
   "source": [
    "get_recommendation_vector(422908, N = 10)"
   ]
  },
  {
   "cell_type": "markdown",
   "id": "helpful-diagram",
   "metadata": {},
   "source": [
    "# Question 4"
   ]
  },
  {
   "cell_type": "code",
   "execution_count": 90,
   "id": "optional-possibility",
   "metadata": {},
   "outputs": [],
   "source": [
    "abstract = pd.read_csv(ABSTRACT_PATH)"
   ]
  },
  {
   "cell_type": "code",
   "execution_count": 91,
   "id": "conventional-imagination",
   "metadata": {},
   "outputs": [
    {
     "data": {
      "text/html": [
       "<div>\n",
       "<style scoped>\n",
       "    .dataframe tbody tr th:only-of-type {\n",
       "        vertical-align: middle;\n",
       "    }\n",
       "\n",
       "    .dataframe tbody tr th {\n",
       "        vertical-align: top;\n",
       "    }\n",
       "\n",
       "    .dataframe thead th {\n",
       "        text-align: right;\n",
       "    }\n",
       "</style>\n",
       "<table border=\"1\" class=\"dataframe\">\n",
       "  <thead>\n",
       "    <tr style=\"text-align: right;\">\n",
       "      <th></th>\n",
       "      <th>Unnamed: 0</th>\n",
       "      <th>Id</th>\n",
       "      <th>Titre</th>\n",
       "      <th>Auteurs</th>\n",
       "      <th>Description</th>\n",
       "    </tr>\n",
       "  </thead>\n",
       "  <tbody>\n",
       "    <tr>\n",
       "      <th>0</th>\n",
       "      <td>1</td>\n",
       "      <td>124</td>\n",
       "      <td>Hybrid Automata: An Algorithmic Approach to th...</td>\n",
       "      <td>Costas Courcoubetis; Pei-hsin Ho; Rajeev Alur;...</td>\n",
       "      <td>We introduce the framework of hybrid automata ...</td>\n",
       "    </tr>\n",
       "    <tr>\n",
       "      <th>1</th>\n",
       "      <td>2</td>\n",
       "      <td>496</td>\n",
       "      <td>Representing Action: Indeterminacy and Ramific...</td>\n",
       "      <td>Enrico Giunchiglia; G. Neelakantan Kartha; Vla...</td>\n",
       "      <td>We define and study a high-level language for ...</td>\n",
       "    </tr>\n",
       "    <tr>\n",
       "      <th>2</th>\n",
       "      <td>3</td>\n",
       "      <td>712</td>\n",
       "      <td>A Decision Procedure for a Temporal Belief Logic</td>\n",
       "      <td>Michael Fisher; Michael Wooldridge;</td>\n",
       "      <td>. This paper presents a temporal belief logic ...</td>\n",
       "    </tr>\n",
       "    <tr>\n",
       "      <th>3</th>\n",
       "      <td>4</td>\n",
       "      <td>1186</td>\n",
       "      <td>A Comparative Evaluation of Sequential Feature...</td>\n",
       "      <td>David W. Aha; Richard L. Bankert;</td>\n",
       "      <td>Several recent machine learning publications d...</td>\n",
       "    </tr>\n",
       "    <tr>\n",
       "      <th>4</th>\n",
       "      <td>5</td>\n",
       "      <td>1347</td>\n",
       "      <td>Extending Promela and Spin for Real Time</td>\n",
       "      <td>Costas Courcoubetis; Stavros Tripakis;</td>\n",
       "      <td>The efficient representation and manipulation ...</td>\n",
       "    </tr>\n",
       "    <tr>\n",
       "      <th>...</th>\n",
       "      <td>...</td>\n",
       "      <td>...</td>\n",
       "      <td>...</td>\n",
       "      <td>...</td>\n",
       "      <td>...</td>\n",
       "    </tr>\n",
       "    <tr>\n",
       "      <th>1085</th>\n",
       "      <td>1086</td>\n",
       "      <td>548670</td>\n",
       "      <td>Null</td>\n",
       "      <td>NaN</td>\n",
       "      <td>NaN</td>\n",
       "    </tr>\n",
       "    <tr>\n",
       "      <th>1086</th>\n",
       "      <td>1087</td>\n",
       "      <td>549091</td>\n",
       "      <td>Null</td>\n",
       "      <td>NaN</td>\n",
       "      <td>NaN</td>\n",
       "    </tr>\n",
       "    <tr>\n",
       "      <th>1087</th>\n",
       "      <td>1088</td>\n",
       "      <td>561317</td>\n",
       "      <td>Null</td>\n",
       "      <td>NaN</td>\n",
       "      <td>NaN</td>\n",
       "    </tr>\n",
       "    <tr>\n",
       "      <th>1088</th>\n",
       "      <td>1089</td>\n",
       "      <td>570764</td>\n",
       "      <td>Null</td>\n",
       "      <td>NaN</td>\n",
       "      <td>NaN</td>\n",
       "    </tr>\n",
       "    <tr>\n",
       "      <th>1089</th>\n",
       "      <td>1090</td>\n",
       "      <td>573595</td>\n",
       "      <td>Null</td>\n",
       "      <td>NaN</td>\n",
       "      <td>NaN</td>\n",
       "    </tr>\n",
       "  </tbody>\n",
       "</table>\n",
       "<p>1090 rows × 5 columns</p>\n",
       "</div>"
      ],
      "text/plain": [
       "      Unnamed: 0      Id                                              Titre  \\\n",
       "0              1     124  Hybrid Automata: An Algorithmic Approach to th...   \n",
       "1              2     496  Representing Action: Indeterminacy and Ramific...   \n",
       "2              3     712   A Decision Procedure for a Temporal Belief Logic   \n",
       "3              4    1186  A Comparative Evaluation of Sequential Feature...   \n",
       "4              5    1347           Extending Promela and Spin for Real Time   \n",
       "...          ...     ...                                                ...   \n",
       "1085        1086  548670                                               Null   \n",
       "1086        1087  549091                                               Null   \n",
       "1087        1088  561317                                               Null   \n",
       "1088        1089  570764                                               Null   \n",
       "1089        1090  573595                                               Null   \n",
       "\n",
       "                                                Auteurs  \\\n",
       "0     Costas Courcoubetis; Pei-hsin Ho; Rajeev Alur;...   \n",
       "1     Enrico Giunchiglia; G. Neelakantan Kartha; Vla...   \n",
       "2                   Michael Fisher; Michael Wooldridge;   \n",
       "3                     David W. Aha; Richard L. Bankert;   \n",
       "4                Costas Courcoubetis; Stavros Tripakis;   \n",
       "...                                                 ...   \n",
       "1085                                                NaN   \n",
       "1086                                                NaN   \n",
       "1087                                                NaN   \n",
       "1088                                                NaN   \n",
       "1089                                                NaN   \n",
       "\n",
       "                                            Description  \n",
       "0     We introduce the framework of hybrid automata ...  \n",
       "1     We define and study a high-level language for ...  \n",
       "2     . This paper presents a temporal belief logic ...  \n",
       "3     Several recent machine learning publications d...  \n",
       "4     The efficient representation and manipulation ...  \n",
       "...                                                 ...  \n",
       "1085                                                NaN  \n",
       "1086                                                NaN  \n",
       "1087                                                NaN  \n",
       "1088                                                NaN  \n",
       "1089                                                NaN  \n",
       "\n",
       "[1090 rows x 5 columns]"
      ]
     },
     "execution_count": 91,
     "metadata": {},
     "output_type": "execute_result"
    }
   ],
   "source": [
    "abstract"
   ]
  },
  {
   "cell_type": "markdown",
   "id": "unlike-classroom",
   "metadata": {},
   "source": [
    "- On ne considère que les descriptions \n",
    "- On utilise le TFidfVectorizer de sklearn pour vectoriser les descriptions de l'abstract"
   ]
  },
  {
   "cell_type": "code",
   "execution_count": 188,
   "id": "caroline-spanish",
   "metadata": {},
   "outputs": [],
   "source": [
    "def get_term_document_matrix(corpus = abstract['Description'] ) : \n",
    "    ''' Return the term document matrix with TF-IDF '''\n",
    "    # Number of documents \n",
    "    n_document = abstract.shape[0]\n",
    "    # Vectorizer : the tf-idf vectorizer that does the Tokenisation and TF-IDF transformation\n",
    "    vectorizer = TfidfVectorizer(strip_accents = 'unicode')\n",
    "    # Get the corpus to apply the TF-IDF\n",
    "    corpus = corpus.fillna(' ').values\n",
    "    # Do the Tokenisation and TF-IDF\n",
    "    tf_idf = vectorizer.fit_transform(corpus)\n",
    "    # Vocabulary\n",
    "    vocab = list(vectorizer.vocabulary_.keys())\n",
    "    # Size of the vocabulary\n",
    "    n_vocab = tf_idf.shape[1]\n",
    "    # Term-document matrix \n",
    "    term_document = pd.DataFrame(tf_idf.todense().T, index = vocab, columns = abstract['Id'].values)\n",
    " \n",
    "    return term_document"
   ]
  },
  {
   "cell_type": "code",
   "execution_count": 189,
   "id": "small-franchise",
   "metadata": {},
   "outputs": [],
   "source": [
    "term_document = get_term_document_matrix()"
   ]
  },
  {
   "cell_type": "markdown",
   "id": "comparable-divorce",
   "metadata": {},
   "source": [
    "- On obtient une matrice terme-document : en abscisse il y a les différents mots du corpus, et en ordonnée les différents documents (ici les articles)\n",
    "- Les valeurs de la matrice correspondent à la TF-IDF pour un mot et un article donné"
   ]
  },
  {
   "cell_type": "code",
   "execution_count": 95,
   "id": "pleased-violence",
   "metadata": {},
   "outputs": [
    {
     "data": {
      "text/html": [
       "<div>\n",
       "<style scoped>\n",
       "    .dataframe tbody tr th:only-of-type {\n",
       "        vertical-align: middle;\n",
       "    }\n",
       "\n",
       "    .dataframe tbody tr th {\n",
       "        vertical-align: top;\n",
       "    }\n",
       "\n",
       "    .dataframe thead th {\n",
       "        text-align: right;\n",
       "    }\n",
       "</style>\n",
       "<table border=\"1\" class=\"dataframe\">\n",
       "  <thead>\n",
       "    <tr style=\"text-align: right;\">\n",
       "      <th></th>\n",
       "      <th>124</th>\n",
       "      <th>496</th>\n",
       "      <th>712</th>\n",
       "      <th>1186</th>\n",
       "      <th>1347</th>\n",
       "      <th>1948</th>\n",
       "      <th>2104</th>\n",
       "      <th>2111</th>\n",
       "      <th>2490</th>\n",
       "      <th>3156</th>\n",
       "      <th>...</th>\n",
       "      <th>543817</th>\n",
       "      <th>545708</th>\n",
       "      <th>547939</th>\n",
       "      <th>548310</th>\n",
       "      <th>548620</th>\n",
       "      <th>548670</th>\n",
       "      <th>549091</th>\n",
       "      <th>561317</th>\n",
       "      <th>570764</th>\n",
       "      <th>573595</th>\n",
       "    </tr>\n",
       "  </thead>\n",
       "  <tbody>\n",
       "    <tr>\n",
       "      <th>we</th>\n",
       "      <td>0.0</td>\n",
       "      <td>0.0</td>\n",
       "      <td>0.0</td>\n",
       "      <td>0.0</td>\n",
       "      <td>0.0</td>\n",
       "      <td>0.0</td>\n",
       "      <td>0.0</td>\n",
       "      <td>0.0</td>\n",
       "      <td>0.0</td>\n",
       "      <td>0.0</td>\n",
       "      <td>...</td>\n",
       "      <td>0.0</td>\n",
       "      <td>0.0</td>\n",
       "      <td>0.0</td>\n",
       "      <td>0.0</td>\n",
       "      <td>0.0</td>\n",
       "      <td>0.0</td>\n",
       "      <td>0.0</td>\n",
       "      <td>0.0</td>\n",
       "      <td>0.0</td>\n",
       "      <td>0.0</td>\n",
       "    </tr>\n",
       "    <tr>\n",
       "      <th>introduce</th>\n",
       "      <td>0.0</td>\n",
       "      <td>0.0</td>\n",
       "      <td>0.0</td>\n",
       "      <td>0.0</td>\n",
       "      <td>0.0</td>\n",
       "      <td>0.0</td>\n",
       "      <td>0.0</td>\n",
       "      <td>0.0</td>\n",
       "      <td>0.0</td>\n",
       "      <td>0.0</td>\n",
       "      <td>...</td>\n",
       "      <td>0.0</td>\n",
       "      <td>0.0</td>\n",
       "      <td>0.0</td>\n",
       "      <td>0.0</td>\n",
       "      <td>0.0</td>\n",
       "      <td>0.0</td>\n",
       "      <td>0.0</td>\n",
       "      <td>0.0</td>\n",
       "      <td>0.0</td>\n",
       "      <td>0.0</td>\n",
       "    </tr>\n",
       "    <tr>\n",
       "      <th>the</th>\n",
       "      <td>0.0</td>\n",
       "      <td>0.0</td>\n",
       "      <td>0.0</td>\n",
       "      <td>0.0</td>\n",
       "      <td>0.0</td>\n",
       "      <td>0.0</td>\n",
       "      <td>0.0</td>\n",
       "      <td>0.0</td>\n",
       "      <td>0.0</td>\n",
       "      <td>0.0</td>\n",
       "      <td>...</td>\n",
       "      <td>0.0</td>\n",
       "      <td>0.0</td>\n",
       "      <td>0.0</td>\n",
       "      <td>0.0</td>\n",
       "      <td>0.0</td>\n",
       "      <td>0.0</td>\n",
       "      <td>0.0</td>\n",
       "      <td>0.0</td>\n",
       "      <td>0.0</td>\n",
       "      <td>0.0</td>\n",
       "    </tr>\n",
       "    <tr>\n",
       "      <th>framework</th>\n",
       "      <td>0.0</td>\n",
       "      <td>0.0</td>\n",
       "      <td>0.0</td>\n",
       "      <td>0.0</td>\n",
       "      <td>0.0</td>\n",
       "      <td>0.0</td>\n",
       "      <td>0.0</td>\n",
       "      <td>0.0</td>\n",
       "      <td>0.0</td>\n",
       "      <td>0.0</td>\n",
       "      <td>...</td>\n",
       "      <td>0.0</td>\n",
       "      <td>0.0</td>\n",
       "      <td>0.0</td>\n",
       "      <td>0.0</td>\n",
       "      <td>0.0</td>\n",
       "      <td>0.0</td>\n",
       "      <td>0.0</td>\n",
       "      <td>0.0</td>\n",
       "      <td>0.0</td>\n",
       "      <td>0.0</td>\n",
       "    </tr>\n",
       "    <tr>\n",
       "      <th>of</th>\n",
       "      <td>0.0</td>\n",
       "      <td>0.0</td>\n",
       "      <td>0.0</td>\n",
       "      <td>0.0</td>\n",
       "      <td>0.0</td>\n",
       "      <td>0.0</td>\n",
       "      <td>0.0</td>\n",
       "      <td>0.0</td>\n",
       "      <td>0.0</td>\n",
       "      <td>0.0</td>\n",
       "      <td>...</td>\n",
       "      <td>0.0</td>\n",
       "      <td>0.0</td>\n",
       "      <td>0.0</td>\n",
       "      <td>0.0</td>\n",
       "      <td>0.0</td>\n",
       "      <td>0.0</td>\n",
       "      <td>0.0</td>\n",
       "      <td>0.0</td>\n",
       "      <td>0.0</td>\n",
       "      <td>0.0</td>\n",
       "    </tr>\n",
       "    <tr>\n",
       "      <th>...</th>\n",
       "      <td>...</td>\n",
       "      <td>...</td>\n",
       "      <td>...</td>\n",
       "      <td>...</td>\n",
       "      <td>...</td>\n",
       "      <td>...</td>\n",
       "      <td>...</td>\n",
       "      <td>...</td>\n",
       "      <td>...</td>\n",
       "      <td>...</td>\n",
       "      <td>...</td>\n",
       "      <td>...</td>\n",
       "      <td>...</td>\n",
       "      <td>...</td>\n",
       "      <td>...</td>\n",
       "      <td>...</td>\n",
       "      <td>...</td>\n",
       "      <td>...</td>\n",
       "      <td>...</td>\n",
       "      <td>...</td>\n",
       "      <td>...</td>\n",
       "    </tr>\n",
       "    <tr>\n",
       "      <th>byproduct</th>\n",
       "      <td>0.0</td>\n",
       "      <td>0.0</td>\n",
       "      <td>0.0</td>\n",
       "      <td>0.0</td>\n",
       "      <td>0.0</td>\n",
       "      <td>0.0</td>\n",
       "      <td>0.0</td>\n",
       "      <td>0.0</td>\n",
       "      <td>0.0</td>\n",
       "      <td>0.0</td>\n",
       "      <td>...</td>\n",
       "      <td>0.0</td>\n",
       "      <td>0.0</td>\n",
       "      <td>0.0</td>\n",
       "      <td>0.0</td>\n",
       "      <td>0.0</td>\n",
       "      <td>0.0</td>\n",
       "      <td>0.0</td>\n",
       "      <td>0.0</td>\n",
       "      <td>0.0</td>\n",
       "      <td>0.0</td>\n",
       "    </tr>\n",
       "    <tr>\n",
       "      <th>lar90</th>\n",
       "      <td>0.0</td>\n",
       "      <td>0.0</td>\n",
       "      <td>0.0</td>\n",
       "      <td>0.0</td>\n",
       "      <td>0.0</td>\n",
       "      <td>0.0</td>\n",
       "      <td>0.0</td>\n",
       "      <td>0.0</td>\n",
       "      <td>0.0</td>\n",
       "      <td>0.0</td>\n",
       "      <td>...</td>\n",
       "      <td>0.0</td>\n",
       "      <td>0.0</td>\n",
       "      <td>0.0</td>\n",
       "      <td>0.0</td>\n",
       "      <td>0.0</td>\n",
       "      <td>0.0</td>\n",
       "      <td>0.0</td>\n",
       "      <td>0.0</td>\n",
       "      <td>0.0</td>\n",
       "      <td>0.0</td>\n",
       "    </tr>\n",
       "    <tr>\n",
       "      <th>lt88</th>\n",
       "      <td>0.0</td>\n",
       "      <td>0.0</td>\n",
       "      <td>0.0</td>\n",
       "      <td>0.0</td>\n",
       "      <td>0.0</td>\n",
       "      <td>0.0</td>\n",
       "      <td>0.0</td>\n",
       "      <td>0.0</td>\n",
       "      <td>0.0</td>\n",
       "      <td>0.0</td>\n",
       "      <td>...</td>\n",
       "      <td>0.0</td>\n",
       "      <td>0.0</td>\n",
       "      <td>0.0</td>\n",
       "      <td>0.0</td>\n",
       "      <td>0.0</td>\n",
       "      <td>0.0</td>\n",
       "      <td>0.0</td>\n",
       "      <td>0.0</td>\n",
       "      <td>0.0</td>\n",
       "      <td>0.0</td>\n",
       "    </tr>\n",
       "    <tr>\n",
       "      <th>glz89</th>\n",
       "      <td>0.0</td>\n",
       "      <td>0.0</td>\n",
       "      <td>0.0</td>\n",
       "      <td>0.0</td>\n",
       "      <td>0.0</td>\n",
       "      <td>0.0</td>\n",
       "      <td>0.0</td>\n",
       "      <td>0.0</td>\n",
       "      <td>0.0</td>\n",
       "      <td>0.0</td>\n",
       "      <td>...</td>\n",
       "      <td>0.0</td>\n",
       "      <td>0.0</td>\n",
       "      <td>0.0</td>\n",
       "      <td>0.0</td>\n",
       "      <td>0.0</td>\n",
       "      <td>0.0</td>\n",
       "      <td>0.0</td>\n",
       "      <td>0.0</td>\n",
       "      <td>0.0</td>\n",
       "      <td>0.0</td>\n",
       "    </tr>\n",
       "    <tr>\n",
       "      <th>bls92</th>\n",
       "      <td>0.0</td>\n",
       "      <td>0.0</td>\n",
       "      <td>0.0</td>\n",
       "      <td>0.0</td>\n",
       "      <td>0.0</td>\n",
       "      <td>0.0</td>\n",
       "      <td>0.0</td>\n",
       "      <td>0.0</td>\n",
       "      <td>0.0</td>\n",
       "      <td>0.0</td>\n",
       "      <td>...</td>\n",
       "      <td>0.0</td>\n",
       "      <td>0.0</td>\n",
       "      <td>0.0</td>\n",
       "      <td>0.0</td>\n",
       "      <td>0.0</td>\n",
       "      <td>0.0</td>\n",
       "      <td>0.0</td>\n",
       "      <td>0.0</td>\n",
       "      <td>0.0</td>\n",
       "      <td>0.0</td>\n",
       "    </tr>\n",
       "  </tbody>\n",
       "</table>\n",
       "<p>9306 rows × 1090 columns</p>\n",
       "</div>"
      ],
      "text/plain": [
       "           124     496     712     1186    1347    1948    2104    2111    \\\n",
       "we            0.0     0.0     0.0     0.0     0.0     0.0     0.0     0.0   \n",
       "introduce     0.0     0.0     0.0     0.0     0.0     0.0     0.0     0.0   \n",
       "the           0.0     0.0     0.0     0.0     0.0     0.0     0.0     0.0   \n",
       "framework     0.0     0.0     0.0     0.0     0.0     0.0     0.0     0.0   \n",
       "of            0.0     0.0     0.0     0.0     0.0     0.0     0.0     0.0   \n",
       "...           ...     ...     ...     ...     ...     ...     ...     ...   \n",
       "byproduct     0.0     0.0     0.0     0.0     0.0     0.0     0.0     0.0   \n",
       "lar90         0.0     0.0     0.0     0.0     0.0     0.0     0.0     0.0   \n",
       "lt88          0.0     0.0     0.0     0.0     0.0     0.0     0.0     0.0   \n",
       "glz89         0.0     0.0     0.0     0.0     0.0     0.0     0.0     0.0   \n",
       "bls92         0.0     0.0     0.0     0.0     0.0     0.0     0.0     0.0   \n",
       "\n",
       "           2490    3156    ...  543817  545708  547939  548310  548620  \\\n",
       "we            0.0     0.0  ...     0.0     0.0     0.0     0.0     0.0   \n",
       "introduce     0.0     0.0  ...     0.0     0.0     0.0     0.0     0.0   \n",
       "the           0.0     0.0  ...     0.0     0.0     0.0     0.0     0.0   \n",
       "framework     0.0     0.0  ...     0.0     0.0     0.0     0.0     0.0   \n",
       "of            0.0     0.0  ...     0.0     0.0     0.0     0.0     0.0   \n",
       "...           ...     ...  ...     ...     ...     ...     ...     ...   \n",
       "byproduct     0.0     0.0  ...     0.0     0.0     0.0     0.0     0.0   \n",
       "lar90         0.0     0.0  ...     0.0     0.0     0.0     0.0     0.0   \n",
       "lt88          0.0     0.0  ...     0.0     0.0     0.0     0.0     0.0   \n",
       "glz89         0.0     0.0  ...     0.0     0.0     0.0     0.0     0.0   \n",
       "bls92         0.0     0.0  ...     0.0     0.0     0.0     0.0     0.0   \n",
       "\n",
       "           548670  549091  561317  570764  573595  \n",
       "we            0.0     0.0     0.0     0.0     0.0  \n",
       "introduce     0.0     0.0     0.0     0.0     0.0  \n",
       "the           0.0     0.0     0.0     0.0     0.0  \n",
       "framework     0.0     0.0     0.0     0.0     0.0  \n",
       "of            0.0     0.0     0.0     0.0     0.0  \n",
       "...           ...     ...     ...     ...     ...  \n",
       "byproduct     0.0     0.0     0.0     0.0     0.0  \n",
       "lar90         0.0     0.0     0.0     0.0     0.0  \n",
       "lt88          0.0     0.0     0.0     0.0     0.0  \n",
       "glz89         0.0     0.0     0.0     0.0     0.0  \n",
       "bls92         0.0     0.0     0.0     0.0     0.0  \n",
       "\n",
       "[9306 rows x 1090 columns]"
      ]
     },
     "execution_count": 95,
     "metadata": {},
     "output_type": "execute_result"
    }
   ],
   "source": [
    "term_document"
   ]
  },
  {
   "cell_type": "code",
   "execution_count": 97,
   "id": "devoted-muslim",
   "metadata": {},
   "outputs": [],
   "source": [
    "def get_recommendation_term_document(index = None , term_document = term_document, m = m, N=10) :\n",
    "    ''' Return the top N recommendation using the cosine similarity '''\n",
    "    # Get the similarity for each user \n",
    "    df_sim = pd.DataFrame(cosine_similarity(term_document.T,term_document.T), index = m.index, columns = m.index)\n",
    "    recommendation = get_recommendation_sim(df_sim , m = m , N=N)\n",
    "    if index is None : \n",
    "        return recommendation\n",
    "    return recommendation[recommendation.index == index]\n",
    "    "
   ]
  },
  {
   "cell_type": "markdown",
   "id": "introductory-theology",
   "metadata": {},
   "source": [
    "- 10 recommendations de l'article 422908"
   ]
  },
  {
   "cell_type": "code",
   "execution_count": 98,
   "id": "nonprofit-assignment",
   "metadata": {},
   "outputs": [
    {
     "data": {
      "text/html": [
       "<div>\n",
       "<style scoped>\n",
       "    .dataframe tbody tr th:only-of-type {\n",
       "        vertical-align: middle;\n",
       "    }\n",
       "\n",
       "    .dataframe tbody tr th {\n",
       "        vertical-align: top;\n",
       "    }\n",
       "\n",
       "    .dataframe thead th {\n",
       "        text-align: right;\n",
       "    }\n",
       "</style>\n",
       "<table border=\"1\" class=\"dataframe\">\n",
       "  <thead>\n",
       "    <tr style=\"text-align: right;\">\n",
       "      <th></th>\n",
       "      <th>0</th>\n",
       "      <th>1</th>\n",
       "      <th>2</th>\n",
       "      <th>3</th>\n",
       "      <th>4</th>\n",
       "      <th>5</th>\n",
       "      <th>6</th>\n",
       "      <th>7</th>\n",
       "      <th>8</th>\n",
       "      <th>9</th>\n",
       "    </tr>\n",
       "  </thead>\n",
       "  <tbody>\n",
       "    <tr>\n",
       "      <th>422908</th>\n",
       "      <td>422908.0</td>\n",
       "      <td>430308.0</td>\n",
       "      <td>484335.0</td>\n",
       "      <td>340126.0</td>\n",
       "      <td>396568.0</td>\n",
       "      <td>19249.0</td>\n",
       "      <td>22904.0</td>\n",
       "      <td>164633.0</td>\n",
       "      <td>3950.0</td>\n",
       "      <td>230897.0</td>\n",
       "    </tr>\n",
       "  </tbody>\n",
       "</table>\n",
       "</div>"
      ],
      "text/plain": [
       "               0         1         2         3         4        5        6  \\\n",
       "422908  422908.0  430308.0  484335.0  340126.0  396568.0  19249.0  22904.0   \n",
       "\n",
       "               7       8         9  \n",
       "422908  164633.0  3950.0  230897.0  "
      ]
     },
     "execution_count": 98,
     "metadata": {},
     "output_type": "execute_result"
    }
   ],
   "source": [
    "get_recommendation_term_document(422908, N = 10)"
   ]
  },
  {
   "cell_type": "markdown",
   "id": "studied-lafayette",
   "metadata": {},
   "source": [
    "# Question 5"
   ]
  },
  {
   "cell_type": "markdown",
   "id": "balanced-documentary",
   "metadata": {},
   "source": [
    "- Tout d'abord, nous utilisons une fonction qui convertit les recommendations pour avoir le format d'une matrice d'adjacence, avec des 1 pour la recommandation "
   ]
  },
  {
   "cell_type": "code",
   "execution_count": 99,
   "id": "pressing-monday",
   "metadata": {},
   "outputs": [],
   "source": [
    "def convert_recommendation_matrix(recommendations, m=m) : \n",
    "    ''' Convert the Top N recommendations to be represented as 1 in a 1090x1090 matrix '''\n",
    "    # A 1090x1090 matrix with 1 when there is a recommendation\n",
    "    m_rec = pd.DataFrame(np.zeros((m.shape[0], m.shape[0])), columns = list(m.index), index = list(m.index))\n",
    "    \n",
    "    for (index, row) in recommendations.iterrows() : \n",
    "        for k in row : \n",
    "            m_rec.loc[index,k] = 1 \n",
    "    return m_rec"
   ]
  },
  {
   "cell_type": "markdown",
   "id": "apart-correction",
   "metadata": {},
   "source": [
    "- On créer une matrice avec les références et les référencés pour utilisons une cross-validation dessus "
   ]
  },
  {
   "cell_type": "code",
   "execution_count": 156,
   "id": "owned-invalid",
   "metadata": {},
   "outputs": [],
   "source": [
    "m_base = pd.read_table(TABLE_PATH, sep=' ')\n",
    "\n",
    "def return_df_citations(m_base = m_base):  \n",
    "    \"\"\"\n",
    "    returns a 2 columns df with refree/referenced papers\n",
    "    \"\"\"\n",
    "    citations = []\n",
    "    \n",
    "    for i, (index, row) in enumerate(m_base.iterrows()):\n",
    "        indexes = row[row ==1].index\n",
    "        for k in indexes:\n",
    "            if index != int(k) : \n",
    "                citations.append([index,k])\n",
    "            \n",
    "    return pd.DataFrame(citations, columns = ['referee','referenced'])"
   ]
  },
  {
   "cell_type": "code",
   "execution_count": 157,
   "id": "funded-enemy",
   "metadata": {},
   "outputs": [],
   "source": [
    "df_citations = return_df_citations(m_base = m_base)"
   ]
  },
  {
   "cell_type": "code",
   "execution_count": 158,
   "id": "analyzed-association",
   "metadata": {},
   "outputs": [
    {
     "data": {
      "text/html": [
       "<div>\n",
       "<style scoped>\n",
       "    .dataframe tbody tr th:only-of-type {\n",
       "        vertical-align: middle;\n",
       "    }\n",
       "\n",
       "    .dataframe tbody tr th {\n",
       "        vertical-align: top;\n",
       "    }\n",
       "\n",
       "    .dataframe thead th {\n",
       "        text-align: right;\n",
       "    }\n",
       "</style>\n",
       "<table border=\"1\" class=\"dataframe\">\n",
       "  <thead>\n",
       "    <tr style=\"text-align: right;\">\n",
       "      <th></th>\n",
       "      <th>referee</th>\n",
       "      <th>referenced</th>\n",
       "    </tr>\n",
       "  </thead>\n",
       "  <tbody>\n",
       "    <tr>\n",
       "      <th>0</th>\n",
       "      <td>100299</td>\n",
       "      <td>170577</td>\n",
       "    </tr>\n",
       "    <tr>\n",
       "      <th>1</th>\n",
       "      <td>100299</td>\n",
       "      <td>527057</td>\n",
       "    </tr>\n",
       "    <tr>\n",
       "      <th>2</th>\n",
       "      <td>100967</td>\n",
       "      <td>173238</td>\n",
       "    </tr>\n",
       "    <tr>\n",
       "      <th>3</th>\n",
       "      <td>100967</td>\n",
       "      <td>185918</td>\n",
       "    </tr>\n",
       "    <tr>\n",
       "      <th>4</th>\n",
       "      <td>100967</td>\n",
       "      <td>275211</td>\n",
       "    </tr>\n",
       "    <tr>\n",
       "      <th>...</th>\n",
       "      <td>...</td>\n",
       "      <td>...</td>\n",
       "    </tr>\n",
       "    <tr>\n",
       "      <th>2816</th>\n",
       "      <td>9993</td>\n",
       "      <td>245669</td>\n",
       "    </tr>\n",
       "    <tr>\n",
       "      <th>2817</th>\n",
       "      <td>9993</td>\n",
       "      <td>248598</td>\n",
       "    </tr>\n",
       "    <tr>\n",
       "      <th>2818</th>\n",
       "      <td>9993</td>\n",
       "      <td>311874</td>\n",
       "    </tr>\n",
       "    <tr>\n",
       "      <th>2819</th>\n",
       "      <td>9993</td>\n",
       "      <td>353044</td>\n",
       "    </tr>\n",
       "    <tr>\n",
       "      <th>2820</th>\n",
       "      <td>9993</td>\n",
       "      <td>79248</td>\n",
       "    </tr>\n",
       "  </tbody>\n",
       "</table>\n",
       "<p>2821 rows × 2 columns</p>\n",
       "</div>"
      ],
      "text/plain": [
       "      referee referenced\n",
       "0      100299     170577\n",
       "1      100299     527057\n",
       "2      100967     173238\n",
       "3      100967     185918\n",
       "4      100967     275211\n",
       "...       ...        ...\n",
       "2816     9993     245669\n",
       "2817     9993     248598\n",
       "2818     9993     311874\n",
       "2819     9993     353044\n",
       "2820     9993      79248\n",
       "\n",
       "[2821 rows x 2 columns]"
      ]
     },
     "execution_count": 158,
     "metadata": {},
     "output_type": "execute_result"
    }
   ],
   "source": [
    "df_citations"
   ]
  },
  {
   "cell_type": "markdown",
   "id": "weighted-manufacturer",
   "metadata": {},
   "source": [
    "- Fonction de cross-validation : on créer une liste de matrice d'adjacence (training et validation) "
   ]
  },
  {
   "cell_type": "code",
   "execution_count": 159,
   "id": "accomplished-morocco",
   "metadata": {},
   "outputs": [],
   "source": [
    "def k_fold(df_citations = df_citations, m = m_base  , N = 10) : \n",
    "    ''' Return the adjacent matrices for training and testing set, for N folds '''\n",
    "    training = []\n",
    "    testing = []\n",
    "    np.fill_diagonal(m.values, 0)\n",
    "    \n",
    "    kf = KFold(n_splits = N , random_state = None, shuffle = True)\n",
    "    \n",
    "    for train_index, test_index in kf.split(df_citations) :\n",
    "        \n",
    "        m_copy = m.copy()\n",
    "        m_test = m.copy()\n",
    "                \n",
    "        m_test.iloc[:,:] = 0\n",
    "        \n",
    "        test_indexes_citations = df_citations.iloc[test_index]\n",
    "        for j,k in zip(test_indexes_citations['referee'].values, test_indexes_citations['referenced'].values) :            \n",
    "            \n",
    "            m_copy.loc[j,k] = 0\n",
    "            m_test.loc[j,k] = 1\n",
    "            \n",
    "            \n",
    "        m_copy.columns = m.index\n",
    "        m_test.columns = m.index\n",
    "        \n",
    "        training.append(m_copy)\n",
    "        testing.append(m_test)\n",
    "        \n",
    "    return training, testing "
   ]
  },
  {
   "cell_type": "markdown",
   "id": "proprietary-mention",
   "metadata": {},
   "source": [
    "# Fonctions de recommandations "
   ]
  },
  {
   "cell_type": "markdown",
   "id": "varying-swimming",
   "metadata": {},
   "source": [
    "- Pour toutes les fonctions de recommandations, on utilise le format souhaité. \n",
    "- Les arguments sont les suivant : matrice_adjacence_entrainement, *args, **kwargs"
   ]
  },
  {
   "cell_type": "markdown",
   "id": "welsh-doctor",
   "metadata": {},
   "source": [
    "## Similarité vector space  "
   ]
  },
  {
   "cell_type": "markdown",
   "id": "compact-diesel",
   "metadata": {},
   "source": [
    "- Recommendation pour la methode de la question 3 : matrice d adjacence comme espace vectoriel "
   ]
  },
  {
   "cell_type": "code",
   "execution_count": 160,
   "id": "consecutive-dream",
   "metadata": {},
   "outputs": [],
   "source": [
    "def fn_recommendations_vector(matrice_adjacence_entrainement, *args, **kwargs) : \n",
    "    ''' Get the Top-20 recommendations : Similarity with adjacence matrix '''\n",
    "    recommendations = get_recommendation_vector(index = None , m = matrice_adjacence_entrainement , N = 20)\n",
    "    # Convert to be of the size 1090 x 1090 with 1 when there is a recommendation \n",
    "    m_rec = convert_recommendation_matrix(recommendations)\n",
    "    return m_rec"
   ]
  },
  {
   "cell_type": "markdown",
   "id": "entire-lithuania",
   "metadata": {},
   "source": [
    "## Similarité PageRank standard"
   ]
  },
  {
   "cell_type": "markdown",
   "id": "painted-advisory",
   "metadata": {},
   "source": [
    "- Recommandation avec PageRank"
   ]
  },
  {
   "cell_type": "code",
   "execution_count": 161,
   "id": "dress-exposure",
   "metadata": {},
   "outputs": [],
   "source": [
    "def fn_recommendations_pagerank(matrice_adjacence_entrainement, *args, **kwargs) : \n",
    "    ''' Get the Top-20 recommendations : PageRank '''\n",
    "    # Compute PageRank\n",
    "    r = page_rank(matrice_adjacence_entrainement, d= 0.85, epsilon = 1e-5, max_iter = 1000)\n",
    "    # Get the recommendations for every article\n",
    "    recommendations = get_recommendation_page_rank(index = None , r = r, m=matrice_adjacence_entrainement,N= 20 )   \n",
    "    # Convert to be of the size 1090 x 1090 with 1 when there is a recommendation \n",
    "    m_rec = convert_recommendation_matrix(recommendations)\n",
    "    return m_rec"
   ]
  },
  {
   "cell_type": "markdown",
   "id": "differential-brother",
   "metadata": {},
   "source": [
    "## Similarité PageRank étendu"
   ]
  },
  {
   "cell_type": "markdown",
   "id": "ecological-condition",
   "metadata": {},
   "source": [
    "- Recommandation avec PageRank++ : sous-ensemble etendu "
   ]
  },
  {
   "cell_type": "code",
   "execution_count": 113,
   "id": "conventional-crime",
   "metadata": {},
   "outputs": [],
   "source": [
    "def fn_recommendations_pagerank_(matrice_adjacence_entrainement, *args, **kwargs) : \n",
    "    ''' Get the Top-20 recommendations : PageRank++ '''\n",
    "    # Extend the neighborhood \n",
    "    m_ = matrice_adjacence_entrainement.values @ matrice_adjacence_entrainement.values +\\\n",
    "    matrice_adjacence_entrainement.values\n",
    "    new_m = matrice_adjacence_entrainement.copy()\n",
    "    new_m[:] = m_\n",
    "    new_m[new_m>1] = 1 \n",
    "    np.fill_diagonal(new_m.values,0)\n",
    "    r = page_rank(new_m, d= 0.85, epsilon = 1e-5, max_iter = 1000)\n",
    "    # Get the recommendations for every article\n",
    "    recommendations = get_recommendation_page_rank(index = None,r = r, m = matrice_adjacence_entrainement, N =20)\n",
    "    # Convert to be of the size 1090 x 1090 with 1 when there is a recommendation \n",
    "    m_rec = convert_recommendation_matrix(recommendations)\n",
    "    return m_rec"
   ]
  },
  {
   "cell_type": "markdown",
   "id": "straight-shark",
   "metadata": {},
   "source": [
    "## Similarité TF-IDF"
   ]
  },
  {
   "cell_type": "markdown",
   "id": "junior-diving",
   "metadata": {},
   "source": [
    "- Recommandation avec TF-IDF"
   ]
  },
  {
   "cell_type": "code",
   "execution_count": 114,
   "id": "descending-wagner",
   "metadata": {},
   "outputs": [],
   "source": [
    "def fn_recommendations_tfidf(matrice_adjacence_entrainement, *args, **kwargs) : \n",
    "    ''' Do the recommendations with the tf-idf method '''\n",
    "    term_document = args[0][0]['term_document']\n",
    "    \n",
    "    recommendations = get_recommendation_term_document(index = None , term_document = term_document,\\\n",
    "                                                       m = matrice_adjacence_entrainement, N=20) \n",
    "    m_rec = convert_recommendation_matrix(recommendations)\n",
    "    \n",
    "    return m_rec"
   ]
  },
  {
   "cell_type": "markdown",
   "id": "established-buffer",
   "metadata": {},
   "source": [
    "## Similarité Word2Vec"
   ]
  },
  {
   "cell_type": "markdown",
   "id": "incomplete-picture",
   "metadata": {},
   "source": [
    "- Recommendation avec Word2Vec : on utilise un embedding Word2Vec au lieu de TF-IDF pour les descriptions.  \n",
    "- Chacun des mots est représenté avec un embedding Word2Vec. \n",
    "- Chacune des phrases est représentée par la moyenne des représentations des mots \n",
    "- Cependant, prendre la moyenne va retirer le contexte et certainement faire une représentation assez mauvaise"
   ]
  },
  {
   "cell_type": "code",
   "execution_count": 115,
   "id": "prescription-equilibrium",
   "metadata": {},
   "outputs": [],
   "source": [
    "def model_word2vec(abstract = abstract) : \n",
    "    ''' Return a word2vec model '''\n",
    "    data = abstract['Description'].fillna(' ').values\n",
    "    # Tokenize the data \n",
    "    data_tok = []\n",
    "    for sentence in data : \n",
    "        data_tok.append(word_tokenize(sentence))\n",
    "    # Create the model \n",
    "    model = gensim.models.Word2Vec(data_tok, min_count = 1,  \n",
    "                              size = 1000, window = 5)\n",
    "    model.train(data_tok , total_examples=len(abstract), epochs=100)\n",
    "    return model"
   ]
  },
  {
   "cell_type": "code",
   "execution_count": 116,
   "id": "structured-payday",
   "metadata": {},
   "outputs": [],
   "source": [
    "def embed_sentences(model, sentences) : \n",
    "    ''' Embed sentences '''\n",
    "    # Create a tokenization \n",
    "    data_tok = []\n",
    "    for sentence in sentences : \n",
    "        temp = []\n",
    "        words = word_tokenize(sentence)\n",
    "        for word in words : \n",
    "            if word in model.wv.vocab : \n",
    "                temp.append(word)\n",
    "        data_tok.append(temp)\n",
    "    \n",
    "    token_dim = model.wv[model.wv.vocab].shape[1]\n",
    "    embedded = np.zeros((len(sentences), token_dim))\n",
    "    for i,sentence in enumerate(data_tok) : \n",
    "        try : \n",
    "            embed = model.wv[sentence].sum(axis = 0)\n",
    "        except ValueError : \n",
    "            pass\n",
    "        embedded[i,:] = embed\n",
    "    \n",
    "    return embedded"
   ]
  },
  {
   "cell_type": "code",
   "execution_count": 117,
   "id": "compressed-cliff",
   "metadata": {},
   "outputs": [],
   "source": [
    "def get_embedding(abstract = abstract, m = m ) : \n",
    "    ''' Return the embedding of the abstract using Word2Vec '''\n",
    "    model = model_word2vec(abstract)\n",
    "    embedding = embed_sentences(model, abstract['Description'].fillna(' ').values)\n",
    "    return embedding"
   ]
  },
  {
   "cell_type": "code",
   "execution_count": 184,
   "id": "floppy-camcorder",
   "metadata": {},
   "outputs": [],
   "source": [
    "def get_recommendation_word2vec(embedding, N = 20 , m = m ) : \n",
    "    ''' Return the recommendation for the word2vec embedding '''\n",
    "    df_sim = cosine_similarity(embedding, embedding)\n",
    "    # Disallow self recommendations \n",
    "    np.fill_diagonal(df_sim, 0)\n",
    "    df_sim = pd.DataFrame(df_sim, index =  m.index, columns = m.index)\n",
    "    recommendations = get_recommendation_sim(df_sim, N = N , m = m )\n",
    "    return recommendations"
   ]
  },
  {
   "cell_type": "markdown",
   "id": "framed-discretion",
   "metadata": {},
   "source": [
    "- Fonction final Word2Vec"
   ]
  },
  {
   "cell_type": "code",
   "execution_count": 182,
   "id": "instant-creator",
   "metadata": {},
   "outputs": [],
   "source": [
    "def fn_recommendations_word2vec(matrice_adjacence_entrainement, *args, **kwargs) : \n",
    "    ''' Do the recommendations with the Word2Vec vectorisation of the abstract '''\n",
    "    embedding = args[0][0]['embedding']\n",
    "    recommendations = get_recommendation_word2vec(embedding, N = 20, m = matrice_adjacence_entrainement)\n",
    "    return recommendations"
   ]
  },
  {
   "cell_type": "markdown",
   "id": "afraid-mozambique",
   "metadata": {},
   "source": [
    "## Similarité titre + PageRank++ "
   ]
  },
  {
   "cell_type": "markdown",
   "id": "consecutive-tonight",
   "metadata": {},
   "source": [
    "- Recommandation avec augmentation du voisinage avec similitudes des titres \n",
    "- On calcul le TF-IDF, puis la similitude de chaque document avec les autres grâce à la représentation TF-IDF.\n",
    "- Ensuite, on rajoute à la matrice d'adjacence les M documents les plus similaires (M est un hyperparamètre)\n",
    "- Puis, on utilise la méthode PageRank avec cette nouvelle matrice d'adjacence"
   ]
  },
  {
   "cell_type": "code",
   "execution_count": 120,
   "id": "dominican-puzzle",
   "metadata": {},
   "outputs": [],
   "source": [
    "def get_term_document_titles(abstract = abstract) : \n",
    "    ''' Return the sim matrix with the titles '''\n",
    "    titles = abstract['Titre']\n",
    "    term_document_titles = get_term_document_matrix(corpus =titles  ) \n",
    "    return term_document_titles"
   ]
  },
  {
   "cell_type": "code",
   "execution_count": 121,
   "id": "cheap-garlic",
   "metadata": {},
   "outputs": [],
   "source": [
    "def fn_recommendations_titles(matrice_adjacence_entrainement, *args, **kwargs) : \n",
    "    ''' Return recommendation with titles '''\n",
    "    term_document_titles = args[0][0]['term_document']\n",
    "    \n",
    "    recommendations = get_recommendation_term_document(index = None , term_document = term_document_titles,\\\n",
    "                                                       m = matrice_adjacence_entrainement, N=20) \n",
    "    m_rec = convert_recommendation_matrix(recommendations)\n",
    "    \n",
    "    return m_rec\n",
    "    "
   ]
  },
  {
   "cell_type": "code",
   "execution_count": 122,
   "id": "breeding-edinburgh",
   "metadata": {},
   "outputs": [],
   "source": [
    "def add_negihborhood(m, indexes) : \n",
    "    ''' Add 1 to all the indexes of the matrix '''\n",
    "    new_m = m.copy()\n",
    "    for i, index in enumerate(indexes) : \n",
    "        for j in index :\n",
    "            new_m.iloc[i,j] = 1\n",
    "    return new_m"
   ]
  },
  {
   "cell_type": "code",
   "execution_count": 123,
   "id": "billion-organic",
   "metadata": {},
   "outputs": [],
   "source": [
    "def fn_recommendations_pagerank_titles(matrice_adjacence_entrainement, *args, **kwargs) : \n",
    "    ''' Return recommendations with PageRank extended with the titles similarity '''\n",
    "    term_document_titles = args[0][0]['term_document']\n",
    "    \n",
    "    M = args[0][0]['title_neigh']\n",
    "    \n",
    "    df_sim = pd.DataFrame(cosine_similarity(term_document_titles.T,term_document_titles.T),\\\n",
    "                          index = matrice_adjacence_entrainement.index, columns = matrice_adjacence_entrainement.index)\n",
    "    np.fill_diagonal(df_sim.values, 0)\n",
    "    \n",
    "    indexes = (-df_sim.values).argsort()[:,:M]\n",
    "    \n",
    "    new_m = add_negihborhood(matrice_adjacence_entrainement, indexes)\n",
    "    \n",
    "    return fn_recommendations_pagerank(new_m)\n",
    "    "
   ]
  },
  {
   "cell_type": "markdown",
   "id": "prerequisite-nothing",
   "metadata": {},
   "source": [
    "## Similarité PageRank extended"
   ]
  },
  {
   "cell_type": "markdown",
   "id": "outside-guitar",
   "metadata": {},
   "source": [
    "- Recommandation avec extension de la matrice d'adjance (PageRank extended)\n",
    "- On considère les références des références, les référents des référents et les référés\n",
    "- Si on note m la matrice d'adjance, cela correspond à : $m^2 + m.T + (m.T)^2$\n",
    "- On applique ensuite PageRank"
   ]
  },
  {
   "cell_type": "code",
   "execution_count": 124,
   "id": "wanted-elephant",
   "metadata": {},
   "outputs": [],
   "source": [
    "def fn_recommendations_page_rank_extended(matrice_adjacence_entrainement, *args, **kwargs) : \n",
    "    ''' Return recommendations with PageRank extended '''\n",
    "    \n",
    "    new_m = matrice_adjacence_entrainement.copy()\n",
    "    \n",
    "    m_ = new_m.values @ new_m.values + new_m.values.T + (new_m.values.T @ new_m.values.T) \n",
    "    \n",
    "    new_m = matrice_adjacence_entrainement.copy()\n",
    "    \n",
    "    new_m[:] = m_\n",
    "    \n",
    "    new_m[new_m>1] = 1 \n",
    "    \n",
    "    np.fill_diagonal(new_m.values,0)\n",
    "    \n",
    "    r = page_rank(new_m, d= 0.85, epsilon = 1e-5, max_iter = 1000)\n",
    "    \n",
    "    recommendations = get_recommendation_page_rank(index = None,r = r, m = new_m, N =20)\n",
    "\n",
    "    m_rec = convert_recommendation_matrix(recommendations)\n",
    "    return m_rec\n",
    "    "
   ]
  },
  {
   "cell_type": "markdown",
   "id": "leading-cross",
   "metadata": {},
   "source": [
    "## Similarité vector space étendu avec auteurs et titres "
   ]
  },
  {
   "cell_type": "markdown",
   "id": "ordinary-reader",
   "metadata": {},
   "source": [
    "- Recommandation avec une moyenne pondérée des matrices de similarité TF-IDF titres, auteurs et matrice d'adjacence\n",
    "- On prend 0.1 fois la matrice de similarité des titres (avec TF-IDF)\n",
    "- On prend 0.1 fois la matrice de similarité des auteurs (avec TF-IDF)\n",
    "- On prend 0.8 fois la matrice de similarité cosinus de la matrice d'adjacence"
   ]
  },
  {
   "cell_type": "code",
   "execution_count": 125,
   "id": "accomplished-proceeding",
   "metadata": {},
   "outputs": [],
   "source": [
    "def get_tf_idf_titles_authors(abstract = abstract) :\n",
    "    ''' Return the tf-idf matrix for Authors and titles '''\n",
    "    authors = get_term_document_matrix(corpus = abstract['Auteurs'] )\n",
    "    titles = get_term_document_matrix(corpus = abstract['Titre'] )\n",
    "    return {'term_document_title' : titles, 'term_docment_authors' : authors}"
   ]
  },
  {
   "cell_type": "code",
   "execution_count": 126,
   "id": "reduced-catering",
   "metadata": {},
   "outputs": [],
   "source": [
    "def fn_recommendations_vector_authors_titles(matrice_adjacence_entrainement, *args, **kwargs) : \n",
    "    ''' Return recommendations with Vector Space method, with extension of neighborhood with titles and authors '''\n",
    "    term_document_titles = args[0][0]['term_document_title']\n",
    "    term_document_authors = args[0][0]['term_docment_authors']\n",
    "    \n",
    "    M = 25\n",
    "    N_COMPONENT = 10\n",
    "    # Get similarity matrix for titles\n",
    "    df_sim_titles = pd.DataFrame(cosine_similarity(term_document_titles.T,term_document_titles.T),\\\n",
    "                          index = matrice_adjacence_entrainement.index, columns = matrice_adjacence_entrainement.index)\n",
    "    # Get similarity matrix for authors\n",
    "    df_sim_authors = pd.DataFrame(cosine_similarity(term_document_authors.T,term_document_authors.T),\\\n",
    "                          index = matrice_adjacence_entrainement.index, columns = matrice_adjacence_entrainement.index)\n",
    "    # Get similarity matrix for adjacent matrix \n",
    "    df_sim_vector = pd.DataFrame(cosine_similarity(matrice_adjacence_entrainement.T,matrice_adjacence_entrainement.T),\\\n",
    "                          index = matrice_adjacence_entrainement.index, columns = matrice_adjacence_entrainement.index)\n",
    "    # Average the three matrix with the following weights \n",
    "    weights = [0.1, 0.1,0.8]\n",
    "    df_sim = (weights[0] * df_sim_titles + weights[1] * df_sim_authors + weights[2] * df_sim_vector)/3\n",
    "    recommendations = get_recommendation_sim(df_sim , m = m , N=20) \n",
    "    # Convert to be of the size 1090 x 1090 with 1 when there is a recommendation \n",
    "    m_rec = convert_recommendation_matrix(recommendations)\n",
    "\n",
    "    return m_rec"
   ]
  },
  {
   "cell_type": "markdown",
   "id": "correct-firewall",
   "metadata": {},
   "source": [
    "# TO DO : MAKE IT WORK "
   ]
  },
  {
   "cell_type": "markdown",
   "id": "western-reflection",
   "metadata": {},
   "source": [
    "# Use of SBERT"
   ]
  },
  {
   "cell_type": "markdown",
   "id": "amber-married",
   "metadata": {},
   "source": [
    "- Function for SBERT"
   ]
  },
  {
   "cell_type": "code",
   "execution_count": 206,
   "id": "south-daily",
   "metadata": {},
   "outputs": [],
   "source": [
    "def get_sbert_embeds(column, column2 = None, concat = False):\n",
    "    \"\"\"\n",
    "    Build contextualized embeddings using sbert\n",
    "    \"\"\"\n",
    "    #Call the model using sentence_transformers library\n",
    "    model = SentenceTransformer('paraphrase-distilroberta-base-v1')\n",
    "    #Buil embeddings depending on given features (title, description or both)\n",
    "    embeds = []\n",
    "    if concat:\n",
    "        sentences =  abstract[column] + '. ' + abstract[column2]\n",
    "    else:\n",
    "        sentences = abstract[column].values\n",
    "    for s in sentences:\n",
    "        if s is not np.nan:\n",
    "            emb1 = model.encode(s, convert_to_tensor=True, show_progress_bar=False)\n",
    "        else:\n",
    "            emb1 = torch.zeros([768])\n",
    "        embeds.append(emb1)\n",
    "    embeds = torch.stack(embeds,dim=0)\n",
    "    return embeds"
   ]
  },
  {
   "cell_type": "code",
   "execution_count": 207,
   "id": "wicked-investment",
   "metadata": {},
   "outputs": [],
   "source": [
    "def get_sbert_similarities(args):\n",
    "    \"\"\"\n",
    "    returns a df with similarities computed depending on the abstract columns\n",
    "    \"\"\"  \n",
    "    #Compute embeddings using sbert pre-trained model\n",
    "    sbert_embeds = get_sbert_embeds(args[0]['column'], args[0]['column2'], args[0]['concat'])\n",
    "    #Compute similarities using obtained embedings\n",
    "    cosine_scores = util.pytorch_cos_sim(sbert_embeds, sbert_embeds)\n",
    "    #Get a df with similarities between pairs of documents \n",
    "    df_similarities = pd.DataFrame(cosine_scores.tolist(), index = abstract['Id'].values, columns = abstract['Id'].values)\n",
    "    return df_similarities"
   ]
  },
  {
   "cell_type": "code",
   "execution_count": 208,
   "id": "centered-cameroon",
   "metadata": {},
   "outputs": [],
   "source": [
    "def get_recommendations_sbert_embeds(matrice_adjacence_entrainement, df_sim, N=20) :\n",
    "    ''' Return the top N recommendation using the sbert similarities '''\n",
    "    # Get the indexes that maximises the similarity\n",
    "    idx = (-df_sim.values).argsort()\n",
    "    # Keep the N max\n",
    "    idx = idx[:,:N]\n",
    "    # Convert the indexes into article indexes\n",
    "    article_idx = np.zeros(idx.shape)\n",
    "    for i,index in enumerate(idx) : \n",
    "        for j,index_ in enumerate(index) : \n",
    "            article_idx[i,j] = df_sim.columns[index_]\n",
    "    return pd.DataFrame(article_idx, index = df_sim.columns)"
   ]
  },
  {
   "cell_type": "code",
   "execution_count": 210,
   "id": "unsigned-rebel",
   "metadata": {},
   "outputs": [],
   "source": [
    "def fn_recommendations_sbert_embeds(matrice_adjacence_entrainement, df_sim, N=20): \n",
    "    ''' Return recommendations with the sbert method '''\n",
    "    recommendations = get_recommendations_sbert_embeds(matrice_adjacence_entrainement, df_sim, N=20) \n",
    "    m_rec = convert_recommendation_matrix(recommendations)                                                    \n",
    "    return m_rec"
   ]
  },
  {
   "cell_type": "markdown",
   "id": "accessory-latter",
   "metadata": {},
   "source": [
    "## Combinaison de SBERT (titres + descriptions) et PageRank++"
   ]
  },
  {
   "cell_type": "code",
   "execution_count": 211,
   "id": "linear-presence",
   "metadata": {},
   "outputs": [],
   "source": [
    "def fn_recommendations_pagerank_(matrice_adjacence_entrainement, *args, **kwargs) : \n",
    "    ''' Get the Top-20 recommendations : PageRank++ '''\n",
    "    # Extend the neighborhood \n",
    "    m_ = matrice_adjacence_entrainement.values @ matrice_adjacence_entrainement.values +\\\n",
    "    matrice_adjacence_entrainement.values.T\n",
    "    m = matrice_adjacence_entrainement.copy()\n",
    "    m[:] = m_\n",
    "    np.fill_diagonal(m.values,0)\n",
    "    r = page_rank(m, d= 0.85, epsilon = 1e-5, max_iter = 1000)\n",
    "    # Get the recommendations for every article\n",
    "    recommendations = get_recommendation_page_rank(None,r = r, m = m)\n",
    "    # Convert to be of the size 1090 x 1090 with 1 when there is a recommendation \n",
    "    m_rec = convert_recommendation_matrix(recommendations)\n",
    "    return m_rec"
   ]
  },
  {
   "cell_type": "code",
   "execution_count": 212,
   "id": "finished-showcase",
   "metadata": {},
   "outputs": [],
   "source": [
    "def fn_recommendations_pagerank_titles(matrice_adjacence_entrainement, *args, **kwargs) : \n",
    "    ''' Return recommendations with PageRank extended with the titles similarity '''\n",
    "    term_document_titles = args[0][0]['term_document']\n",
    "    \n",
    "    M = args[0][0]['title_neigh']\n",
    "    \n",
    "    df_sim = pd.DataFrame(cosine_similarity(term_document_titles.T,term_document_titles.T),\\\n",
    "                          index = matrice_adjacence_entrainement.index, columns = matrice_adjacence_entrainement.index)\n",
    "    np.fill_diagonal(df_sim.values, 0)\n",
    "    \n",
    "    indexes = (-df_sim.values).argsort()[:,:M]\n",
    "    \n",
    "    new_m = add_negihborhood(matrice_adjacence_entrainement, indexes)\n",
    "    \n",
    "    return fn_recommendations_pagerank(new_m)"
   ]
  },
  {
   "cell_type": "markdown",
   "id": "chicken-prophet",
   "metadata": {},
   "source": [
    "#  Calcul de recall"
   ]
  },
  {
   "cell_type": "markdown",
   "id": "located-trinidad",
   "metadata": {},
   "source": [
    "- Fonctions de calcul de rappel "
   ]
  },
  {
   "cell_type": "code",
   "execution_count": 127,
   "id": "certified-watts",
   "metadata": {},
   "outputs": [],
   "source": [
    "def fn_taux_rappel(matrice_adjacence_test, recommandations) : \n",
    "    ''' Return the recall ratio '''\n",
    "    return ((matrice_adjacence_test+recommandations)==2).sum().sum()/matrice_adjacence_test.sum().sum()"
   ]
  },
  {
   "cell_type": "code",
   "execution_count": 137,
   "id": "centered-floating",
   "metadata": {},
   "outputs": [],
   "source": [
    "def get_recall(fn_recommandations, *args, **kwargs ) : \n",
    "    ''' Get the recall averaged 5 times '''\n",
    "    recall = []\n",
    "    for i in range(5) : \n",
    "        training_adjacences , testing_adjacences = k_fold(m = m_base)\n",
    "        recall_val = []\n",
    "        for matrice_train, matrice_test in zip(training_adjacences, testing_adjacences) : \n",
    "            recommandations = fn_recommandations(matrice_train, args, kwargs)\n",
    "            current_recall = fn_taux_rappel(matrice_test, recommandations)\n",
    "            recall_val.append(current_recall)\n",
    "        recall.append(np.mean(recall_val))\n",
    "    return np.mean(recall)"
   ]
  },
  {
   "cell_type": "markdown",
   "id": "active-folder",
   "metadata": {},
   "source": [
    "# Résultats de Recall"
   ]
  },
  {
   "cell_type": "markdown",
   "id": "documented-rebate",
   "metadata": {},
   "source": [
    "- Les différents résultats des méthodes précédentes"
   ]
  },
  {
   "cell_type": "code",
   "execution_count": 130,
   "id": "planned-librarian",
   "metadata": {},
   "outputs": [],
   "source": [
    "# Variable to keep the results \n",
    "score_models = {}"
   ]
  },
  {
   "cell_type": "markdown",
   "id": "continental-blocking",
   "metadata": {},
   "source": [
    "## Recall pour similarité Vector Space"
   ]
  },
  {
   "cell_type": "code",
   "execution_count": 167,
   "id": "caring-convenience",
   "metadata": {},
   "outputs": [],
   "source": [
    "score_models['Vector Space'] = get_recall(fn_recommendations_vector)"
   ]
  },
  {
   "cell_type": "code",
   "execution_count": 168,
   "id": "freelance-insider",
   "metadata": {},
   "outputs": [
    {
     "data": {
      "text/plain": [
       "0.22055735157757567"
      ]
     },
     "execution_count": 168,
     "metadata": {},
     "output_type": "execute_result"
    }
   ],
   "source": [
    "score_models['Vector Space']"
   ]
  },
  {
   "cell_type": "markdown",
   "id": "outside-cigarette",
   "metadata": {},
   "source": [
    "## Recall pour PageRank standard"
   ]
  },
  {
   "cell_type": "code",
   "execution_count": 169,
   "id": "promising-doubt",
   "metadata": {},
   "outputs": [],
   "source": [
    "score_models['PageRank'] = get_recall(fn_recommendations_pagerank)"
   ]
  },
  {
   "cell_type": "code",
   "execution_count": 170,
   "id": "romantic-lying",
   "metadata": {},
   "outputs": [
    {
     "data": {
      "text/plain": [
       "0.018434453549858405"
      ]
     },
     "execution_count": 170,
     "metadata": {},
     "output_type": "execute_result"
    }
   ],
   "source": [
    "score_models['PageRank']"
   ]
  },
  {
   "cell_type": "markdown",
   "id": "manual-implement",
   "metadata": {},
   "source": [
    "## Recall pour PageRank étendu"
   ]
  },
  {
   "cell_type": "code",
   "execution_count": 171,
   "id": "turned-seventh",
   "metadata": {},
   "outputs": [],
   "source": [
    "score_models['PageRank+'] = get_recall(fn_recommendations_pagerank_)"
   ]
  },
  {
   "cell_type": "code",
   "execution_count": 172,
   "id": "subsequent-edition",
   "metadata": {},
   "outputs": [
    {
     "data": {
      "text/plain": [
       "0.018432448688068565"
      ]
     },
     "execution_count": 172,
     "metadata": {},
     "output_type": "execute_result"
    }
   ],
   "source": [
    "score_models['PageRank+']"
   ]
  },
  {
   "cell_type": "markdown",
   "id": "rotary-gabriel",
   "metadata": {},
   "source": [
    "## Recall pour TF-IDF"
   ]
  },
  {
   "cell_type": "code",
   "execution_count": 173,
   "id": "opposed-franklin",
   "metadata": {},
   "outputs": [],
   "source": [
    "args = {'term_document' : get_term_document_matrix()}"
   ]
  },
  {
   "cell_type": "code",
   "execution_count": 174,
   "id": "stopped-answer",
   "metadata": {},
   "outputs": [],
   "source": [
    "score_models['TF-IDF'] = get_recall(fn_recommendations_tfidf, args)"
   ]
  },
  {
   "cell_type": "code",
   "execution_count": 175,
   "id": "standing-notification",
   "metadata": {},
   "outputs": [
    {
     "data": {
      "text/plain": [
       "0.022689020875623387"
      ]
     },
     "execution_count": 175,
     "metadata": {},
     "output_type": "execute_result"
    }
   ],
   "source": [
    "score_models['TF-IDF']"
   ]
  },
  {
   "cell_type": "markdown",
   "id": "criminal-insulation",
   "metadata": {},
   "source": [
    "# Recall pour Word2Vec"
   ]
  },
  {
   "cell_type": "code",
   "execution_count": 179,
   "id": "painful-australian",
   "metadata": {},
   "outputs": [],
   "source": [
    "args = {'embedding' : get_embedding()}"
   ]
  },
  {
   "cell_type": "code",
   "execution_count": 185,
   "id": "amateur-handling",
   "metadata": {},
   "outputs": [],
   "source": [
    "score_models['Word2Vec'] =  get_recall(fn_recommendations_word2vec, args)"
   ]
  },
  {
   "cell_type": "code",
   "execution_count": 186,
   "id": "current-estate",
   "metadata": {},
   "outputs": [
    {
     "data": {
      "text/plain": [
       "0.0"
      ]
     },
     "execution_count": 186,
     "metadata": {},
     "output_type": "execute_result"
    }
   ],
   "source": [
    "score_models['Word2Vec']"
   ]
  },
  {
   "cell_type": "markdown",
   "id": "round-intensity",
   "metadata": {},
   "source": [
    "# Recall pour TF-IDF sur les titres"
   ]
  },
  {
   "cell_type": "code",
   "execution_count": 190,
   "id": "unexpected-australia",
   "metadata": {},
   "outputs": [],
   "source": [
    "args = {'term_document' : get_term_document_titles()}"
   ]
  },
  {
   "cell_type": "code",
   "execution_count": 191,
   "id": "forty-athletics",
   "metadata": {},
   "outputs": [],
   "source": [
    "score_models['TF-IDF titles'] = get_recall(fn_recommendations_titles, args)"
   ]
  },
  {
   "cell_type": "code",
   "execution_count": 192,
   "id": "fleet-patch",
   "metadata": {},
   "outputs": [
    {
     "data": {
      "text/plain": [
       "0.01630604215221913"
      ]
     },
     "execution_count": 192,
     "metadata": {},
     "output_type": "execute_result"
    }
   ],
   "source": [
    "score_models['TF-IDF titles']"
   ]
  },
  {
   "cell_type": "markdown",
   "id": "going-valuation",
   "metadata": {},
   "source": [
    "# Recall titre + PageRank++ "
   ]
  },
  {
   "cell_type": "code",
   "execution_count": 193,
   "id": "accepted-drama",
   "metadata": {},
   "outputs": [],
   "source": [
    "args = {'term_document' : get_term_document_titles(),\n",
    "       'title_neigh' : 100}"
   ]
  },
  {
   "cell_type": "code",
   "execution_count": 194,
   "id": "architectural-shipping",
   "metadata": {},
   "outputs": [],
   "source": [
    "score_models['PageRank + Titles'] = get_recall(fn_recommendations_pagerank_titles, args)"
   ]
  },
  {
   "cell_type": "code",
   "execution_count": 195,
   "id": "encouraging-council",
   "metadata": {},
   "outputs": [
    {
     "data": {
      "text/plain": [
       "0.02027717214244543"
      ]
     },
     "execution_count": 195,
     "metadata": {},
     "output_type": "execute_result"
    }
   ],
   "source": [
    "score_models['PageRank + Titles']"
   ]
  },
  {
   "cell_type": "markdown",
   "id": "historical-washer",
   "metadata": {},
   "source": [
    "# Recall vector space etendu avec Auteurs et Titres "
   ]
  },
  {
   "cell_type": "code",
   "execution_count": 196,
   "id": "bound-samba",
   "metadata": {},
   "outputs": [],
   "source": [
    "args = get_tf_idf_titles_authors()"
   ]
  },
  {
   "cell_type": "code",
   "execution_count": 197,
   "id": "killing-tokyo",
   "metadata": {},
   "outputs": [],
   "source": [
    "score_models['Vector Space + Titles + Authors'] = get_recall(fn_recommendations_vector_authors_titles, args)"
   ]
  },
  {
   "cell_type": "code",
   "execution_count": 198,
   "id": "hazardous-spouse",
   "metadata": {},
   "outputs": [
    {
     "data": {
      "text/plain": [
       "0.25637069894494147"
      ]
     },
     "execution_count": 198,
     "metadata": {},
     "output_type": "execute_result"
    }
   ],
   "source": [
    "score_models['Vector Space + Titles + Authors']"
   ]
  },
  {
   "cell_type": "markdown",
   "id": "worse-coach",
   "metadata": {},
   "source": [
    "# Recall PageRank extended "
   ]
  },
  {
   "cell_type": "code",
   "execution_count": 199,
   "id": "comprehensive-frame",
   "metadata": {},
   "outputs": [],
   "source": [
    "score_models['PageRank extended'] = get_recall(fn_recommendations_page_rank_extended)"
   ]
  },
  {
   "cell_type": "code",
   "execution_count": 200,
   "id": "dominant-update",
   "metadata": {},
   "outputs": [
    {
     "data": {
      "text/plain": [
       "0.3456276470440819"
      ]
     },
     "execution_count": 200,
     "metadata": {},
     "output_type": "execute_result"
    }
   ],
   "source": [
    "score_models['PageRank extended']"
   ]
  },
  {
   "cell_type": "markdown",
   "id": "little-linux",
   "metadata": {},
   "source": [
    "## Recall pour SBERT avec les titres "
   ]
  },
  {
   "cell_type": "code",
   "execution_count": 213,
   "id": "turned-ordinary",
   "metadata": {},
   "outputs": [],
   "source": [
    "args = {'column' : 'Titre', 'column2': None, 'concat' : None}"
   ]
  },
  {
   "cell_type": "code",
   "execution_count": 215,
   "id": "scheduled-diagnosis",
   "metadata": {},
   "outputs": [
    {
     "ename": "AttributeError",
     "evalue": "'tuple' object has no attribute 'values'",
     "output_type": "error",
     "traceback": [
      "\u001b[0;31m---------------------------------------------------------------------------\u001b[0m",
      "\u001b[0;31mAttributeError\u001b[0m                            Traceback (most recent call last)",
      "\u001b[0;32m<ipython-input-215-d9858b4592b3>\u001b[0m in \u001b[0;36m<module>\u001b[0;34m\u001b[0m\n\u001b[0;32m----> 1\u001b[0;31m \u001b[0mscore_models\u001b[0m\u001b[0;34m[\u001b[0m\u001b[0;34m'SBERT_titles'\u001b[0m\u001b[0;34m]\u001b[0m \u001b[0;34m=\u001b[0m \u001b[0mget_recall\u001b[0m\u001b[0;34m(\u001b[0m\u001b[0mfn_recommendations_sbert_embeds\u001b[0m\u001b[0;34m,\u001b[0m \u001b[0margs\u001b[0m\u001b[0;34m)\u001b[0m\u001b[0;34m\u001b[0m\u001b[0;34m\u001b[0m\u001b[0m\n\u001b[0m",
      "\u001b[0;32m<ipython-input-137-470d9e98b450>\u001b[0m in \u001b[0;36mget_recall\u001b[0;34m(fn_recommandations, *args, **kwargs)\u001b[0m\n\u001b[1;32m      6\u001b[0m         \u001b[0mrecall_val\u001b[0m \u001b[0;34m=\u001b[0m \u001b[0;34m[\u001b[0m\u001b[0;34m]\u001b[0m\u001b[0;34m\u001b[0m\u001b[0;34m\u001b[0m\u001b[0m\n\u001b[1;32m      7\u001b[0m         \u001b[0;32mfor\u001b[0m \u001b[0mmatrice_train\u001b[0m\u001b[0;34m,\u001b[0m \u001b[0mmatrice_test\u001b[0m \u001b[0;32min\u001b[0m \u001b[0mzip\u001b[0m\u001b[0;34m(\u001b[0m\u001b[0mtraining_adjacences\u001b[0m\u001b[0;34m,\u001b[0m \u001b[0mtesting_adjacences\u001b[0m\u001b[0;34m)\u001b[0m \u001b[0;34m:\u001b[0m\u001b[0;34m\u001b[0m\u001b[0;34m\u001b[0m\u001b[0m\n\u001b[0;32m----> 8\u001b[0;31m             \u001b[0mrecommandations\u001b[0m \u001b[0;34m=\u001b[0m \u001b[0mfn_recommandations\u001b[0m\u001b[0;34m(\u001b[0m\u001b[0mmatrice_train\u001b[0m\u001b[0;34m,\u001b[0m \u001b[0margs\u001b[0m\u001b[0;34m,\u001b[0m \u001b[0mkwargs\u001b[0m\u001b[0;34m)\u001b[0m\u001b[0;34m\u001b[0m\u001b[0;34m\u001b[0m\u001b[0m\n\u001b[0m\u001b[1;32m      9\u001b[0m             \u001b[0mcurrent_recall\u001b[0m \u001b[0;34m=\u001b[0m \u001b[0mfn_taux_rappel\u001b[0m\u001b[0;34m(\u001b[0m\u001b[0mmatrice_test\u001b[0m\u001b[0;34m,\u001b[0m \u001b[0mrecommandations\u001b[0m\u001b[0;34m)\u001b[0m\u001b[0;34m\u001b[0m\u001b[0;34m\u001b[0m\u001b[0m\n\u001b[1;32m     10\u001b[0m             \u001b[0mrecall_val\u001b[0m\u001b[0;34m.\u001b[0m\u001b[0mappend\u001b[0m\u001b[0;34m(\u001b[0m\u001b[0mcurrent_recall\u001b[0m\u001b[0;34m)\u001b[0m\u001b[0;34m\u001b[0m\u001b[0;34m\u001b[0m\u001b[0m\n",
      "\u001b[0;32m<ipython-input-210-7169c15d5c1b>\u001b[0m in \u001b[0;36mfn_recommendations_sbert_embeds\u001b[0;34m(matrice_adjacence_entrainement, df_sim, N)\u001b[0m\n\u001b[1;32m      1\u001b[0m \u001b[0;32mdef\u001b[0m \u001b[0mfn_recommendations_sbert_embeds\u001b[0m\u001b[0;34m(\u001b[0m\u001b[0mmatrice_adjacence_entrainement\u001b[0m\u001b[0;34m,\u001b[0m \u001b[0mdf_sim\u001b[0m\u001b[0;34m,\u001b[0m \u001b[0mN\u001b[0m\u001b[0;34m=\u001b[0m\u001b[0;36m20\u001b[0m\u001b[0;34m)\u001b[0m\u001b[0;34m:\u001b[0m\u001b[0;34m\u001b[0m\u001b[0;34m\u001b[0m\u001b[0m\n\u001b[1;32m      2\u001b[0m     \u001b[0;34m''' Return recommendations with the sbert method '''\u001b[0m\u001b[0;34m\u001b[0m\u001b[0;34m\u001b[0m\u001b[0m\n\u001b[0;32m----> 3\u001b[0;31m     \u001b[0mrecommendations\u001b[0m \u001b[0;34m=\u001b[0m \u001b[0mget_recommendations_sbert_embeds\u001b[0m\u001b[0;34m(\u001b[0m\u001b[0mmatrice_adjacence_entrainement\u001b[0m\u001b[0;34m,\u001b[0m \u001b[0mdf_sim\u001b[0m\u001b[0;34m,\u001b[0m \u001b[0mN\u001b[0m\u001b[0;34m=\u001b[0m\u001b[0;36m20\u001b[0m\u001b[0;34m)\u001b[0m\u001b[0;34m\u001b[0m\u001b[0;34m\u001b[0m\u001b[0m\n\u001b[0m\u001b[1;32m      4\u001b[0m     \u001b[0mm_rec\u001b[0m \u001b[0;34m=\u001b[0m \u001b[0mconvert_recommendation_matrix\u001b[0m\u001b[0;34m(\u001b[0m\u001b[0mrecommendations\u001b[0m\u001b[0;34m)\u001b[0m\u001b[0;34m\u001b[0m\u001b[0;34m\u001b[0m\u001b[0m\n\u001b[1;32m      5\u001b[0m     \u001b[0;32mreturn\u001b[0m \u001b[0mm_rec\u001b[0m\u001b[0;34m\u001b[0m\u001b[0;34m\u001b[0m\u001b[0m\n",
      "\u001b[0;32m<ipython-input-208-9b8ced186dd4>\u001b[0m in \u001b[0;36mget_recommendations_sbert_embeds\u001b[0;34m(matrice_adjacence_entrainement, df_sim, N)\u001b[0m\n\u001b[1;32m      2\u001b[0m     \u001b[0;34m''' Return the top N recommendation using the sbert similarities '''\u001b[0m\u001b[0;34m\u001b[0m\u001b[0;34m\u001b[0m\u001b[0m\n\u001b[1;32m      3\u001b[0m     \u001b[0;31m# Get the indexes that maximises the similarity\u001b[0m\u001b[0;34m\u001b[0m\u001b[0;34m\u001b[0m\u001b[0;34m\u001b[0m\u001b[0m\n\u001b[0;32m----> 4\u001b[0;31m     \u001b[0midx\u001b[0m \u001b[0;34m=\u001b[0m \u001b[0;34m(\u001b[0m\u001b[0;34m-\u001b[0m\u001b[0mdf_sim\u001b[0m\u001b[0;34m.\u001b[0m\u001b[0mvalues\u001b[0m\u001b[0;34m)\u001b[0m\u001b[0;34m.\u001b[0m\u001b[0margsort\u001b[0m\u001b[0;34m(\u001b[0m\u001b[0;34m)\u001b[0m\u001b[0;34m\u001b[0m\u001b[0;34m\u001b[0m\u001b[0m\n\u001b[0m\u001b[1;32m      5\u001b[0m     \u001b[0;31m# Keep the N max\u001b[0m\u001b[0;34m\u001b[0m\u001b[0;34m\u001b[0m\u001b[0;34m\u001b[0m\u001b[0m\n\u001b[1;32m      6\u001b[0m     \u001b[0midx\u001b[0m \u001b[0;34m=\u001b[0m \u001b[0midx\u001b[0m\u001b[0;34m[\u001b[0m\u001b[0;34m:\u001b[0m\u001b[0;34m,\u001b[0m\u001b[0;34m:\u001b[0m\u001b[0mN\u001b[0m\u001b[0;34m]\u001b[0m\u001b[0;34m\u001b[0m\u001b[0;34m\u001b[0m\u001b[0m\n",
      "\u001b[0;31mAttributeError\u001b[0m: 'tuple' object has no attribute 'values'"
     ]
    }
   ],
   "source": [
    "score_models['SBERT_titles'] = get_recall(fn_recommendations_sbert_embeds, args)"
   ]
  },
  {
   "cell_type": "code",
   "execution_count": 78,
   "id": "amino-madagascar",
   "metadata": {},
   "outputs": [
    {
     "data": {
      "text/plain": [
       "0.17368117685387063"
      ]
     },
     "execution_count": 78,
     "metadata": {},
     "output_type": "execute_result"
    }
   ],
   "source": [
    "score_models['SBERT_titles']"
   ]
  },
  {
   "cell_type": "markdown",
   "id": "paperback-client",
   "metadata": {},
   "source": [
    "## Recall pour SBERT avec les descriptions "
   ]
  },
  {
   "cell_type": "code",
   "execution_count": 217,
   "id": "incorrect-instrumentation",
   "metadata": {},
   "outputs": [],
   "source": [
    "args = {'column' : 'Description', 'column2': None, 'concat' : None}"
   ]
  },
  {
   "cell_type": "code",
   "execution_count": 218,
   "id": "equivalent-diamond",
   "metadata": {},
   "outputs": [
    {
     "ename": "AttributeError",
     "evalue": "'tuple' object has no attribute 'values'",
     "output_type": "error",
     "traceback": [
      "\u001b[0;31m---------------------------------------------------------------------------\u001b[0m",
      "\u001b[0;31mAttributeError\u001b[0m                            Traceback (most recent call last)",
      "\u001b[0;32m<ipython-input-218-4f477d6bcf03>\u001b[0m in \u001b[0;36m<module>\u001b[0;34m\u001b[0m\n\u001b[0;32m----> 1\u001b[0;31m \u001b[0mscore_models\u001b[0m\u001b[0;34m[\u001b[0m\u001b[0;34m'SBERT_Description'\u001b[0m\u001b[0;34m]\u001b[0m \u001b[0;34m=\u001b[0m \u001b[0mget_recall\u001b[0m\u001b[0;34m(\u001b[0m\u001b[0mfn_recommendations_sbert_embeds\u001b[0m\u001b[0;34m,\u001b[0m \u001b[0margs\u001b[0m\u001b[0;34m)\u001b[0m\u001b[0;34m\u001b[0m\u001b[0;34m\u001b[0m\u001b[0m\n\u001b[0m",
      "\u001b[0;32m<ipython-input-137-470d9e98b450>\u001b[0m in \u001b[0;36mget_recall\u001b[0;34m(fn_recommandations, *args, **kwargs)\u001b[0m\n\u001b[1;32m      6\u001b[0m         \u001b[0mrecall_val\u001b[0m \u001b[0;34m=\u001b[0m \u001b[0;34m[\u001b[0m\u001b[0;34m]\u001b[0m\u001b[0;34m\u001b[0m\u001b[0;34m\u001b[0m\u001b[0m\n\u001b[1;32m      7\u001b[0m         \u001b[0;32mfor\u001b[0m \u001b[0mmatrice_train\u001b[0m\u001b[0;34m,\u001b[0m \u001b[0mmatrice_test\u001b[0m \u001b[0;32min\u001b[0m \u001b[0mzip\u001b[0m\u001b[0;34m(\u001b[0m\u001b[0mtraining_adjacences\u001b[0m\u001b[0;34m,\u001b[0m \u001b[0mtesting_adjacences\u001b[0m\u001b[0;34m)\u001b[0m \u001b[0;34m:\u001b[0m\u001b[0;34m\u001b[0m\u001b[0;34m\u001b[0m\u001b[0m\n\u001b[0;32m----> 8\u001b[0;31m             \u001b[0mrecommandations\u001b[0m \u001b[0;34m=\u001b[0m \u001b[0mfn_recommandations\u001b[0m\u001b[0;34m(\u001b[0m\u001b[0mmatrice_train\u001b[0m\u001b[0;34m,\u001b[0m \u001b[0margs\u001b[0m\u001b[0;34m,\u001b[0m \u001b[0mkwargs\u001b[0m\u001b[0;34m)\u001b[0m\u001b[0;34m\u001b[0m\u001b[0;34m\u001b[0m\u001b[0m\n\u001b[0m\u001b[1;32m      9\u001b[0m             \u001b[0mcurrent_recall\u001b[0m \u001b[0;34m=\u001b[0m \u001b[0mfn_taux_rappel\u001b[0m\u001b[0;34m(\u001b[0m\u001b[0mmatrice_test\u001b[0m\u001b[0;34m,\u001b[0m \u001b[0mrecommandations\u001b[0m\u001b[0;34m)\u001b[0m\u001b[0;34m\u001b[0m\u001b[0;34m\u001b[0m\u001b[0m\n\u001b[1;32m     10\u001b[0m             \u001b[0mrecall_val\u001b[0m\u001b[0;34m.\u001b[0m\u001b[0mappend\u001b[0m\u001b[0;34m(\u001b[0m\u001b[0mcurrent_recall\u001b[0m\u001b[0;34m)\u001b[0m\u001b[0;34m\u001b[0m\u001b[0;34m\u001b[0m\u001b[0m\n",
      "\u001b[0;32m<ipython-input-210-7169c15d5c1b>\u001b[0m in \u001b[0;36mfn_recommendations_sbert_embeds\u001b[0;34m(matrice_adjacence_entrainement, df_sim, N)\u001b[0m\n\u001b[1;32m      1\u001b[0m \u001b[0;32mdef\u001b[0m \u001b[0mfn_recommendations_sbert_embeds\u001b[0m\u001b[0;34m(\u001b[0m\u001b[0mmatrice_adjacence_entrainement\u001b[0m\u001b[0;34m,\u001b[0m \u001b[0mdf_sim\u001b[0m\u001b[0;34m,\u001b[0m \u001b[0mN\u001b[0m\u001b[0;34m=\u001b[0m\u001b[0;36m20\u001b[0m\u001b[0;34m)\u001b[0m\u001b[0;34m:\u001b[0m\u001b[0;34m\u001b[0m\u001b[0;34m\u001b[0m\u001b[0m\n\u001b[1;32m      2\u001b[0m     \u001b[0;34m''' Return recommendations with the sbert method '''\u001b[0m\u001b[0;34m\u001b[0m\u001b[0;34m\u001b[0m\u001b[0m\n\u001b[0;32m----> 3\u001b[0;31m     \u001b[0mrecommendations\u001b[0m \u001b[0;34m=\u001b[0m \u001b[0mget_recommendations_sbert_embeds\u001b[0m\u001b[0;34m(\u001b[0m\u001b[0mmatrice_adjacence_entrainement\u001b[0m\u001b[0;34m,\u001b[0m \u001b[0mdf_sim\u001b[0m\u001b[0;34m,\u001b[0m \u001b[0mN\u001b[0m\u001b[0;34m=\u001b[0m\u001b[0;36m20\u001b[0m\u001b[0;34m)\u001b[0m\u001b[0;34m\u001b[0m\u001b[0;34m\u001b[0m\u001b[0m\n\u001b[0m\u001b[1;32m      4\u001b[0m     \u001b[0mm_rec\u001b[0m \u001b[0;34m=\u001b[0m \u001b[0mconvert_recommendation_matrix\u001b[0m\u001b[0;34m(\u001b[0m\u001b[0mrecommendations\u001b[0m\u001b[0;34m)\u001b[0m\u001b[0;34m\u001b[0m\u001b[0;34m\u001b[0m\u001b[0m\n\u001b[1;32m      5\u001b[0m     \u001b[0;32mreturn\u001b[0m \u001b[0mm_rec\u001b[0m\u001b[0;34m\u001b[0m\u001b[0;34m\u001b[0m\u001b[0m\n",
      "\u001b[0;32m<ipython-input-208-9b8ced186dd4>\u001b[0m in \u001b[0;36mget_recommendations_sbert_embeds\u001b[0;34m(matrice_adjacence_entrainement, df_sim, N)\u001b[0m\n\u001b[1;32m      2\u001b[0m     \u001b[0;34m''' Return the top N recommendation using the sbert similarities '''\u001b[0m\u001b[0;34m\u001b[0m\u001b[0;34m\u001b[0m\u001b[0m\n\u001b[1;32m      3\u001b[0m     \u001b[0;31m# Get the indexes that maximises the similarity\u001b[0m\u001b[0;34m\u001b[0m\u001b[0;34m\u001b[0m\u001b[0;34m\u001b[0m\u001b[0m\n\u001b[0;32m----> 4\u001b[0;31m     \u001b[0midx\u001b[0m \u001b[0;34m=\u001b[0m \u001b[0;34m(\u001b[0m\u001b[0;34m-\u001b[0m\u001b[0mdf_sim\u001b[0m\u001b[0;34m.\u001b[0m\u001b[0mvalues\u001b[0m\u001b[0;34m)\u001b[0m\u001b[0;34m.\u001b[0m\u001b[0margsort\u001b[0m\u001b[0;34m(\u001b[0m\u001b[0;34m)\u001b[0m\u001b[0;34m\u001b[0m\u001b[0;34m\u001b[0m\u001b[0m\n\u001b[0m\u001b[1;32m      5\u001b[0m     \u001b[0;31m# Keep the N max\u001b[0m\u001b[0;34m\u001b[0m\u001b[0;34m\u001b[0m\u001b[0;34m\u001b[0m\u001b[0m\n\u001b[1;32m      6\u001b[0m     \u001b[0midx\u001b[0m \u001b[0;34m=\u001b[0m \u001b[0midx\u001b[0m\u001b[0;34m[\u001b[0m\u001b[0;34m:\u001b[0m\u001b[0;34m,\u001b[0m\u001b[0;34m:\u001b[0m\u001b[0mN\u001b[0m\u001b[0;34m]\u001b[0m\u001b[0;34m\u001b[0m\u001b[0;34m\u001b[0m\u001b[0m\n",
      "\u001b[0;31mAttributeError\u001b[0m: 'tuple' object has no attribute 'values'"
     ]
    }
   ],
   "source": [
    "score_models['SBERT_Description'] = get_recall(fn_recommendations_sbert_embeds, args)"
   ]
  },
  {
   "cell_type": "code",
   "execution_count": 81,
   "id": "given-station",
   "metadata": {},
   "outputs": [
    {
     "data": {
      "text/plain": [
       "0.2155201363306017"
      ]
     },
     "execution_count": 81,
     "metadata": {},
     "output_type": "execute_result"
    }
   ],
   "source": [
    "score_models['SBERT_Description']"
   ]
  },
  {
   "cell_type": "markdown",
   "id": "civil-billy",
   "metadata": {},
   "source": [
    "## Recall pour SBERT en combinant les titres + les descriptions "
   ]
  },
  {
   "cell_type": "code",
   "execution_count": 82,
   "id": "beautiful-lying",
   "metadata": {},
   "outputs": [],
   "source": [
    "args = {'column' : 'Titre', 'column2': 'Description', 'concat' : True}"
   ]
  },
  {
   "cell_type": "code",
   "execution_count": 83,
   "id": "opposed-error",
   "metadata": {},
   "outputs": [],
   "source": [
    "score_models['SBERT_Titles_Description'] = get_recall(fn_recommendations_sbert_embeds, args)"
   ]
  },
  {
   "cell_type": "code",
   "execution_count": 84,
   "id": "diverse-cause",
   "metadata": {},
   "outputs": [
    {
     "data": {
      "text/plain": [
       "0.23465528907600933"
      ]
     },
     "execution_count": 84,
     "metadata": {},
     "output_type": "execute_result"
    }
   ],
   "source": [
    "score_models['SBERT_Titles_Description']"
   ]
  },
  {
   "cell_type": "markdown",
   "id": "boring-earthquake",
   "metadata": {},
   "source": [
    "## Recall pour SBERT en combinant les titres + les descriptions + PageRank++"
   ]
  },
  {
   "cell_type": "code",
   "execution_count": 85,
   "id": "dimensional-dublin",
   "metadata": {},
   "outputs": [],
   "source": [
    "args = {'column' : 'Titre', 'column2': 'Description', 'concat' : True}"
   ]
  },
  {
   "cell_type": "code",
   "execution_count": null,
   "id": "fluid-howard",
   "metadata": {},
   "outputs": [],
   "source": [
    "score_models['SBERT_Titles_Description_PageRank++']= get_recall(fn_recommendations_pagerank_titles,args)"
   ]
  },
  {
   "cell_type": "code",
   "execution_count": 296,
   "id": "emerging-jerusalem",
   "metadata": {},
   "outputs": [
    {
     "data": {
      "text/plain": [
       "0.02977470365636669"
      ]
     },
     "execution_count": 296,
     "metadata": {},
     "output_type": "execute_result"
    }
   ],
   "source": [
    "global_mean_recall_pg_descriptions"
   ]
  },
  {
   "cell_type": "markdown",
   "id": "serious-johnston",
   "metadata": {},
   "source": [
    "# Summary "
   ]
  },
  {
   "cell_type": "code",
   "execution_count": 201,
   "id": "rational-family",
   "metadata": {},
   "outputs": [],
   "source": [
    "def get_summary(score_models,order = True) : \n",
    "    ''' Return a DataFrame with the summary of the results '''\n",
    "    if order : \n",
    "        score_models = {key : -100 * value for key,value in zip(list(score_models.keys()), list(score_models.values()))}\n",
    "        score_models = {key: value for key, value in sorted(score_models.items(), key=lambda item: item[1])}\n",
    "        score_models = {key : -value for key,value in zip(list(score_models.keys()), list(score_models.values()))}\n",
    "    to_df = {'Algorithm' : list(score_models.keys()) , 'Recall' : list(score_models.values())}\n",
    "    \n",
    "    return pd.DataFrame(to_df)"
   ]
  },
  {
   "cell_type": "code",
   "execution_count": 202,
   "id": "prescription-obligation",
   "metadata": {},
   "outputs": [],
   "source": [
    "df = get_summary(score_models, order = True)"
   ]
  },
  {
   "cell_type": "code",
   "execution_count": 203,
   "id": "similar-glucose",
   "metadata": {},
   "outputs": [
    {
     "data": {
      "text/html": [
       "<div>\n",
       "<style scoped>\n",
       "    .dataframe tbody tr th:only-of-type {\n",
       "        vertical-align: middle;\n",
       "    }\n",
       "\n",
       "    .dataframe tbody tr th {\n",
       "        vertical-align: top;\n",
       "    }\n",
       "\n",
       "    .dataframe thead th {\n",
       "        text-align: right;\n",
       "    }\n",
       "</style>\n",
       "<table border=\"1\" class=\"dataframe\">\n",
       "  <thead>\n",
       "    <tr style=\"text-align: right;\">\n",
       "      <th></th>\n",
       "      <th>Algorithm</th>\n",
       "      <th>Recall</th>\n",
       "    </tr>\n",
       "  </thead>\n",
       "  <tbody>\n",
       "    <tr>\n",
       "      <th>0</th>\n",
       "      <td>PageRank extended</td>\n",
       "      <td>34.562765</td>\n",
       "    </tr>\n",
       "    <tr>\n",
       "      <th>1</th>\n",
       "      <td>Vector Space + Titles + Authors</td>\n",
       "      <td>25.637070</td>\n",
       "    </tr>\n",
       "    <tr>\n",
       "      <th>2</th>\n",
       "      <td>Vector Space</td>\n",
       "      <td>22.055735</td>\n",
       "    </tr>\n",
       "    <tr>\n",
       "      <th>3</th>\n",
       "      <td>TF-IDF</td>\n",
       "      <td>2.268902</td>\n",
       "    </tr>\n",
       "    <tr>\n",
       "      <th>4</th>\n",
       "      <td>PageRank + Titles</td>\n",
       "      <td>2.027717</td>\n",
       "    </tr>\n",
       "    <tr>\n",
       "      <th>5</th>\n",
       "      <td>PageRank</td>\n",
       "      <td>1.843445</td>\n",
       "    </tr>\n",
       "    <tr>\n",
       "      <th>6</th>\n",
       "      <td>PageRank+</td>\n",
       "      <td>1.843245</td>\n",
       "    </tr>\n",
       "    <tr>\n",
       "      <th>7</th>\n",
       "      <td>TF-IDF titles</td>\n",
       "      <td>1.630604</td>\n",
       "    </tr>\n",
       "    <tr>\n",
       "      <th>8</th>\n",
       "      <td>Word2Vec</td>\n",
       "      <td>0.000000</td>\n",
       "    </tr>\n",
       "  </tbody>\n",
       "</table>\n",
       "</div>"
      ],
      "text/plain": [
       "                         Algorithm     Recall\n",
       "0                PageRank extended  34.562765\n",
       "1  Vector Space + Titles + Authors  25.637070\n",
       "2                     Vector Space  22.055735\n",
       "3                           TF-IDF   2.268902\n",
       "4                PageRank + Titles   2.027717\n",
       "5                         PageRank   1.843445\n",
       "6                        PageRank+   1.843245\n",
       "7                    TF-IDF titles   1.630604\n",
       "8                         Word2Vec   0.000000"
      ]
     },
     "execution_count": 203,
     "metadata": {},
     "output_type": "execute_result"
    }
   ],
   "source": [
    "df"
   ]
  },
  {
   "cell_type": "code",
   "execution_count": 204,
   "id": "statistical-variable",
   "metadata": {},
   "outputs": [
    {
     "data": {
      "text/plain": [
       "[Text(0, 0, 'PageRank extended'),\n",
       " Text(1, 0, 'Vector Space + Titles + Authors'),\n",
       " Text(2, 0, 'Vector Space'),\n",
       " Text(3, 0, 'TF-IDF'),\n",
       " Text(4, 0, 'PageRank + Titles'),\n",
       " Text(5, 0, 'PageRank'),\n",
       " Text(6, 0, 'PageRank+'),\n",
       " Text(7, 0, 'TF-IDF titles'),\n",
       " Text(8, 0, 'Word2Vec')]"
      ]
     },
     "execution_count": 204,
     "metadata": {},
     "output_type": "execute_result"
    },
    {
     "data": {
      "image/png": "[encoded data removed]",
      "text/plain": [
       "<Figure size 1008x576 with 1 Axes>"
      ]
     },
     "metadata": {},
     "output_type": "display_data"
    }
   ],
   "source": [
    "sns.set(rc={'figure.figsize':(14,8)})\n",
    "g = sns.barplot(data = df\n",
    "          ,x = 'Algorithm'\n",
    "          ,y = 'Recall'\n",
    "          ,ci = None\n",
    "          )  \n",
    "g.set_xticklabels(g.get_xticklabels(),rotation=30)"
   ]
  },
  {
   "cell_type": "code",
   "execution_count": null,
   "id": "suspected-lingerie",
   "metadata": {},
   "outputs": [],
   "source": []
  },
  {
   "cell_type": "code",
   "execution_count": null,
   "id": "announced-banking",
   "metadata": {},
   "outputs": [],
   "source": []
  },
  {
   "cell_type": "code",
   "execution_count": null,
   "id": "alive-zealand",
   "metadata": {},
   "outputs": [],
   "source": []
  }
 ],
 "metadata": {
  "kernelspec": {
   "display_name": "log6308_tp2",
   "language": "python",
   "name": "log6308_tp2"
  },
  "language_info": {
   "codemirror_mode": {
    "name": "ipython",
    "version": 3
   },
   "file_extension": ".py",
   "mimetype": "text/x-python",
   "name": "python",
   "nbconvert_exporter": "python",
   "pygments_lexer": "ipython3",
   "version": "3.8.5"
  }
 },
 "nbformat": 4,
 "nbformat_minor": 5
}
